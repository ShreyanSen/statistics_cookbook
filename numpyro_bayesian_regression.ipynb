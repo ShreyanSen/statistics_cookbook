{
 "cells": [
  {
   "cell_type": "markdown",
   "id": "fc578b19-bfcc-43d6-aba7-6f6c1210316a",
   "metadata": {},
   "source": [
    "# Bayesian Regression\n",
    "\n",
    "Experiment with what you see here until you learn things:\n",
    "https://num.pyro.ai/en/latest/tutorials/bayesian_regression.html\n",
    "\n",
    "Also helps to follow along in ch.5 of statistical rethinking :) "
   ]
  },
  {
   "cell_type": "code",
   "execution_count": 4,
   "id": "1cc947be-c6f8-4950-b645-7c2f4e6c5bdb",
   "metadata": {},
   "outputs": [],
   "source": [
    "import jax.numpy as jnp\n",
    "from jax import random, vmap\n",
    "from jax.scipy.special import logsumexp\n",
    "import matplotlib.pyplot as plt\n",
    "import numpy as np\n",
    "import pandas as pd\n",
    "import seaborn as sns\n",
    "\n",
    "import numpyro\n",
    "from numpyro.diagnostics import hpdi\n",
    "import numpyro.distributions as dist\n",
    "from numpyro import handlers\n",
    "from numpyro.infer import MCMC, NUTS"
   ]
  },
  {
   "cell_type": "markdown",
   "id": "43fd9966-33c3-4629-b06b-d7f43c9785fa",
   "metadata": {},
   "source": [
    "I have a question about the model! I can't always tell why we need certain things to be distributions vs. just values. For instance, why have sigma be a random variable rather than just a value that gets a bayesian update? Is that how bayesian updates work? Any distribution we define should get its posterior equivalent right? So we wouldn't have a posterior sigma but do we need one? \n",
    "\n"
   ]
  },
  {
   "cell_type": "code",
   "execution_count": 7,
   "id": "0f034786-ee23-4b54-ba83-5094c5441054",
   "metadata": {},
   "outputs": [
    {
     "data": {
      "text/plain": [
       "array([ 0.47080609,  0.38457783, -0.79488996,  0.39362725, -0.62204679,\n",
       "        0.28065362,  0.3535602 ,  0.01195193,  0.75206357, -0.1549927 ])"
      ]
     },
     "execution_count": 7,
     "metadata": {},
     "output_type": "execute_result"
    }
   ],
   "source": [
    "np.random.normal(0.0,0.5,10)"
   ]
  },
  {
   "cell_type": "code",
   "execution_count": null,
   "id": "f5f758fd-7e0b-441c-ae5a-805634843349",
   "metadata": {},
   "outputs": [],
   "source": [
    "# generate the data\n",
    "\n",
    "def gen_data():\n",
    "    state = np.arange(0,50)\n",
    "    age = np.random.normal(28, 4, 50)\n",
    "    marriage\n",
    "    beta_marriage = np.random.normal(0.1,0.8,50)\n",
    "    beta_age = np.random.normal(-0.1,0.3,50)\n",
    "    \n",
    "\n",
    "    "
   ]
  },
  {
   "cell_type": "code",
   "execution_count": null,
   "id": "3c1f7d4b-3277-409a-834c-cc05db39a4fa",
   "metadata": {},
   "outputs": [],
   "source": [
    "def model1(marriage=None, age=None, divorce=None):\n",
    "    a = numpyro.sample(\"a\", dist.Normal(0.0, 0.2))\n",
    "    M, A = 0.0, 0.0\n",
    "    if marriage is not None:\n",
    "        bM = numpyro.sample(\"bM\", dist.Normal(0.0, 0.5))\n",
    "        M = bM * marriage\n",
    "    if age is not None:\n",
    "        bA = numpyro.sample(\"bA\", dist.Normal(0.0, 0.5))\n",
    "        A = bA * age\n",
    "    sigma = numpyro.sample(\"sigma\", dist.Exponential(1.0))\n",
    "    mu = a + M + A\n",
    "    numpyro.sample(\"obs\", dist.Normal(mu, sigma), obs=divorce)\n",
    "\n",
    "\n",
    "def model2(marriage=None, age=None, divorce=None):\n",
    "    a = numpyro.sample(\"a\", dist.Normal(0.0, 0.2))\n",
    "    M, A = 0.0, 0.0\n",
    "    if marriage is not None:\n",
    "        bM = numpyro.sample(\"bM\", dist.Normal(0.0, 0.5))\n",
    "        M = bM * marriage\n",
    "    if age is not None:\n",
    "        bA = numpyro.sample(\"bA\", dist.Normal(0.0, 0.5))\n",
    "        A = bA * age\n",
    "    sigma = 0.5\n",
    "    mu = a + M + A\n",
    "    numpyro.sample(\"obs\", dist.Normal(mu, sigma), obs=divorce)"
   ]
  }
 ],
 "metadata": {
  "kernelspec": {
   "display_name": "Python 3 (ipykernel)",
   "language": "python",
   "name": "python3"
  },
  "language_info": {
   "codemirror_mode": {
    "name": "ipython",
    "version": 3
   },
   "file_extension": ".py",
   "mimetype": "text/x-python",
   "name": "python",
   "nbconvert_exporter": "python",
   "pygments_lexer": "ipython3",
   "version": "3.9.5"
  }
 },
 "nbformat": 4,
 "nbformat_minor": 5
}
