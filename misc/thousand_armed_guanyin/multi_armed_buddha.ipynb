{
 "cells": [
  {
   "cell_type": "markdown",
   "id": "b5d7c10a-8bf5-4585-a59a-3d558f70cf88",
   "metadata": {},
   "source": [
    "bayesian multi-armed bandit runs on a relatively simple procedure. assigning everyone a beta prior, we sample the success probabilities from everyone's beta distribution, rank them, and then go \"pull the lever\" on the k highest. after that, we feed the evidence in to update and get beta posteriors. then we do it again. \n",
    "\n",
    "\n",
    "similarly, we want to build a system that is sampling as it is distributing, and is updating the estimated need function in a location by how the location responds. "
   ]
  }
 ],
 "metadata": {
  "kernelspec": {
   "display_name": "Python 3 (ipykernel)",
   "language": "python",
   "name": "python3"
  },
  "language_info": {
   "codemirror_mode": {
    "name": "ipython",
    "version": 3
   },
   "file_extension": ".py",
   "mimetype": "text/x-python",
   "name": "python",
   "nbconvert_exporter": "python",
   "pygments_lexer": "ipython3",
   "version": "3.10.5"
  }
 },
 "nbformat": 4,
 "nbformat_minor": 5
}
