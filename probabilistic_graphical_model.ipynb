{
 "cells": [
  {
   "cell_type": "code",
   "execution_count": 1,
   "id": "c078745a-3f69-4888-95ca-3649161373f3",
   "metadata": {},
   "outputs": [],
   "source": [
    "import pgmpy"
   ]
  },
  {
   "cell_type": "markdown",
   "id": "af96b026-9859-468d-b4ca-85f984bb3669",
   "metadata": {},
   "source": [
    "following these two:\n",
    "\n",
    "https://pgmpy.org/\n",
    "\n",
    "https://github.com/pgmpy/pgmpy_notebook/tree/master/notebooks\n",
    "\n",
    "https://github.com/pgmpy/pgmpy/tree/dev/examples\n",
    "\n",
    "\n",
    "start by replicating this example: \n",
    "https://github.com/pgmpy/pgmpy_notebook/blob/master/notebooks/2.%20Bayesian%20Networks.ipynb\n"
   ]
  },
  {
   "cell_type": "code",
   "execution_count": null,
   "id": "a7cb32e4-e315-48ff-b646-af9a7ed1a80c",
   "metadata": {},
   "outputs": [],
   "source": []
  }
 ],
 "metadata": {
  "kernelspec": {
   "display_name": "Python 3 (ipykernel)",
   "language": "python",
   "name": "python3"
  },
  "language_info": {
   "codemirror_mode": {
    "name": "ipython",
    "version": 3
   },
   "file_extension": ".py",
   "mimetype": "text/x-python",
   "name": "python",
   "nbconvert_exporter": "python",
   "pygments_lexer": "ipython3",
   "version": "3.10.5"
  }
 },
 "nbformat": 4,
 "nbformat_minor": 5
}
