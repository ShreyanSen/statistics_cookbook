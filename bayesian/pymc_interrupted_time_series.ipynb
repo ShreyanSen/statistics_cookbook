{
 "cells": [
  {
   "cell_type": "markdown",
   "id": "d99fe3d7-ae38-4ba6-88ed-fb833950ad59",
   "metadata": {},
   "source": [
    "# Interrupted Time Series\n",
    "\n",
    "in which we follow: https://www.pymc.io/projects/examples/en/latest/causal_inference/interrupted_time_series.html"
   ]
  },
  {
   "cell_type": "code",
   "execution_count": null,
   "id": "cbe7ccb9-0169-4e91-87ef-6f55673c649d",
   "metadata": {},
   "outputs": [],
   "source": []
  }
 ],
 "metadata": {
  "kernelspec": {
   "display_name": "Python 3 (ipykernel)",
   "language": "python",
   "name": "python3"
  },
  "language_info": {
   "codemirror_mode": {
    "name": "ipython",
    "version": 3
   },
   "file_extension": ".py",
   "mimetype": "text/x-python",
   "name": "python",
   "nbconvert_exporter": "python",
   "pygments_lexer": "ipython3",
   "version": "3.9.5"
  }
 },
 "nbformat": 4,
 "nbformat_minor": 5
}
