{
 "cells": [
  {
   "cell_type": "code",
   "execution_count": 3,
   "id": "89d45e8e-f89a-4db8-93bc-cf5a603d3555",
   "metadata": {
    "scrolled": true
   },
   "outputs": [
    {
     "name": "stderr",
     "output_type": "stream",
     "text": [
      "WARNING (pytensor.tensor.blas): Using NumPy C-API based implementation for BLAS functions.\n"
     ]
    }
   ],
   "source": [
    "import pymc as pm\n",
    "import numpy as np"
   ]
  },
  {
   "cell_type": "code",
   "execution_count": 38,
   "id": "17fae13b-bb23-4ea2-b4dc-ef1f1938e7ab",
   "metadata": {},
   "outputs": [],
   "source": [
    "import matplotlib.pyplot as plt"
   ]
  },
  {
   "cell_type": "markdown",
   "id": "8df57ae8-73bb-47c9-a722-6a6bc3b089e5",
   "metadata": {},
   "source": [
    "# Problem Set Up\n",
    "\n",
    "We're going to set up a ds problem using the same generative model that we're going to solve it with. This means if we do things right, we should have a really good shot of going \"backwards\" from our data to discovering the model parameters that created it. Let's try it, and see if it works!\n",
    "\n",
    "The basic problem is a change point detection problem (in the number of counts per day that we see of something we're measuring). We want to know where the shift in behavior happened from one poisson distribution to another.\n",
    "\n",
    "following here:\n",
    "https://github.com/CamDavidsonPilon/Probabilistic-Programming-and-Bayesian-Methods-for-Hackers/blob/master/Chapter1_Introduction/Ch1_Introduction_PyMC_current.ipynb\n",
    "\n",
    "which stems from: https://github.com/CamDavidsonPilon/Probabilistic-Programming-and-Bayesian-Methods-for-Hackers \n",
    "\n"
   ]
  },
  {
   "cell_type": "code",
   "execution_count": 4,
   "id": "7b1570d2-3e72-44ff-a481-3bf540355a9f",
   "metadata": {},
   "outputs": [],
   "source": [
    "# gen data\n",
    "\n",
    "count_data_1 = np.random.poisson(10, 50)\n",
    "count_data_2 = np.random.poisson(30,20)\n",
    "count_data = np.concatenate((count_data_1, count_data_2))\n",
    "count_data\n",
    "n_count_data = len(count_data)"
   ]
  },
  {
   "cell_type": "code",
   "execution_count": 10,
   "id": "6927578c-b42f-4c21-976a-dd5377d56dce",
   "metadata": {},
   "outputs": [
    {
     "data": {
      "text/plain": [
       "array([12, 14, 10, 10,  8, 14,  9, 11,  8,  8, 11,  7,  7,  5,  5, 15, 10,\n",
       "       11, 14,  6, 14, 11,  6,  8, 12, 12, 11, 12, 11, 13, 12,  9,  6, 12,\n",
       "       14, 14,  8, 15,  8, 13,  9, 12, 10, 11, 12,  6,  4,  5,  6, 12, 35,\n",
       "       30, 25, 29, 30, 27, 33, 22, 40, 19, 23, 33, 26, 26, 27, 33, 34, 35,\n",
       "       27, 26])"
      ]
     },
     "execution_count": 10,
     "metadata": {},
     "output_type": "execute_result"
    }
   ],
   "source": [
    "count_data"
   ]
  },
  {
   "cell_type": "markdown",
   "id": "659f73f9-b084-43a6-a24d-8423a07b03c6",
   "metadata": {},
   "source": [
    "^ we have some data! we've set it so there really are two processes here, and the transition point occurs at t=51"
   ]
  },
  {
   "cell_type": "code",
   "execution_count": 5,
   "id": "aaecfdf9-b5e5-4b93-a842-ea690e6da49d",
   "metadata": {},
   "outputs": [],
   "source": [
    "with pm.Model() as model:\n",
    "    alpha = 1.0/count_data.mean() # prior guess for alpha is the inverse of the mean of our data\n",
    "\n",
    "    # think about how we would generate a hypothetical instance of this data\n",
    "    lambda_1 = pm.Exponential(\"lambda_1\", alpha) # draw a lambda_1 from our distbution\n",
    "    lambda_2 = pm.Exponential(\"lambda_2\", alpha) # draw a second lambda we'll use after our switchpoint\n",
    "    \n",
    "    tau = pm.DiscreteUniform(\"tau\", lower=0, upper=n_count_data - 1) # we generate a random switchpoint from a discrete uniform"
   ]
  },
  {
   "cell_type": "code",
   "execution_count": 6,
   "id": "4d2e252d-0f85-4486-9e17-ad5eb80f1b8d",
   "metadata": {},
   "outputs": [],
   "source": [
    "with model:\n",
    "    idx = np.arange(n_count_data) # Index\n",
    "    lambda_ = pm.math.switch(tau > idx, lambda_1, lambda_2) # create a lambda composed of lambda_1 and lambda_2"
   ]
  },
  {
   "cell_type": "code",
   "execution_count": 7,
   "id": "368d4c2a-09a8-43cf-888f-0978e9458e58",
   "metadata": {},
   "outputs": [],
   "source": [
    "with model:\n",
    "    observation = pm.Poisson(\"obs\", lambda_, observed=count_data)\n"
   ]
  },
  {
   "cell_type": "markdown",
   "id": "211d1665-e247-4ba3-8c0c-beb175090332",
   "metadata": {},
   "source": [
    "let's look at our model (model object attributes can be found here: https://www.pymc.io/projects/docs/en/v5.10.2/api/model/generated/pymc.model.core.Model.html)"
   ]
  },
  {
   "cell_type": "code",
   "execution_count": 29,
   "id": "6caee422-b89c-4385-aaea-dd6bc008c597",
   "metadata": {},
   "outputs": [
    {
     "data": {
      "text/plain": [
       "[lambda_1 ~ Exponential(f()),\n",
       " lambda_2 ~ Exponential(f()),\n",
       " tau ~ DiscreteUniform(f(), f()),\n",
       " obs ~ Poisson(f(lambda_1, lambda_2, tau))]"
      ]
     },
     "execution_count": 29,
     "metadata": {},
     "output_type": "execute_result"
    }
   ],
   "source": [
    "model.basic_RVs"
   ]
  },
  {
   "cell_type": "code",
   "execution_count": 19,
   "id": "d5ddd922-eae5-4cf2-a248-cb1cff5441db",
   "metadata": {},
   "outputs": [
    {
     "data": {
      "text/plain": [
       "array(26)"
      ]
     },
     "execution_count": 19,
     "metadata": {},
     "output_type": "execute_result"
    }
   ],
   "source": [
    "pm.draw(model.tau) # drawn from prior!"
   ]
  },
  {
   "cell_type": "code",
   "execution_count": 27,
   "id": "08becbcd-98c3-418f-b570-a576ed2f541f",
   "metadata": {},
   "outputs": [
    {
     "data": {
      "text/plain": [
       "array(45.62488181)"
      ]
     },
     "execution_count": 27,
     "metadata": {},
     "output_type": "execute_result"
    }
   ],
   "source": [
    "pm.draw(lambda_1) # drawn from prior!"
   ]
  },
  {
   "cell_type": "code",
   "execution_count": 31,
   "id": "6c7d9078-a777-43bc-a5b8-cea0b32f40be",
   "metadata": {},
   "outputs": [
    {
     "data": {
      "text/plain": [
       "array([16, 17, 13, 16, 17, 13, 17, 10, 14, 12, 26, 18, 16, 17, 14, 19, 23,\n",
       "       24, 17, 17, 19, 16, 18, 19, 16, 14, 19, 20, 13,  8,  8,  6,  5,  3,\n",
       "        7, 14,  8, 12, 10,  9,  5,  9,  9, 10, 11, 15,  9, 13,  9,  7,  7,\n",
       "       11, 11,  8,  6,  7,  2, 12, 15, 12, 13,  6, 11,  9, 11, 12, 11,  9,\n",
       "        3, 11])"
      ]
     },
     "execution_count": 31,
     "metadata": {},
     "output_type": "execute_result"
    }
   ],
   "source": [
    "pm.draw(observation) # drawn from prior!"
   ]
  },
  {
   "cell_type": "markdown",
   "id": "278c3c29-56f6-4686-8c2b-c6538a098f8a",
   "metadata": {},
   "source": [
    "ok! let's fit our model!"
   ]
  },
  {
   "cell_type": "code",
   "execution_count": 32,
   "id": "391a765e-6576-48b2-a2eb-ee2c65c49fb1",
   "metadata": {},
   "outputs": [
    {
     "name": "stderr",
     "output_type": "stream",
     "text": [
      "Multiprocess sampling (4 chains in 4 jobs)\n",
      "CompoundStep\n",
      ">Metropolis: [lambda_1]\n",
      ">Metropolis: [lambda_2]\n",
      ">Metropolis: [tau]\n"
     ]
    },
    {
     "data": {
      "text/html": [
       "\n",
       "<style>\n",
       "    /* Turns off some styling */\n",
       "    progress {\n",
       "        /* gets rid of default border in Firefox and Opera. */\n",
       "        border: none;\n",
       "        /* Needs to be in here for Safari polyfill so background images work as expected. */\n",
       "        background-size: auto;\n",
       "    }\n",
       "    progress:not([value]), progress:not([value])::-webkit-progress-bar {\n",
       "        background: repeating-linear-gradient(45deg, #7e7e7e, #7e7e7e 10px, #5c5c5c 10px, #5c5c5c 20px);\n",
       "    }\n",
       "    .progress-bar-interrupted, .progress-bar-interrupted::-webkit-progress-bar {\n",
       "        background: #F44336;\n",
       "    }\n",
       "</style>\n"
      ],
      "text/plain": [
       "<IPython.core.display.HTML object>"
      ]
     },
     "metadata": {},
     "output_type": "display_data"
    },
    {
     "data": {
      "text/html": [
       "\n",
       "    <div>\n",
       "      <progress value='60000' class='' max='60000' style='width:300px; height:20px; vertical-align: middle;'></progress>\n",
       "      100.00% [60000/60000 00:04&lt;00:00 Sampling 4 chains, 0 divergences]\n",
       "    </div>\n",
       "    "
      ],
      "text/plain": [
       "<IPython.core.display.HTML object>"
      ]
     },
     "metadata": {},
     "output_type": "display_data"
    },
    {
     "name": "stderr",
     "output_type": "stream",
     "text": [
      "Sampling 4 chains for 5_000 tune and 10_000 draw iterations (20_000 + 40_000 draws total) took 4 seconds.\n"
     ]
    }
   ],
   "source": [
    "with model:\n",
    "    step = pm.Metropolis()\n",
    "    trace = pm.sample(10000, tune=5000, step=step, return_inferencedata=False)"
   ]
  },
  {
   "cell_type": "code",
   "execution_count": 33,
   "id": "53db37f5-af06-4d90-8654-afa0fd0e337c",
   "metadata": {},
   "outputs": [],
   "source": [
    "lambda_1_samples = trace['lambda_1']\n",
    "lambda_2_samples = trace['lambda_2']\n",
    "tau_samples = trace['tau']"
   ]
  },
  {
   "cell_type": "code",
   "execution_count": 37,
   "id": "edbe6ca5-ed01-4078-99de-0fd94b461c9a",
   "metadata": {},
   "outputs": [
    {
     "data": {
      "text/plain": [
       "array([50, 50, 50, ..., 50, 50, 50])"
      ]
     },
     "execution_count": 37,
     "metadata": {},
     "output_type": "execute_result"
    }
   ],
   "source": [
    "tau_samples # nailed it immediately!"
   ]
  },
  {
   "cell_type": "markdown",
   "id": "b6454d4d-4d43-42fc-a856-5df6d55e5b12",
   "metadata": {},
   "source": [
    "# Results \n",
    "\n",
    "(Analysis below)\n",
    "The model totally nailed the right value for tau! It started at 50 and pretty much stuck there, dipping down to 49 a little.\n",
    "Posterior estimates for lambda 2 were wider than lambda 1, and that makes sense because we had 20 datapoints in the lambda = 30 range and 50 datapoints in the lambda = 10 range. Still, overall our inference totally got the right answer!"
   ]
  },
  {
   "cell_type": "code",
   "execution_count": 46,
   "id": "d88c71bd-f6fe-4060-84f7-9480ae4a8305",
   "metadata": {},
   "outputs": [
    {
     "data": {
      "text/plain": [
       "<matplotlib.legend.Legend at 0x281b60c40>"
      ]
     },
     "execution_count": 46,
     "metadata": {},
     "output_type": "execute_result"
    },
    {
     "data": {
      "image/png": "[encoded data removed]",
      "text/plain": [
       "<Figure size 640x480 with 1 Axes>"
      ]
     },
     "metadata": {},
     "output_type": "display_data"
    }
   ],
   "source": [
    "plt.title('lambda 1 vs lambda 2 posterior samples')\n",
    "plt.hist(lambda_1_samples, label='lambda 2')\n",
    "plt.hist(lambda_2_samples, label='lambda 2')\n",
    "plt.legend()"
   ]
  },
  {
   "cell_type": "code",
   "execution_count": 51,
   "id": "8b65d41d-be1b-4235-8aad-b1ab601e86bb",
   "metadata": {},
   "outputs": [
    {
     "data": {
      "text/plain": [
       "49"
      ]
     },
     "execution_count": 51,
     "metadata": {},
     "output_type": "execute_result"
    }
   ],
   "source": [
    "np.min(tau_samples)"
   ]
  },
  {
   "cell_type": "code",
   "execution_count": 52,
   "id": "9ce1e913-182b-44cf-85be-0709a298486b",
   "metadata": {},
   "outputs": [
    {
     "data": {
      "text/plain": [
       "50"
      ]
     },
     "execution_count": 52,
     "metadata": {},
     "output_type": "execute_result"
    }
   ],
   "source": [
    "np.max(tau_samples)"
   ]
  },
  {
   "cell_type": "code",
   "execution_count": 56,
   "id": "2b4ef40f-7a0d-4bee-9835-a59b68ed8448",
   "metadata": {},
   "outputs": [
    {
     "data": {
      "text/plain": [
       "0.99675"
      ]
     },
     "execution_count": 56,
     "metadata": {},
     "output_type": "execute_result"
    }
   ],
   "source": [
    "np.mean(tau_samples==50) # almost always 50"
   ]
  },
  {
   "cell_type": "code",
   "execution_count": null,
   "id": "96256824-37c3-4392-a877-a3d4c60764da",
   "metadata": {},
   "outputs": [],
   "source": []
  }
 ],
 "metadata": {
  "kernelspec": {
   "display_name": "Python 3 (ipykernel)",
   "language": "python",
   "name": "python3"
  },
  "language_info": {
   "codemirror_mode": {
    "name": "ipython",
    "version": 3
   },
   "file_extension": ".py",
   "mimetype": "text/x-python",
   "name": "python",
   "nbconvert_exporter": "python",
   "pygments_lexer": "ipython3",
   "version": "3.9.5"
  }
 },
 "nbformat": 4,
 "nbformat_minor": 5
}
