{
 "cells": [
  {
   "cell_type": "code",
   "execution_count": 26,
   "id": "89d45e8e-f89a-4db8-93bc-cf5a603d3555",
   "metadata": {},
   "outputs": [],
   "source": [
    "import pymc as pm\n",
    "import numpy as np"
   ]
  },
  {
   "cell_type": "markdown",
   "id": "8df57ae8-73bb-47c9-a722-6a6bc3b089e5",
   "metadata": {},
   "source": [
    "following here:\n",
    "https://github.com/CamDavidsonPilon/Probabilistic-Programming-and-Bayesian-Methods-for-Hackers/blob/master/Chapter1_Introduction/Ch1_Introduction_PyMC_current.ipynb\n",
    "\n",
    "which stems from: https://github.com/CamDavidsonPilon/Probabilistic-Programming-and-Bayesian-Methods-for-Hackers "
   ]
  },
  {
   "cell_type": "code",
   "execution_count": 27,
   "id": "7b1570d2-3e72-44ff-a481-3bf540355a9f",
   "metadata": {},
   "outputs": [],
   "source": [
    "# gen data\n",
    "\n",
    "count_data_1 = np.random.poisson(10, 50)\n",
    "count_data_2 = np.random.poisson(30,20)\n",
    "count_data = np.concatenate((count_data_1, count_data_2))\n",
    "count_data\n",
    "n_count_data = len(count_data)"
   ]
  },
  {
   "cell_type": "code",
   "execution_count": 28,
   "id": "aaecfdf9-b5e5-4b93-a842-ea690e6da49d",
   "metadata": {},
   "outputs": [],
   "source": [
    "with pm.Model() as model:\n",
    "    alpha = 1.0/count_data.mean()  # Recall count_data is the\n",
    "                                   # variable that holds our txt counts\n",
    "    lambda_1 = pm.Exponential(\"lambda_1\", alpha)\n",
    "    lambda_2 = pm.Exponential(\"lambda_2\", alpha)\n",
    "    \n",
    "    tau = pm.DiscreteUniform(\"tau\", lower=0, upper=n_count_data - 1)"
   ]
  },
  {
   "cell_type": "code",
   "execution_count": 29,
   "id": "4d2e252d-0f85-4486-9e17-ad5eb80f1b8d",
   "metadata": {},
   "outputs": [],
   "source": [
    "with model:\n",
    "    idx = np.arange(n_count_data) # Index\n",
    "    lambda_ = pm.math.switch(tau > idx, lambda_1, lambda_2)"
   ]
  },
  {
   "cell_type": "code",
   "execution_count": 31,
   "id": "368d4c2a-09a8-43cf-888f-0978e9458e58",
   "metadata": {},
   "outputs": [
    {
     "name": "stderr",
     "output_type": "stream",
     "text": [
      "ERROR (pytensor.graph.rewriting.basic): Rewrite failure due to: constant_folding\n",
      "ERROR (pytensor.graph.rewriting.basic): node: DropDims{axis=0}([70])\n",
      "ERROR (pytensor.graph.rewriting.basic): TRACEBACK:\n",
      "ERROR (pytensor.graph.rewriting.basic): Traceback (most recent call last):\n",
      "  File \"/home/shrey/.pyenv/versions/3.10.5/envs/dev/lib/python3.10/site-packages/pytensor/graph/rewriting/basic.py\", line 1922, in process_node\n",
      "    replacements = node_rewriter.transform(fgraph, node)\n",
      "  File \"/home/shrey/.pyenv/versions/3.10.5/envs/dev/lib/python3.10/site-packages/pytensor/graph/rewriting/basic.py\", line 1082, in transform\n",
      "    return self.fn(fgraph, node)\n",
      "  File \"/home/shrey/.pyenv/versions/3.10.5/envs/dev/lib/python3.10/site-packages/pytensor/tensor/rewriting/basic.py\", line 1106, in constant_folding\n",
      "    thunk = node.op.make_thunk(node, storage_map, compute_map, no_recycling=[])\n",
      "  File \"/home/shrey/.pyenv/versions/3.10.5/envs/dev/lib/python3.10/site-packages/pytensor/link/c/op.py\", line 119, in make_thunk\n",
      "    return self.make_c_thunk(node, storage_map, compute_map, no_recycling)\n",
      "  File \"/home/shrey/.pyenv/versions/3.10.5/envs/dev/lib/python3.10/site-packages/pytensor/link/c/op.py\", line 84, in make_c_thunk\n",
      "    outputs = cl.make_thunk(\n",
      "  File \"/home/shrey/.pyenv/versions/3.10.5/envs/dev/lib/python3.10/site-packages/pytensor/link/c/basic.py\", line 1209, in make_thunk\n",
      "    cthunk, module, in_storage, out_storage, error_storage = self.__compile__(\n",
      "  File \"/home/shrey/.pyenv/versions/3.10.5/envs/dev/lib/python3.10/site-packages/pytensor/link/c/basic.py\", line 1129, in __compile__\n",
      "    thunk, module = self.cthunk_factory(\n",
      "  File \"/home/shrey/.pyenv/versions/3.10.5/envs/dev/lib/python3.10/site-packages/pytensor/link/c/basic.py\", line 1653, in cthunk_factory\n",
      "    module = cache.module_from_key(key=key, lnk=self)\n",
      "  File \"/home/shrey/.pyenv/versions/3.10.5/envs/dev/lib/python3.10/site-packages/pytensor/link/c/cmodule.py\", line 1231, in module_from_key\n",
      "    module = lnk.compile_cmodule(location)\n",
      "  File \"/home/shrey/.pyenv/versions/3.10.5/envs/dev/lib/python3.10/site-packages/pytensor/link/c/basic.py\", line 1552, in compile_cmodule\n",
      "    module = c_compiler.compile_str(\n",
      "  File \"/home/shrey/.pyenv/versions/3.10.5/envs/dev/lib/python3.10/site-packages/pytensor/link/c/cmodule.py\", line 2640, in compile_str\n",
      "    raise CompileError(\n",
      "pytensor.link.c.exceptions.CompileError: Compilation failed (return status=1):\n",
      "/usr/bin/g++ -shared -g -O3 -fno-math-errno -Wno-unused-label -Wno-unused-variable -Wno-write-strings -Wno-c++11-narrowing -fno-exceptions -fno-unwind-tables -fno-asynchronous-unwind-tables -march=skylake -mmmx -mpopcnt -msse -msse2 -msse3 -mssse3 -msse4.1 -msse4.2 -mno-avx -mno-avx2 -mno-sse4a -mno-fma4 -mno-xop -mno-fma -mno-avx512f -mno-bmi -mno-bmi2 -maes -mpclmul -mno-avx512vl -mno-avx512bw -mno-avx512dq -mno-avx512cd -mno-avx512er -mno-avx512pf -mno-avx512vbmi -mno-avx512ifma -mno-avx5124vnniw -mno-avx5124fmaps -mno-avx512vpopcntdq -mno-avx512vbmi2 -mno-gfni -mno-vpclmulqdq -mno-avx512vnni -mno-avx512bitalg -mno-avx512bf16 -mno-avx512vp2intersect -mno-3dnow -mno-adx -mabm -mno-cldemote -mclflushopt -mno-clwb -mno-clzero -mcx16 -mno-enqcmd -mno-f16c -mfsgsbase -mfxsr -mno-hle -msahf -mno-lwp -mlzcnt -mmovbe -mno-movdir64b -mno-movdiri -mno-mwaitx -mno-pconfig -mno-pku -mno-prefetchwt1 -mprfchw -mno-ptwrite -mno-rdpid -mrdrnd -mrdseed -mno-rtm -mno-serialize -msgx -mno-sha -mno-shstk -mno-tbm -mno-tsxldtrk -mno-vaes -mno-waitpkg -mno-wbnoinvd -mxsave -mxsavec -mxsaveopt -mxsaves -mno-amx-tile -mno-amx-int8 -mno-amx-bf16 -mno-uintr -mno-hreset -mno-kl -mno-widekl -mno-avxvnni --param l1-cache-size=32 --param l1-cache-line-size=64 --param l2-cache-size=2048 -mtune=skylake -DNPY_NO_DEPRECATED_API=NPY_1_7_API_VERSION -m64 -fPIC -I/home/shrey/.pyenv/versions/3.10.5/envs/dev/lib/python3.10/site-packages/numpy/core/include -I/home/shrey/.pyenv/versions/3.10.5/include/python3.10 -I/home/shrey/.pyenv/versions/3.10.5/envs/dev/lib/python3.10/site-packages/pytensor/link/c/c_code -L/home/shrey/.pyenv/versions/3.10.5/lib -fvisibility=hidden -o /home/shrey/.pytensor/compiledir_Linux-6.2--generic-x86_64-with-glibc2.35-x86_64-3.10.5-64/tmp8jcj85ox/mfeba4d434591def33153ec442edc27a735fd9fa46fd5f1fae8efd4f490539b0a.so /home/shrey/.pytensor/compiledir_Linux-6.2--generic-x86_64-with-glibc2.35-x86_64-3.10.5-64/tmp8jcj85ox/mod.cpp -lpython3.10\n",
      "/usr/bin/ld: /home/shrey/.pyenv/versions/3.10.5/lib/libpython3.10.a(pythonrun.o): warning: relocation against `_Py_UnhandledKeyboardInterrupt' in read-only section `.text'\n",
      "/usr/bin/ld: /home/shrey/.pyenv/versions/3.10.5/lib/libpython3.10.a(longobject.o): relocation R_X86_64_PC32 against symbol `PyExc_OverflowError' can not be used when making a shared object; recompile with -fPIC\n",
      "/usr/bin/ld: final link failed: bad value\n",
      "collect2: error: ld returned 1 exit status\n",
      "\n",
      "\n"
     ]
    },
    {
     "name": "stdout",
     "output_type": "stream",
     "text": [
      "\n",
      "You can find the C code in this temporary file: /tmp/pytensor_compilation_error_g3aglnmx\n"
     ]
    },
    {
     "name": "stderr",
     "output_type": "stream",
     "text": [
      "ERROR (pytensor.graph.rewriting.basic): Rewrite failure due to: constant_folding\n",
      "ERROR (pytensor.graph.rewriting.basic): node: DropDims{axis=0}([70])\n",
      "ERROR (pytensor.graph.rewriting.basic): TRACEBACK:\n",
      "ERROR (pytensor.graph.rewriting.basic): Traceback (most recent call last):\n",
      "  File \"/home/shrey/.pyenv/versions/3.10.5/envs/dev/lib/python3.10/site-packages/pytensor/graph/rewriting/basic.py\", line 1922, in process_node\n",
      "    replacements = node_rewriter.transform(fgraph, node)\n",
      "  File \"/home/shrey/.pyenv/versions/3.10.5/envs/dev/lib/python3.10/site-packages/pytensor/graph/rewriting/basic.py\", line 1082, in transform\n",
      "    return self.fn(fgraph, node)\n",
      "  File \"/home/shrey/.pyenv/versions/3.10.5/envs/dev/lib/python3.10/site-packages/pytensor/tensor/rewriting/basic.py\", line 1106, in constant_folding\n",
      "    thunk = node.op.make_thunk(node, storage_map, compute_map, no_recycling=[])\n",
      "  File \"/home/shrey/.pyenv/versions/3.10.5/envs/dev/lib/python3.10/site-packages/pytensor/link/c/op.py\", line 119, in make_thunk\n",
      "    return self.make_c_thunk(node, storage_map, compute_map, no_recycling)\n",
      "  File \"/home/shrey/.pyenv/versions/3.10.5/envs/dev/lib/python3.10/site-packages/pytensor/link/c/op.py\", line 84, in make_c_thunk\n",
      "    outputs = cl.make_thunk(\n",
      "  File \"/home/shrey/.pyenv/versions/3.10.5/envs/dev/lib/python3.10/site-packages/pytensor/link/c/basic.py\", line 1209, in make_thunk\n",
      "    cthunk, module, in_storage, out_storage, error_storage = self.__compile__(\n",
      "  File \"/home/shrey/.pyenv/versions/3.10.5/envs/dev/lib/python3.10/site-packages/pytensor/link/c/basic.py\", line 1129, in __compile__\n",
      "    thunk, module = self.cthunk_factory(\n",
      "  File \"/home/shrey/.pyenv/versions/3.10.5/envs/dev/lib/python3.10/site-packages/pytensor/link/c/basic.py\", line 1653, in cthunk_factory\n",
      "    module = cache.module_from_key(key=key, lnk=self)\n",
      "  File \"/home/shrey/.pyenv/versions/3.10.5/envs/dev/lib/python3.10/site-packages/pytensor/link/c/cmodule.py\", line 1231, in module_from_key\n",
      "    module = lnk.compile_cmodule(location)\n",
      "  File \"/home/shrey/.pyenv/versions/3.10.5/envs/dev/lib/python3.10/site-packages/pytensor/link/c/basic.py\", line 1552, in compile_cmodule\n",
      "    module = c_compiler.compile_str(\n",
      "  File \"/home/shrey/.pyenv/versions/3.10.5/envs/dev/lib/python3.10/site-packages/pytensor/link/c/cmodule.py\", line 2640, in compile_str\n",
      "    raise CompileError(\n",
      "pytensor.link.c.exceptions.CompileError: Compilation failed (return status=1):\n",
      "/usr/bin/g++ -shared -g -O3 -fno-math-errno -Wno-unused-label -Wno-unused-variable -Wno-write-strings -Wno-c++11-narrowing -fno-exceptions -fno-unwind-tables -fno-asynchronous-unwind-tables -march=skylake -mmmx -mpopcnt -msse -msse2 -msse3 -mssse3 -msse4.1 -msse4.2 -mno-avx -mno-avx2 -mno-sse4a -mno-fma4 -mno-xop -mno-fma -mno-avx512f -mno-bmi -mno-bmi2 -maes -mpclmul -mno-avx512vl -mno-avx512bw -mno-avx512dq -mno-avx512cd -mno-avx512er -mno-avx512pf -mno-avx512vbmi -mno-avx512ifma -mno-avx5124vnniw -mno-avx5124fmaps -mno-avx512vpopcntdq -mno-avx512vbmi2 -mno-gfni -mno-vpclmulqdq -mno-avx512vnni -mno-avx512bitalg -mno-avx512bf16 -mno-avx512vp2intersect -mno-3dnow -mno-adx -mabm -mno-cldemote -mclflushopt -mno-clwb -mno-clzero -mcx16 -mno-enqcmd -mno-f16c -mfsgsbase -mfxsr -mno-hle -msahf -mno-lwp -mlzcnt -mmovbe -mno-movdir64b -mno-movdiri -mno-mwaitx -mno-pconfig -mno-pku -mno-prefetchwt1 -mprfchw -mno-ptwrite -mno-rdpid -mrdrnd -mrdseed -mno-rtm -mno-serialize -msgx -mno-sha -mno-shstk -mno-tbm -mno-tsxldtrk -mno-vaes -mno-waitpkg -mno-wbnoinvd -mxsave -mxsavec -mxsaveopt -mxsaves -mno-amx-tile -mno-amx-int8 -mno-amx-bf16 -mno-uintr -mno-hreset -mno-kl -mno-widekl -mno-avxvnni --param l1-cache-size=32 --param l1-cache-line-size=64 --param l2-cache-size=2048 -mtune=skylake -DNPY_NO_DEPRECATED_API=NPY_1_7_API_VERSION -m64 -fPIC -I/home/shrey/.pyenv/versions/3.10.5/envs/dev/lib/python3.10/site-packages/numpy/core/include -I/home/shrey/.pyenv/versions/3.10.5/include/python3.10 -I/home/shrey/.pyenv/versions/3.10.5/envs/dev/lib/python3.10/site-packages/pytensor/link/c/c_code -L/home/shrey/.pyenv/versions/3.10.5/lib -fvisibility=hidden -o /home/shrey/.pytensor/compiledir_Linux-6.2--generic-x86_64-with-glibc2.35-x86_64-3.10.5-64/tmpkhd7c0hp/mfeba4d434591def33153ec442edc27a735fd9fa46fd5f1fae8efd4f490539b0a.so /home/shrey/.pytensor/compiledir_Linux-6.2--generic-x86_64-with-glibc2.35-x86_64-3.10.5-64/tmpkhd7c0hp/mod.cpp -lpython3.10\n",
      "/usr/bin/ld: /home/shrey/.pyenv/versions/3.10.5/lib/libpython3.10.a(pythonrun.o): warning: relocation against `_Py_UnhandledKeyboardInterrupt' in read-only section `.text'\n",
      "/usr/bin/ld: /home/shrey/.pyenv/versions/3.10.5/lib/libpython3.10.a(longobject.o): relocation R_X86_64_PC32 against symbol `PyExc_OverflowError' can not be used when making a shared object; recompile with -fPIC\n",
      "/usr/bin/ld: final link failed: bad value\n",
      "collect2: error: ld returned 1 exit status\n",
      "\n",
      "\n"
     ]
    },
    {
     "name": "stdout",
     "output_type": "stream",
     "text": [
      "\n",
      "You can find the C code in this temporary file: /tmp/pytensor_compilation_error_awtvh7df\n"
     ]
    },
    {
     "name": "stderr",
     "output_type": "stream",
     "text": [
      "ERROR (pytensor.graph.rewriting.basic): Rewrite failure due to: constant_folding\n",
      "ERROR (pytensor.graph.rewriting.basic): node: DropDims{axis=0}([70])\n",
      "ERROR (pytensor.graph.rewriting.basic): TRACEBACK:\n",
      "ERROR (pytensor.graph.rewriting.basic): Traceback (most recent call last):\n",
      "  File \"/home/shrey/.pyenv/versions/3.10.5/envs/dev/lib/python3.10/site-packages/pytensor/graph/rewriting/basic.py\", line 1922, in process_node\n",
      "    replacements = node_rewriter.transform(fgraph, node)\n",
      "  File \"/home/shrey/.pyenv/versions/3.10.5/envs/dev/lib/python3.10/site-packages/pytensor/graph/rewriting/basic.py\", line 1082, in transform\n",
      "    return self.fn(fgraph, node)\n",
      "  File \"/home/shrey/.pyenv/versions/3.10.5/envs/dev/lib/python3.10/site-packages/pytensor/tensor/rewriting/basic.py\", line 1106, in constant_folding\n",
      "    thunk = node.op.make_thunk(node, storage_map, compute_map, no_recycling=[])\n",
      "  File \"/home/shrey/.pyenv/versions/3.10.5/envs/dev/lib/python3.10/site-packages/pytensor/link/c/op.py\", line 119, in make_thunk\n",
      "    return self.make_c_thunk(node, storage_map, compute_map, no_recycling)\n",
      "  File \"/home/shrey/.pyenv/versions/3.10.5/envs/dev/lib/python3.10/site-packages/pytensor/link/c/op.py\", line 84, in make_c_thunk\n",
      "    outputs = cl.make_thunk(\n",
      "  File \"/home/shrey/.pyenv/versions/3.10.5/envs/dev/lib/python3.10/site-packages/pytensor/link/c/basic.py\", line 1209, in make_thunk\n",
      "    cthunk, module, in_storage, out_storage, error_storage = self.__compile__(\n",
      "  File \"/home/shrey/.pyenv/versions/3.10.5/envs/dev/lib/python3.10/site-packages/pytensor/link/c/basic.py\", line 1129, in __compile__\n",
      "    thunk, module = self.cthunk_factory(\n",
      "  File \"/home/shrey/.pyenv/versions/3.10.5/envs/dev/lib/python3.10/site-packages/pytensor/link/c/basic.py\", line 1653, in cthunk_factory\n",
      "    module = cache.module_from_key(key=key, lnk=self)\n",
      "  File \"/home/shrey/.pyenv/versions/3.10.5/envs/dev/lib/python3.10/site-packages/pytensor/link/c/cmodule.py\", line 1231, in module_from_key\n",
      "    module = lnk.compile_cmodule(location)\n",
      "  File \"/home/shrey/.pyenv/versions/3.10.5/envs/dev/lib/python3.10/site-packages/pytensor/link/c/basic.py\", line 1552, in compile_cmodule\n",
      "    module = c_compiler.compile_str(\n",
      "  File \"/home/shrey/.pyenv/versions/3.10.5/envs/dev/lib/python3.10/site-packages/pytensor/link/c/cmodule.py\", line 2640, in compile_str\n",
      "    raise CompileError(\n",
      "pytensor.link.c.exceptions.CompileError: Compilation failed (return status=1):\n",
      "/usr/bin/g++ -shared -g -O3 -fno-math-errno -Wno-unused-label -Wno-unused-variable -Wno-write-strings -Wno-c++11-narrowing -fno-exceptions -fno-unwind-tables -fno-asynchronous-unwind-tables -march=skylake -mmmx -mpopcnt -msse -msse2 -msse3 -mssse3 -msse4.1 -msse4.2 -mno-avx -mno-avx2 -mno-sse4a -mno-fma4 -mno-xop -mno-fma -mno-avx512f -mno-bmi -mno-bmi2 -maes -mpclmul -mno-avx512vl -mno-avx512bw -mno-avx512dq -mno-avx512cd -mno-avx512er -mno-avx512pf -mno-avx512vbmi -mno-avx512ifma -mno-avx5124vnniw -mno-avx5124fmaps -mno-avx512vpopcntdq -mno-avx512vbmi2 -mno-gfni -mno-vpclmulqdq -mno-avx512vnni -mno-avx512bitalg -mno-avx512bf16 -mno-avx512vp2intersect -mno-3dnow -mno-adx -mabm -mno-cldemote -mclflushopt -mno-clwb -mno-clzero -mcx16 -mno-enqcmd -mno-f16c -mfsgsbase -mfxsr -mno-hle -msahf -mno-lwp -mlzcnt -mmovbe -mno-movdir64b -mno-movdiri -mno-mwaitx -mno-pconfig -mno-pku -mno-prefetchwt1 -mprfchw -mno-ptwrite -mno-rdpid -mrdrnd -mrdseed -mno-rtm -mno-serialize -msgx -mno-sha -mno-shstk -mno-tbm -mno-tsxldtrk -mno-vaes -mno-waitpkg -mno-wbnoinvd -mxsave -mxsavec -mxsaveopt -mxsaves -mno-amx-tile -mno-amx-int8 -mno-amx-bf16 -mno-uintr -mno-hreset -mno-kl -mno-widekl -mno-avxvnni --param l1-cache-size=32 --param l1-cache-line-size=64 --param l2-cache-size=2048 -mtune=skylake -DNPY_NO_DEPRECATED_API=NPY_1_7_API_VERSION -m64 -fPIC -I/home/shrey/.pyenv/versions/3.10.5/envs/dev/lib/python3.10/site-packages/numpy/core/include -I/home/shrey/.pyenv/versions/3.10.5/include/python3.10 -I/home/shrey/.pyenv/versions/3.10.5/envs/dev/lib/python3.10/site-packages/pytensor/link/c/c_code -L/home/shrey/.pyenv/versions/3.10.5/lib -fvisibility=hidden -o /home/shrey/.pytensor/compiledir_Linux-6.2--generic-x86_64-with-glibc2.35-x86_64-3.10.5-64/tmpobrisb0m/mfeba4d434591def33153ec442edc27a735fd9fa46fd5f1fae8efd4f490539b0a.so /home/shrey/.pytensor/compiledir_Linux-6.2--generic-x86_64-with-glibc2.35-x86_64-3.10.5-64/tmpobrisb0m/mod.cpp -lpython3.10\n",
      "/usr/bin/ld: /home/shrey/.pyenv/versions/3.10.5/lib/libpython3.10.a(pythonrun.o): warning: relocation against `_Py_UnhandledKeyboardInterrupt' in read-only section `.text'\n",
      "/usr/bin/ld: /home/shrey/.pyenv/versions/3.10.5/lib/libpython3.10.a(longobject.o): relocation R_X86_64_PC32 against symbol `PyExc_OverflowError' can not be used when making a shared object; recompile with -fPIC\n",
      "/usr/bin/ld: final link failed: bad value\n",
      "collect2: error: ld returned 1 exit status\n",
      "\n",
      "\n"
     ]
    },
    {
     "name": "stdout",
     "output_type": "stream",
     "text": [
      "\n",
      "You can find the C code in this temporary file: /tmp/pytensor_compilation_error_c8qs35r7\n"
     ]
    },
    {
     "ename": "ValueError",
     "evalue": "Variable name obs already exists.",
     "output_type": "error",
     "traceback": [
      "\u001b[0;31m---------------------------------------------------------------------------\u001b[0m",
      "\u001b[0;31mValueError\u001b[0m                                Traceback (most recent call last)",
      "Cell \u001b[0;32mIn[31], line 2\u001b[0m\n\u001b[1;32m      1\u001b[0m \u001b[38;5;28;01mwith\u001b[39;00m model:\n\u001b[0;32m----> 2\u001b[0m     observation \u001b[38;5;241m=\u001b[39m \u001b[43mpm\u001b[49m\u001b[38;5;241;43m.\u001b[39;49m\u001b[43mPoisson\u001b[49m\u001b[43m(\u001b[49m\u001b[38;5;124;43m\"\u001b[39;49m\u001b[38;5;124;43mobs\u001b[39;49m\u001b[38;5;124;43m\"\u001b[39;49m\u001b[43m,\u001b[49m\u001b[43m \u001b[49m\u001b[43mlambda_\u001b[49m\u001b[43m,\u001b[49m\u001b[43m \u001b[49m\u001b[43mobserved\u001b[49m\u001b[38;5;241;43m=\u001b[39;49m\u001b[43mcount_data\u001b[49m\u001b[43m)\u001b[49m\n",
      "File \u001b[0;32m~/.pyenv/versions/3.10.5/envs/dev/lib/python3.10/site-packages/pymc/distributions/distribution.py:503\u001b[0m, in \u001b[0;36mDiscrete.__new__\u001b[0;34m(cls, name, *args, **kwargs)\u001b[0m\n\u001b[1;32m    500\u001b[0m \u001b[38;5;28;01mif\u001b[39;00m kwargs\u001b[38;5;241m.\u001b[39mget(\u001b[38;5;124m\"\u001b[39m\u001b[38;5;124mtransform\u001b[39m\u001b[38;5;124m\"\u001b[39m, \u001b[38;5;28;01mNone\u001b[39;00m):\n\u001b[1;32m    501\u001b[0m     \u001b[38;5;28;01mraise\u001b[39;00m \u001b[38;5;167;01mValueError\u001b[39;00m(\u001b[38;5;124m\"\u001b[39m\u001b[38;5;124mTransformations for discrete distributions\u001b[39m\u001b[38;5;124m\"\u001b[39m)\n\u001b[0;32m--> 503\u001b[0m \u001b[38;5;28;01mreturn\u001b[39;00m \u001b[38;5;28;43msuper\u001b[39;49m\u001b[43m(\u001b[49m\u001b[43m)\u001b[49m\u001b[38;5;241;43m.\u001b[39;49m\u001b[38;5;21;43m__new__\u001b[39;49m\u001b[43m(\u001b[49m\u001b[38;5;28;43mcls\u001b[39;49m\u001b[43m,\u001b[49m\u001b[43m \u001b[49m\u001b[43mname\u001b[49m\u001b[43m,\u001b[49m\u001b[43m \u001b[49m\u001b[38;5;241;43m*\u001b[39;49m\u001b[43margs\u001b[49m\u001b[43m,\u001b[49m\u001b[43m \u001b[49m\u001b[38;5;241;43m*\u001b[39;49m\u001b[38;5;241;43m*\u001b[39;49m\u001b[43mkwargs\u001b[49m\u001b[43m)\u001b[49m\n",
      "File \u001b[0;32m~/.pyenv/versions/3.10.5/envs/dev/lib/python3.10/site-packages/pymc/distributions/distribution.py:371\u001b[0m, in \u001b[0;36mDistribution.__new__\u001b[0;34m(cls, name, rng, dims, initval, observed, total_size, transform, *args, **kwargs)\u001b[0m\n\u001b[1;32m    367\u001b[0m         kwargs[\u001b[38;5;124m\"\u001b[39m\u001b[38;5;124mshape\u001b[39m\u001b[38;5;124m\"\u001b[39m] \u001b[38;5;241m=\u001b[39m \u001b[38;5;28mtuple\u001b[39m(observed\u001b[38;5;241m.\u001b[39mshape)\n\u001b[1;32m    369\u001b[0m rv_out \u001b[38;5;241m=\u001b[39m \u001b[38;5;28mcls\u001b[39m\u001b[38;5;241m.\u001b[39mdist(\u001b[38;5;241m*\u001b[39margs, \u001b[38;5;241m*\u001b[39m\u001b[38;5;241m*\u001b[39mkwargs)\n\u001b[0;32m--> 371\u001b[0m rv_out \u001b[38;5;241m=\u001b[39m \u001b[43mmodel\u001b[49m\u001b[38;5;241;43m.\u001b[39;49m\u001b[43mregister_rv\u001b[49m\u001b[43m(\u001b[49m\n\u001b[1;32m    372\u001b[0m \u001b[43m    \u001b[49m\u001b[43mrv_out\u001b[49m\u001b[43m,\u001b[49m\n\u001b[1;32m    373\u001b[0m \u001b[43m    \u001b[49m\u001b[43mname\u001b[49m\u001b[43m,\u001b[49m\n\u001b[1;32m    374\u001b[0m \u001b[43m    \u001b[49m\u001b[43mobserved\u001b[49m\u001b[43m,\u001b[49m\n\u001b[1;32m    375\u001b[0m \u001b[43m    \u001b[49m\u001b[43mtotal_size\u001b[49m\u001b[43m,\u001b[49m\n\u001b[1;32m    376\u001b[0m \u001b[43m    \u001b[49m\u001b[43mdims\u001b[49m\u001b[38;5;241;43m=\u001b[39;49m\u001b[43mdims\u001b[49m\u001b[43m,\u001b[49m\n\u001b[1;32m    377\u001b[0m \u001b[43m    \u001b[49m\u001b[43mtransform\u001b[49m\u001b[38;5;241;43m=\u001b[39;49m\u001b[43mtransform\u001b[49m\u001b[43m,\u001b[49m\n\u001b[1;32m    378\u001b[0m \u001b[43m    \u001b[49m\u001b[43minitval\u001b[49m\u001b[38;5;241;43m=\u001b[39;49m\u001b[43minitval\u001b[49m\u001b[43m,\u001b[49m\n\u001b[1;32m    379\u001b[0m \u001b[43m\u001b[49m\u001b[43m)\u001b[49m\n\u001b[1;32m    381\u001b[0m \u001b[38;5;66;03m# add in pretty-printing support\u001b[39;00m\n\u001b[1;32m    382\u001b[0m rv_out\u001b[38;5;241m.\u001b[39mstr_repr \u001b[38;5;241m=\u001b[39m types\u001b[38;5;241m.\u001b[39mMethodType(str_for_dist, rv_out)\n",
      "File \u001b[0;32m~/.pyenv/versions/3.10.5/envs/dev/lib/python3.10/site-packages/pymc/model/core.py:1281\u001b[0m, in \u001b[0;36mModel.register_rv\u001b[0;34m(self, rv_var, name, observed, total_size, dims, transform, initval)\u001b[0m\n\u001b[1;32m   1274\u001b[0m         \u001b[38;5;28;01mraise\u001b[39;00m \u001b[38;5;167;01mTypeError\u001b[39;00m(\n\u001b[1;32m   1275\u001b[0m             \u001b[38;5;124m\"\u001b[39m\u001b[38;5;124mVariables that depend on other nodes cannot be used for observed data.\u001b[39m\u001b[38;5;124m\"\u001b[39m\n\u001b[1;32m   1276\u001b[0m             \u001b[38;5;124mf\u001b[39m\u001b[38;5;124m\"\u001b[39m\u001b[38;5;124mThe data variable was: \u001b[39m\u001b[38;5;132;01m{\u001b[39;00mobserved\u001b[38;5;132;01m}\u001b[39;00m\u001b[38;5;124m\"\u001b[39m\n\u001b[1;32m   1277\u001b[0m         )\n\u001b[1;32m   1279\u001b[0m     \u001b[38;5;66;03m# `rv_var` is potentially changed by `make_obs_var`,\u001b[39;00m\n\u001b[1;32m   1280\u001b[0m     \u001b[38;5;66;03m# for example into a new graph for imputation of missing data.\u001b[39;00m\n\u001b[0;32m-> 1281\u001b[0m     rv_var \u001b[38;5;241m=\u001b[39m \u001b[38;5;28;43mself\u001b[39;49m\u001b[38;5;241;43m.\u001b[39;49m\u001b[43mmake_obs_var\u001b[49m\u001b[43m(\u001b[49m\u001b[43mrv_var\u001b[49m\u001b[43m,\u001b[49m\u001b[43m \u001b[49m\u001b[43mobserved\u001b[49m\u001b[43m,\u001b[49m\u001b[43m \u001b[49m\u001b[43mdims\u001b[49m\u001b[43m,\u001b[49m\u001b[43m \u001b[49m\u001b[43mtransform\u001b[49m\u001b[43m,\u001b[49m\u001b[43m \u001b[49m\u001b[43mtotal_size\u001b[49m\u001b[43m)\u001b[49m\n\u001b[1;32m   1283\u001b[0m \u001b[38;5;28;01mreturn\u001b[39;00m rv_var\n",
      "File \u001b[0;32m~/.pyenv/versions/3.10.5/envs/dev/lib/python3.10/site-packages/pymc/model/core.py:1364\u001b[0m, in \u001b[0;36mModel.make_obs_var\u001b[0;34m(self, rv_var, data, dims, transform, total_size)\u001b[0m\n\u001b[1;32m   1362\u001b[0m     rv_var\u001b[38;5;241m.\u001b[39mtag\u001b[38;5;241m.\u001b[39mobservations \u001b[38;5;241m=\u001b[39m data\n\u001b[1;32m   1363\u001b[0m     \u001b[38;5;28mself\u001b[39m\u001b[38;5;241m.\u001b[39mcreate_value_var(rv_var, transform\u001b[38;5;241m=\u001b[39m\u001b[38;5;28;01mNone\u001b[39;00m, value_var\u001b[38;5;241m=\u001b[39mdata)\n\u001b[0;32m-> 1364\u001b[0m     \u001b[38;5;28;43mself\u001b[39;49m\u001b[38;5;241;43m.\u001b[39;49m\u001b[43madd_named_variable\u001b[49m\u001b[43m(\u001b[49m\u001b[43mrv_var\u001b[49m\u001b[43m,\u001b[49m\u001b[43m \u001b[49m\u001b[43mdims\u001b[49m\u001b[43m)\u001b[49m\n\u001b[1;32m   1365\u001b[0m     \u001b[38;5;28mself\u001b[39m\u001b[38;5;241m.\u001b[39mobserved_RVs\u001b[38;5;241m.\u001b[39mappend(rv_var)\n\u001b[1;32m   1367\u001b[0m \u001b[38;5;28;01mreturn\u001b[39;00m rv_var\n",
      "File \u001b[0;32m~/.pyenv/versions/3.10.5/envs/dev/lib/python3.10/site-packages/pymc/model/core.py:1428\u001b[0m, in \u001b[0;36mModel.add_named_variable\u001b[0;34m(self, var, dims)\u001b[0m\n\u001b[1;32m   1426\u001b[0m     \u001b[38;5;28;01mraise\u001b[39;00m \u001b[38;5;167;01mValueError\u001b[39;00m(\u001b[38;5;124m\"\u001b[39m\u001b[38;5;124mVariable is unnamed.\u001b[39m\u001b[38;5;124m\"\u001b[39m)\n\u001b[1;32m   1427\u001b[0m \u001b[38;5;28;01mif\u001b[39;00m \u001b[38;5;28mself\u001b[39m\u001b[38;5;241m.\u001b[39mnamed_vars\u001b[38;5;241m.\u001b[39mtree_contains(var\u001b[38;5;241m.\u001b[39mname):\n\u001b[0;32m-> 1428\u001b[0m     \u001b[38;5;28;01mraise\u001b[39;00m \u001b[38;5;167;01mValueError\u001b[39;00m(\u001b[38;5;124mf\u001b[39m\u001b[38;5;124m\"\u001b[39m\u001b[38;5;124mVariable name \u001b[39m\u001b[38;5;132;01m{\u001b[39;00mvar\u001b[38;5;241m.\u001b[39mname\u001b[38;5;132;01m}\u001b[39;00m\u001b[38;5;124m already exists.\u001b[39m\u001b[38;5;124m\"\u001b[39m)\n\u001b[1;32m   1430\u001b[0m \u001b[38;5;28;01mif\u001b[39;00m dims \u001b[38;5;129;01mis\u001b[39;00m \u001b[38;5;129;01mnot\u001b[39;00m \u001b[38;5;28;01mNone\u001b[39;00m:\n\u001b[1;32m   1431\u001b[0m     \u001b[38;5;28;01mif\u001b[39;00m \u001b[38;5;28misinstance\u001b[39m(dims, \u001b[38;5;28mstr\u001b[39m):\n",
      "\u001b[0;31mValueError\u001b[0m: Variable name obs already exists."
     ]
    }
   ],
   "source": [
    "with model:\n",
    "    observation = pm.Poisson(\"obs\", lambda_, observed=count_data)\n"
   ]
  },
  {
   "cell_type": "code",
   "execution_count": 23,
   "id": "d5ddd922-eae5-4cf2-a248-cb1cff5441db",
   "metadata": {},
   "outputs": [
    {
     "name": "stderr",
     "output_type": "stream",
     "text": [
      "ERROR (pytensor.graph.rewriting.basic): Rewrite failure due to: constant_folding\n",
      "ERROR (pytensor.graph.rewriting.basic): node: Floor(69)\n",
      "ERROR (pytensor.graph.rewriting.basic): TRACEBACK:\n",
      "ERROR (pytensor.graph.rewriting.basic): Traceback (most recent call last):\n",
      "  File \"/home/shrey/.pyenv/versions/3.10.5/envs/dev/lib/python3.10/site-packages/pytensor/graph/rewriting/basic.py\", line 1922, in process_node\n",
      "    If `fgraph` accepts the replacement, then the rewrite is\n",
      "  File \"/home/shrey/.pyenv/versions/3.10.5/envs/dev/lib/python3.10/site-packages/pytensor/graph/rewriting/basic.py\", line 1082, in transform\n",
      "    )\n",
      "  File \"/home/shrey/.pyenv/versions/3.10.5/envs/dev/lib/python3.10/site-packages/pytensor/tensor/rewriting/basic.py\", line 1106, in constant_folding\n",
      "    @node_rewriter([Split])\n",
      "  File \"/home/shrey/.pyenv/versions/3.10.5/envs/dev/lib/python3.10/site-packages/pytensor/link/c/op.py\", line 119, in make_thunk\n",
      "    Parameters\n",
      "  File \"/home/shrey/.pyenv/versions/3.10.5/envs/dev/lib/python3.10/site-packages/pytensor/link/c/op.py\", line 84, in make_c_thunk\n",
      "  File \"/home/shrey/.pyenv/versions/3.10.5/envs/dev/lib/python3.10/site-packages/pytensor/link/c/basic.py\", line 1209, in make_thunk\n",
      "  File \"/home/shrey/.pyenv/versions/3.10.5/envs/dev/lib/python3.10/site-packages/pytensor/link/c/basic.py\", line 1129, in __compile__\n",
      "    return (\n",
      "  File \"/home/shrey/.pyenv/versions/3.10.5/envs/dev/lib/python3.10/site-packages/pytensor/link/c/basic.py\", line 1653, in cthunk_factory\n",
      "    i for i, x in enumerate(vars) if vars.count(x) > 1 and vars.index(x) != i\n",
      "  File \"/home/shrey/.pyenv/versions/3.10.5/envs/dev/lib/python3.10/site-packages/pytensor/link/c/cmodule.py\", line 1231, in module_from_key\n",
      "    module = lnk.compile_cmodule(location)\n",
      "  File \"/home/shrey/.pyenv/versions/3.10.5/envs/dev/lib/python3.10/site-packages/pytensor/link/c/basic.py\", line 1552, in compile_cmodule\n",
      "    libs=libs,\n",
      "  File \"/home/shrey/.pyenv/versions/3.10.5/envs/dev/lib/python3.10/site-packages/pytensor/link/c/cmodule.py\", line 2640, in compile_str\n",
      "    # compile_stderr = compile_stderr.replace(\"\\n\", \". \")\n",
      "pytensor.link.c.exceptions.CompileError: Compilation failed (return status=1):\n",
      "/usr/bin/g++ -shared -g -O3 -fno-math-errno -Wno-unused-label -Wno-unused-variable -Wno-write-strings -Wno-c++11-narrowing -fno-exceptions -fno-unwind-tables -fno-asynchronous-unwind-tables -march=skylake -mmmx -mpopcnt -msse -msse2 -msse3 -mssse3 -msse4.1 -msse4.2 -mno-avx -mno-avx2 -mno-sse4a -mno-fma4 -mno-xop -mno-fma -mno-avx512f -mno-bmi -mno-bmi2 -maes -mpclmul -mno-avx512vl -mno-avx512bw -mno-avx512dq -mno-avx512cd -mno-avx512er -mno-avx512pf -mno-avx512vbmi -mno-avx512ifma -mno-avx5124vnniw -mno-avx5124fmaps -mno-avx512vpopcntdq -mno-avx512vbmi2 -mno-gfni -mno-vpclmulqdq -mno-avx512vnni -mno-avx512bitalg -mno-avx512bf16 -mno-avx512vp2intersect -mno-3dnow -mno-adx -mabm -mno-cldemote -mclflushopt -mno-clwb -mno-clzero -mcx16 -mno-enqcmd -mno-f16c -mfsgsbase -mfxsr -mno-hle -msahf -mno-lwp -mlzcnt -mmovbe -mno-movdir64b -mno-movdiri -mno-mwaitx -mno-pconfig -mno-pku -mno-prefetchwt1 -mprfchw -mno-ptwrite -mno-rdpid -mrdrnd -mrdseed -mno-rtm -mno-serialize -msgx -mno-sha -mno-shstk -mno-tbm -mno-tsxldtrk -mno-vaes -mno-waitpkg -mno-wbnoinvd -mxsave -mxsavec -mxsaveopt -mxsaves -mno-amx-tile -mno-amx-int8 -mno-amx-bf16 -mno-uintr -mno-hreset -mno-kl -mno-widekl -mno-avxvnni --param l1-cache-size=32 --param l1-cache-line-size=64 --param l2-cache-size=2048 -mtune=skylake -DNPY_NO_DEPRECATED_API=NPY_1_7_API_VERSION -m64 -fPIC -I/home/shrey/.pyenv/versions/3.10.5/envs/dev/lib/python3.10/site-packages/numpy/core/include -I/home/shrey/.pyenv/versions/3.10.5/include/python3.10 -I/home/shrey/.pyenv/versions/3.10.5/envs/dev/lib/python3.10/site-packages/pytensor/link/c/c_code -L/home/shrey/.pyenv/versions/3.10.5/lib -fvisibility=hidden -o /home/shrey/.pytensor/compiledir_Linux-6.2--generic-x86_64-with-glibc2.35-x86_64-3.10.5-64/tmp0rfzgjx8/m74a9fc39ad58b63c5f4f47b945eb24aad7e47aad54888d219df994d298350620.so /home/shrey/.pytensor/compiledir_Linux-6.2--generic-x86_64-with-glibc2.35-x86_64-3.10.5-64/tmp0rfzgjx8/mod.cpp -lpython3.10\n",
      "/usr/bin/ld: /home/shrey/.pyenv/versions/3.10.5/lib/libpython3.10.a(pythonrun.o): warning: relocation against `_Py_UnhandledKeyboardInterrupt' in read-only section `.text'\n",
      "/usr/bin/ld: /home/shrey/.pyenv/versions/3.10.5/lib/libpython3.10.a(longobject.o): relocation R_X86_64_PC32 against symbol `PyExc_OverflowError' can not be used when making a shared object; recompile with -fPIC\n",
      "/usr/bin/ld: final link failed: bad value\n",
      "collect2: error: ld returned 1 exit status\n",
      "\n",
      "\n"
     ]
    },
    {
     "name": "stdout",
     "output_type": "stream",
     "text": [
      "\n",
      "You can find the C code in this temporary file: /tmp/pytensor_compilation_error_j12o08mu\n"
     ]
    },
    {
     "name": "stderr",
     "output_type": "stream",
     "text": [
      "ERROR (pytensor.graph.rewriting.basic): Rewrite failure due to: constant_folding\n",
      "ERROR (pytensor.graph.rewriting.basic): node: Floor(0)\n",
      "ERROR (pytensor.graph.rewriting.basic): TRACEBACK:\n",
      "ERROR (pytensor.graph.rewriting.basic): Traceback (most recent call last):\n",
      "  File \"/home/shrey/.pyenv/versions/3.10.5/envs/dev/lib/python3.10/site-packages/pytensor/graph/rewriting/basic.py\", line 1922, in process_node\n",
      "    If `fgraph` accepts the replacement, then the rewrite is\n",
      "  File \"/home/shrey/.pyenv/versions/3.10.5/envs/dev/lib/python3.10/site-packages/pytensor/graph/rewriting/basic.py\", line 1082, in transform\n",
      "    )\n",
      "  File \"/home/shrey/.pyenv/versions/3.10.5/envs/dev/lib/python3.10/site-packages/pytensor/tensor/rewriting/basic.py\", line 1106, in constant_folding\n",
      "    @node_rewriter([Split])\n",
      "  File \"/home/shrey/.pyenv/versions/3.10.5/envs/dev/lib/python3.10/site-packages/pytensor/link/c/op.py\", line 119, in make_thunk\n",
      "    Parameters\n",
      "  File \"/home/shrey/.pyenv/versions/3.10.5/envs/dev/lib/python3.10/site-packages/pytensor/link/c/op.py\", line 84, in make_c_thunk\n",
      "  File \"/home/shrey/.pyenv/versions/3.10.5/envs/dev/lib/python3.10/site-packages/pytensor/link/c/basic.py\", line 1209, in make_thunk\n",
      "  File \"/home/shrey/.pyenv/versions/3.10.5/envs/dev/lib/python3.10/site-packages/pytensor/link/c/basic.py\", line 1129, in __compile__\n",
      "    return (\n",
      "  File \"/home/shrey/.pyenv/versions/3.10.5/envs/dev/lib/python3.10/site-packages/pytensor/link/c/basic.py\", line 1653, in cthunk_factory\n",
      "    i for i, x in enumerate(vars) if vars.count(x) > 1 and vars.index(x) != i\n",
      "  File \"/home/shrey/.pyenv/versions/3.10.5/envs/dev/lib/python3.10/site-packages/pytensor/link/c/cmodule.py\", line 1231, in module_from_key\n",
      "    module = lnk.compile_cmodule(location)\n",
      "  File \"/home/shrey/.pyenv/versions/3.10.5/envs/dev/lib/python3.10/site-packages/pytensor/link/c/basic.py\", line 1552, in compile_cmodule\n",
      "    libs=libs,\n",
      "  File \"/home/shrey/.pyenv/versions/3.10.5/envs/dev/lib/python3.10/site-packages/pytensor/link/c/cmodule.py\", line 2640, in compile_str\n",
      "    # compile_stderr = compile_stderr.replace(\"\\n\", \". \")\n",
      "pytensor.link.c.exceptions.CompileError: Compilation failed (return status=1):\n",
      "/usr/bin/g++ -shared -g -O3 -fno-math-errno -Wno-unused-label -Wno-unused-variable -Wno-write-strings -Wno-c++11-narrowing -fno-exceptions -fno-unwind-tables -fno-asynchronous-unwind-tables -march=skylake -mmmx -mpopcnt -msse -msse2 -msse3 -mssse3 -msse4.1 -msse4.2 -mno-avx -mno-avx2 -mno-sse4a -mno-fma4 -mno-xop -mno-fma -mno-avx512f -mno-bmi -mno-bmi2 -maes -mpclmul -mno-avx512vl -mno-avx512bw -mno-avx512dq -mno-avx512cd -mno-avx512er -mno-avx512pf -mno-avx512vbmi -mno-avx512ifma -mno-avx5124vnniw -mno-avx5124fmaps -mno-avx512vpopcntdq -mno-avx512vbmi2 -mno-gfni -mno-vpclmulqdq -mno-avx512vnni -mno-avx512bitalg -mno-avx512bf16 -mno-avx512vp2intersect -mno-3dnow -mno-adx -mabm -mno-cldemote -mclflushopt -mno-clwb -mno-clzero -mcx16 -mno-enqcmd -mno-f16c -mfsgsbase -mfxsr -mno-hle -msahf -mno-lwp -mlzcnt -mmovbe -mno-movdir64b -mno-movdiri -mno-mwaitx -mno-pconfig -mno-pku -mno-prefetchwt1 -mprfchw -mno-ptwrite -mno-rdpid -mrdrnd -mrdseed -mno-rtm -mno-serialize -msgx -mno-sha -mno-shstk -mno-tbm -mno-tsxldtrk -mno-vaes -mno-waitpkg -mno-wbnoinvd -mxsave -mxsavec -mxsaveopt -mxsaves -mno-amx-tile -mno-amx-int8 -mno-amx-bf16 -mno-uintr -mno-hreset -mno-kl -mno-widekl -mno-avxvnni --param l1-cache-size=32 --param l1-cache-line-size=64 --param l2-cache-size=2048 -mtune=skylake -DNPY_NO_DEPRECATED_API=NPY_1_7_API_VERSION -m64 -fPIC -I/home/shrey/.pyenv/versions/3.10.5/envs/dev/lib/python3.10/site-packages/numpy/core/include -I/home/shrey/.pyenv/versions/3.10.5/include/python3.10 -I/home/shrey/.pyenv/versions/3.10.5/envs/dev/lib/python3.10/site-packages/pytensor/link/c/c_code -L/home/shrey/.pyenv/versions/3.10.5/lib -fvisibility=hidden -o /home/shrey/.pytensor/compiledir_Linux-6.2--generic-x86_64-with-glibc2.35-x86_64-3.10.5-64/tmpat487je0/m74a9fc39ad58b63c5f4f47b945eb24aad7e47aad54888d219df994d298350620.so /home/shrey/.pytensor/compiledir_Linux-6.2--generic-x86_64-with-glibc2.35-x86_64-3.10.5-64/tmpat487je0/mod.cpp -lpython3.10\n",
      "/usr/bin/ld: /home/shrey/.pyenv/versions/3.10.5/lib/libpython3.10.a(pythonrun.o): warning: relocation against `_Py_UnhandledKeyboardInterrupt' in read-only section `.text'\n",
      "/usr/bin/ld: /home/shrey/.pyenv/versions/3.10.5/lib/libpython3.10.a(longobject.o): relocation R_X86_64_PC32 against symbol `PyExc_OverflowError' can not be used when making a shared object; recompile with -fPIC\n",
      "/usr/bin/ld: final link failed: bad value\n",
      "collect2: error: ld returned 1 exit status\n",
      "\n",
      "\n"
     ]
    },
    {
     "name": "stdout",
     "output_type": "stream",
     "text": [
      "\n",
      "You can find the C code in this temporary file: /tmp/pytensor_compilation_error_9l_oq2su\n"
     ]
    },
    {
     "name": "stderr",
     "output_type": "stream",
     "text": [
      "ERROR (pytensor.graph.rewriting.basic): Rewrite failure due to: constant_folding\n",
      "ERROR (pytensor.graph.rewriting.basic): node: Floor(69)\n",
      "ERROR (pytensor.graph.rewriting.basic): TRACEBACK:\n",
      "ERROR (pytensor.graph.rewriting.basic): Traceback (most recent call last):\n",
      "  File \"/home/shrey/.pyenv/versions/3.10.5/envs/dev/lib/python3.10/site-packages/pytensor/graph/rewriting/basic.py\", line 1922, in process_node\n",
      "    If `fgraph` accepts the replacement, then the rewrite is\n",
      "  File \"/home/shrey/.pyenv/versions/3.10.5/envs/dev/lib/python3.10/site-packages/pytensor/graph/rewriting/basic.py\", line 1082, in transform\n",
      "    )\n",
      "  File \"/home/shrey/.pyenv/versions/3.10.5/envs/dev/lib/python3.10/site-packages/pytensor/tensor/rewriting/basic.py\", line 1106, in constant_folding\n",
      "    @node_rewriter([Split])\n",
      "  File \"/home/shrey/.pyenv/versions/3.10.5/envs/dev/lib/python3.10/site-packages/pytensor/link/c/op.py\", line 119, in make_thunk\n",
      "    Parameters\n",
      "  File \"/home/shrey/.pyenv/versions/3.10.5/envs/dev/lib/python3.10/site-packages/pytensor/link/c/op.py\", line 84, in make_c_thunk\n",
      "  File \"/home/shrey/.pyenv/versions/3.10.5/envs/dev/lib/python3.10/site-packages/pytensor/link/c/basic.py\", line 1209, in make_thunk\n",
      "  File \"/home/shrey/.pyenv/versions/3.10.5/envs/dev/lib/python3.10/site-packages/pytensor/link/c/basic.py\", line 1129, in __compile__\n",
      "    return (\n",
      "  File \"/home/shrey/.pyenv/versions/3.10.5/envs/dev/lib/python3.10/site-packages/pytensor/link/c/basic.py\", line 1653, in cthunk_factory\n",
      "    i for i, x in enumerate(vars) if vars.count(x) > 1 and vars.index(x) != i\n",
      "  File \"/home/shrey/.pyenv/versions/3.10.5/envs/dev/lib/python3.10/site-packages/pytensor/link/c/cmodule.py\", line 1231, in module_from_key\n",
      "    module = lnk.compile_cmodule(location)\n",
      "  File \"/home/shrey/.pyenv/versions/3.10.5/envs/dev/lib/python3.10/site-packages/pytensor/link/c/basic.py\", line 1552, in compile_cmodule\n",
      "    libs=libs,\n",
      "  File \"/home/shrey/.pyenv/versions/3.10.5/envs/dev/lib/python3.10/site-packages/pytensor/link/c/cmodule.py\", line 2640, in compile_str\n",
      "    # compile_stderr = compile_stderr.replace(\"\\n\", \". \")\n",
      "pytensor.link.c.exceptions.CompileError: Compilation failed (return status=1):\n",
      "/usr/bin/g++ -shared -g -O3 -fno-math-errno -Wno-unused-label -Wno-unused-variable -Wno-write-strings -Wno-c++11-narrowing -fno-exceptions -fno-unwind-tables -fno-asynchronous-unwind-tables -march=skylake -mmmx -mpopcnt -msse -msse2 -msse3 -mssse3 -msse4.1 -msse4.2 -mno-avx -mno-avx2 -mno-sse4a -mno-fma4 -mno-xop -mno-fma -mno-avx512f -mno-bmi -mno-bmi2 -maes -mpclmul -mno-avx512vl -mno-avx512bw -mno-avx512dq -mno-avx512cd -mno-avx512er -mno-avx512pf -mno-avx512vbmi -mno-avx512ifma -mno-avx5124vnniw -mno-avx5124fmaps -mno-avx512vpopcntdq -mno-avx512vbmi2 -mno-gfni -mno-vpclmulqdq -mno-avx512vnni -mno-avx512bitalg -mno-avx512bf16 -mno-avx512vp2intersect -mno-3dnow -mno-adx -mabm -mno-cldemote -mclflushopt -mno-clwb -mno-clzero -mcx16 -mno-enqcmd -mno-f16c -mfsgsbase -mfxsr -mno-hle -msahf -mno-lwp -mlzcnt -mmovbe -mno-movdir64b -mno-movdiri -mno-mwaitx -mno-pconfig -mno-pku -mno-prefetchwt1 -mprfchw -mno-ptwrite -mno-rdpid -mrdrnd -mrdseed -mno-rtm -mno-serialize -msgx -mno-sha -mno-shstk -mno-tbm -mno-tsxldtrk -mno-vaes -mno-waitpkg -mno-wbnoinvd -mxsave -mxsavec -mxsaveopt -mxsaves -mno-amx-tile -mno-amx-int8 -mno-amx-bf16 -mno-uintr -mno-hreset -mno-kl -mno-widekl -mno-avxvnni --param l1-cache-size=32 --param l1-cache-line-size=64 --param l2-cache-size=2048 -mtune=skylake -DNPY_NO_DEPRECATED_API=NPY_1_7_API_VERSION -m64 -fPIC -I/home/shrey/.pyenv/versions/3.10.5/envs/dev/lib/python3.10/site-packages/numpy/core/include -I/home/shrey/.pyenv/versions/3.10.5/include/python3.10 -I/home/shrey/.pyenv/versions/3.10.5/envs/dev/lib/python3.10/site-packages/pytensor/link/c/c_code -L/home/shrey/.pyenv/versions/3.10.5/lib -fvisibility=hidden -o /home/shrey/.pytensor/compiledir_Linux-6.2--generic-x86_64-with-glibc2.35-x86_64-3.10.5-64/tmp_xhwem61/m74a9fc39ad58b63c5f4f47b945eb24aad7e47aad54888d219df994d298350620.so /home/shrey/.pytensor/compiledir_Linux-6.2--generic-x86_64-with-glibc2.35-x86_64-3.10.5-64/tmp_xhwem61/mod.cpp -lpython3.10\n",
      "/usr/bin/ld: /home/shrey/.pyenv/versions/3.10.5/lib/libpython3.10.a(pythonrun.o): warning: relocation against `_Py_UnhandledKeyboardInterrupt' in read-only section `.text'\n",
      "/usr/bin/ld: /home/shrey/.pyenv/versions/3.10.5/lib/libpython3.10.a(longobject.o): relocation R_X86_64_PC32 against symbol `PyExc_OverflowError' can not be used when making a shared object; recompile with -fPIC\n",
      "/usr/bin/ld: final link failed: bad value\n",
      "collect2: error: ld returned 1 exit status\n",
      "\n",
      "\n"
     ]
    },
    {
     "name": "stdout",
     "output_type": "stream",
     "text": [
      "\n",
      "You can find the C code in this temporary file: /tmp/pytensor_compilation_error_yrmc5_q1\n"
     ]
    },
    {
     "name": "stderr",
     "output_type": "stream",
     "text": [
      "ERROR (pytensor.graph.rewriting.basic): Rewrite failure due to: constant_folding\n",
      "ERROR (pytensor.graph.rewriting.basic): node: Floor(0)\n",
      "ERROR (pytensor.graph.rewriting.basic): TRACEBACK:\n",
      "ERROR (pytensor.graph.rewriting.basic): Traceback (most recent call last):\n",
      "  File \"/home/shrey/.pyenv/versions/3.10.5/envs/dev/lib/python3.10/site-packages/pytensor/graph/rewriting/basic.py\", line 1922, in process_node\n",
      "    If `fgraph` accepts the replacement, then the rewrite is\n",
      "  File \"/home/shrey/.pyenv/versions/3.10.5/envs/dev/lib/python3.10/site-packages/pytensor/graph/rewriting/basic.py\", line 1082, in transform\n",
      "    )\n",
      "  File \"/home/shrey/.pyenv/versions/3.10.5/envs/dev/lib/python3.10/site-packages/pytensor/tensor/rewriting/basic.py\", line 1106, in constant_folding\n",
      "    @node_rewriter([Split])\n",
      "  File \"/home/shrey/.pyenv/versions/3.10.5/envs/dev/lib/python3.10/site-packages/pytensor/link/c/op.py\", line 119, in make_thunk\n",
      "    Parameters\n",
      "  File \"/home/shrey/.pyenv/versions/3.10.5/envs/dev/lib/python3.10/site-packages/pytensor/link/c/op.py\", line 84, in make_c_thunk\n",
      "  File \"/home/shrey/.pyenv/versions/3.10.5/envs/dev/lib/python3.10/site-packages/pytensor/link/c/basic.py\", line 1209, in make_thunk\n",
      "  File \"/home/shrey/.pyenv/versions/3.10.5/envs/dev/lib/python3.10/site-packages/pytensor/link/c/basic.py\", line 1129, in __compile__\n",
      "    return (\n",
      "  File \"/home/shrey/.pyenv/versions/3.10.5/envs/dev/lib/python3.10/site-packages/pytensor/link/c/basic.py\", line 1653, in cthunk_factory\n",
      "    i for i, x in enumerate(vars) if vars.count(x) > 1 and vars.index(x) != i\n",
      "  File \"/home/shrey/.pyenv/versions/3.10.5/envs/dev/lib/python3.10/site-packages/pytensor/link/c/cmodule.py\", line 1231, in module_from_key\n",
      "    module = lnk.compile_cmodule(location)\n",
      "  File \"/home/shrey/.pyenv/versions/3.10.5/envs/dev/lib/python3.10/site-packages/pytensor/link/c/basic.py\", line 1552, in compile_cmodule\n",
      "    libs=libs,\n",
      "  File \"/home/shrey/.pyenv/versions/3.10.5/envs/dev/lib/python3.10/site-packages/pytensor/link/c/cmodule.py\", line 2640, in compile_str\n",
      "    # compile_stderr = compile_stderr.replace(\"\\n\", \". \")\n",
      "pytensor.link.c.exceptions.CompileError: Compilation failed (return status=1):\n",
      "/usr/bin/g++ -shared -g -O3 -fno-math-errno -Wno-unused-label -Wno-unused-variable -Wno-write-strings -Wno-c++11-narrowing -fno-exceptions -fno-unwind-tables -fno-asynchronous-unwind-tables -march=skylake -mmmx -mpopcnt -msse -msse2 -msse3 -mssse3 -msse4.1 -msse4.2 -mno-avx -mno-avx2 -mno-sse4a -mno-fma4 -mno-xop -mno-fma -mno-avx512f -mno-bmi -mno-bmi2 -maes -mpclmul -mno-avx512vl -mno-avx512bw -mno-avx512dq -mno-avx512cd -mno-avx512er -mno-avx512pf -mno-avx512vbmi -mno-avx512ifma -mno-avx5124vnniw -mno-avx5124fmaps -mno-avx512vpopcntdq -mno-avx512vbmi2 -mno-gfni -mno-vpclmulqdq -mno-avx512vnni -mno-avx512bitalg -mno-avx512bf16 -mno-avx512vp2intersect -mno-3dnow -mno-adx -mabm -mno-cldemote -mclflushopt -mno-clwb -mno-clzero -mcx16 -mno-enqcmd -mno-f16c -mfsgsbase -mfxsr -mno-hle -msahf -mno-lwp -mlzcnt -mmovbe -mno-movdir64b -mno-movdiri -mno-mwaitx -mno-pconfig -mno-pku -mno-prefetchwt1 -mprfchw -mno-ptwrite -mno-rdpid -mrdrnd -mrdseed -mno-rtm -mno-serialize -msgx -mno-sha -mno-shstk -mno-tbm -mno-tsxldtrk -mno-vaes -mno-waitpkg -mno-wbnoinvd -mxsave -mxsavec -mxsaveopt -mxsaves -mno-amx-tile -mno-amx-int8 -mno-amx-bf16 -mno-uintr -mno-hreset -mno-kl -mno-widekl -mno-avxvnni --param l1-cache-size=32 --param l1-cache-line-size=64 --param l2-cache-size=2048 -mtune=skylake -DNPY_NO_DEPRECATED_API=NPY_1_7_API_VERSION -m64 -fPIC -I/home/shrey/.pyenv/versions/3.10.5/envs/dev/lib/python3.10/site-packages/numpy/core/include -I/home/shrey/.pyenv/versions/3.10.5/include/python3.10 -I/home/shrey/.pyenv/versions/3.10.5/envs/dev/lib/python3.10/site-packages/pytensor/link/c/c_code -L/home/shrey/.pyenv/versions/3.10.5/lib -fvisibility=hidden -o /home/shrey/.pytensor/compiledir_Linux-6.2--generic-x86_64-with-glibc2.35-x86_64-3.10.5-64/tmpz4m_mb_x/m74a9fc39ad58b63c5f4f47b945eb24aad7e47aad54888d219df994d298350620.so /home/shrey/.pytensor/compiledir_Linux-6.2--generic-x86_64-with-glibc2.35-x86_64-3.10.5-64/tmpz4m_mb_x/mod.cpp -lpython3.10\n",
      "/usr/bin/ld: /home/shrey/.pyenv/versions/3.10.5/lib/libpython3.10.a(pythonrun.o): warning: relocation against `_Py_UnhandledKeyboardInterrupt' in read-only section `.text'\n",
      "/usr/bin/ld: /home/shrey/.pyenv/versions/3.10.5/lib/libpython3.10.a(longobject.o): relocation R_X86_64_PC32 against symbol `PyExc_OverflowError' can not be used when making a shared object; recompile with -fPIC\n",
      "/usr/bin/ld: final link failed: bad value\n",
      "collect2: error: ld returned 1 exit status\n",
      "\n",
      "\n"
     ]
    },
    {
     "name": "stdout",
     "output_type": "stream",
     "text": [
      "\n",
      "You can find the C code in this temporary file: /tmp/pytensor_compilation_error_fnejo75_\n"
     ]
    },
    {
     "name": "stderr",
     "output_type": "stream",
     "text": [
      "ERROR (pytensor.graph.rewriting.basic): Rewrite failure due to: constant_folding\n",
      "ERROR (pytensor.graph.rewriting.basic): node: Floor(69)\n",
      "ERROR (pytensor.graph.rewriting.basic): TRACEBACK:\n",
      "ERROR (pytensor.graph.rewriting.basic): Traceback (most recent call last):\n",
      "  File \"/home/shrey/.pyenv/versions/3.10.5/envs/dev/lib/python3.10/site-packages/pytensor/graph/rewriting/basic.py\", line 1922, in process_node\n",
      "    If `fgraph` accepts the replacement, then the rewrite is\n",
      "  File \"/home/shrey/.pyenv/versions/3.10.5/envs/dev/lib/python3.10/site-packages/pytensor/graph/rewriting/basic.py\", line 1082, in transform\n",
      "    )\n",
      "  File \"/home/shrey/.pyenv/versions/3.10.5/envs/dev/lib/python3.10/site-packages/pytensor/tensor/rewriting/basic.py\", line 1106, in constant_folding\n",
      "    @node_rewriter([Split])\n",
      "  File \"/home/shrey/.pyenv/versions/3.10.5/envs/dev/lib/python3.10/site-packages/pytensor/link/c/op.py\", line 119, in make_thunk\n",
      "    Parameters\n",
      "  File \"/home/shrey/.pyenv/versions/3.10.5/envs/dev/lib/python3.10/site-packages/pytensor/link/c/op.py\", line 84, in make_c_thunk\n",
      "  File \"/home/shrey/.pyenv/versions/3.10.5/envs/dev/lib/python3.10/site-packages/pytensor/link/c/basic.py\", line 1209, in make_thunk\n",
      "  File \"/home/shrey/.pyenv/versions/3.10.5/envs/dev/lib/python3.10/site-packages/pytensor/link/c/basic.py\", line 1129, in __compile__\n",
      "    return (\n",
      "  File \"/home/shrey/.pyenv/versions/3.10.5/envs/dev/lib/python3.10/site-packages/pytensor/link/c/basic.py\", line 1653, in cthunk_factory\n",
      "    i for i, x in enumerate(vars) if vars.count(x) > 1 and vars.index(x) != i\n",
      "  File \"/home/shrey/.pyenv/versions/3.10.5/envs/dev/lib/python3.10/site-packages/pytensor/link/c/cmodule.py\", line 1231, in module_from_key\n",
      "    module = lnk.compile_cmodule(location)\n",
      "  File \"/home/shrey/.pyenv/versions/3.10.5/envs/dev/lib/python3.10/site-packages/pytensor/link/c/basic.py\", line 1552, in compile_cmodule\n",
      "    libs=libs,\n",
      "  File \"/home/shrey/.pyenv/versions/3.10.5/envs/dev/lib/python3.10/site-packages/pytensor/link/c/cmodule.py\", line 2640, in compile_str\n",
      "    # compile_stderr = compile_stderr.replace(\"\\n\", \". \")\n",
      "pytensor.link.c.exceptions.CompileError: Compilation failed (return status=1):\n",
      "/usr/bin/g++ -shared -g -O3 -fno-math-errno -Wno-unused-label -Wno-unused-variable -Wno-write-strings -Wno-c++11-narrowing -fno-exceptions -fno-unwind-tables -fno-asynchronous-unwind-tables -march=skylake -mmmx -mpopcnt -msse -msse2 -msse3 -mssse3 -msse4.1 -msse4.2 -mno-avx -mno-avx2 -mno-sse4a -mno-fma4 -mno-xop -mno-fma -mno-avx512f -mno-bmi -mno-bmi2 -maes -mpclmul -mno-avx512vl -mno-avx512bw -mno-avx512dq -mno-avx512cd -mno-avx512er -mno-avx512pf -mno-avx512vbmi -mno-avx512ifma -mno-avx5124vnniw -mno-avx5124fmaps -mno-avx512vpopcntdq -mno-avx512vbmi2 -mno-gfni -mno-vpclmulqdq -mno-avx512vnni -mno-avx512bitalg -mno-avx512bf16 -mno-avx512vp2intersect -mno-3dnow -mno-adx -mabm -mno-cldemote -mclflushopt -mno-clwb -mno-clzero -mcx16 -mno-enqcmd -mno-f16c -mfsgsbase -mfxsr -mno-hle -msahf -mno-lwp -mlzcnt -mmovbe -mno-movdir64b -mno-movdiri -mno-mwaitx -mno-pconfig -mno-pku -mno-prefetchwt1 -mprfchw -mno-ptwrite -mno-rdpid -mrdrnd -mrdseed -mno-rtm -mno-serialize -msgx -mno-sha -mno-shstk -mno-tbm -mno-tsxldtrk -mno-vaes -mno-waitpkg -mno-wbnoinvd -mxsave -mxsavec -mxsaveopt -mxsaves -mno-amx-tile -mno-amx-int8 -mno-amx-bf16 -mno-uintr -mno-hreset -mno-kl -mno-widekl -mno-avxvnni --param l1-cache-size=32 --param l1-cache-line-size=64 --param l2-cache-size=2048 -mtune=skylake -DNPY_NO_DEPRECATED_API=NPY_1_7_API_VERSION -m64 -fPIC -I/home/shrey/.pyenv/versions/3.10.5/envs/dev/lib/python3.10/site-packages/numpy/core/include -I/home/shrey/.pyenv/versions/3.10.5/include/python3.10 -I/home/shrey/.pyenv/versions/3.10.5/envs/dev/lib/python3.10/site-packages/pytensor/link/c/c_code -L/home/shrey/.pyenv/versions/3.10.5/lib -fvisibility=hidden -o /home/shrey/.pytensor/compiledir_Linux-6.2--generic-x86_64-with-glibc2.35-x86_64-3.10.5-64/tmprmw2vns8/m74a9fc39ad58b63c5f4f47b945eb24aad7e47aad54888d219df994d298350620.so /home/shrey/.pytensor/compiledir_Linux-6.2--generic-x86_64-with-glibc2.35-x86_64-3.10.5-64/tmprmw2vns8/mod.cpp -lpython3.10\n",
      "/usr/bin/ld: /home/shrey/.pyenv/versions/3.10.5/lib/libpython3.10.a(pythonrun.o): warning: relocation against `_Py_UnhandledKeyboardInterrupt' in read-only section `.text'\n",
      "/usr/bin/ld: /home/shrey/.pyenv/versions/3.10.5/lib/libpython3.10.a(longobject.o): relocation R_X86_64_PC32 against symbol `PyExc_OverflowError' can not be used when making a shared object; recompile with -fPIC\n",
      "/usr/bin/ld: final link failed: bad value\n",
      "collect2: error: ld returned 1 exit status\n",
      "\n",
      "\n"
     ]
    },
    {
     "name": "stdout",
     "output_type": "stream",
     "text": [
      "\n",
      "You can find the C code in this temporary file: /tmp/pytensor_compilation_error_kja77p9r\n"
     ]
    },
    {
     "name": "stderr",
     "output_type": "stream",
     "text": [
      "ERROR (pytensor.graph.rewriting.basic): Rewrite failure due to: constant_folding\n",
      "ERROR (pytensor.graph.rewriting.basic): node: Floor(0)\n",
      "ERROR (pytensor.graph.rewriting.basic): TRACEBACK:\n",
      "ERROR (pytensor.graph.rewriting.basic): Traceback (most recent call last):\n",
      "  File \"/home/shrey/.pyenv/versions/3.10.5/envs/dev/lib/python3.10/site-packages/pytensor/graph/rewriting/basic.py\", line 1922, in process_node\n",
      "    If `fgraph` accepts the replacement, then the rewrite is\n",
      "  File \"/home/shrey/.pyenv/versions/3.10.5/envs/dev/lib/python3.10/site-packages/pytensor/graph/rewriting/basic.py\", line 1082, in transform\n",
      "    )\n",
      "  File \"/home/shrey/.pyenv/versions/3.10.5/envs/dev/lib/python3.10/site-packages/pytensor/tensor/rewriting/basic.py\", line 1106, in constant_folding\n",
      "    @node_rewriter([Split])\n",
      "  File \"/home/shrey/.pyenv/versions/3.10.5/envs/dev/lib/python3.10/site-packages/pytensor/link/c/op.py\", line 119, in make_thunk\n",
      "    Parameters\n",
      "  File \"/home/shrey/.pyenv/versions/3.10.5/envs/dev/lib/python3.10/site-packages/pytensor/link/c/op.py\", line 84, in make_c_thunk\n",
      "  File \"/home/shrey/.pyenv/versions/3.10.5/envs/dev/lib/python3.10/site-packages/pytensor/link/c/basic.py\", line 1209, in make_thunk\n",
      "  File \"/home/shrey/.pyenv/versions/3.10.5/envs/dev/lib/python3.10/site-packages/pytensor/link/c/basic.py\", line 1129, in __compile__\n",
      "    return (\n",
      "  File \"/home/shrey/.pyenv/versions/3.10.5/envs/dev/lib/python3.10/site-packages/pytensor/link/c/basic.py\", line 1653, in cthunk_factory\n",
      "    i for i, x in enumerate(vars) if vars.count(x) > 1 and vars.index(x) != i\n",
      "  File \"/home/shrey/.pyenv/versions/3.10.5/envs/dev/lib/python3.10/site-packages/pytensor/link/c/cmodule.py\", line 1231, in module_from_key\n",
      "    module = lnk.compile_cmodule(location)\n",
      "  File \"/home/shrey/.pyenv/versions/3.10.5/envs/dev/lib/python3.10/site-packages/pytensor/link/c/basic.py\", line 1552, in compile_cmodule\n",
      "    libs=libs,\n",
      "  File \"/home/shrey/.pyenv/versions/3.10.5/envs/dev/lib/python3.10/site-packages/pytensor/link/c/cmodule.py\", line 2640, in compile_str\n",
      "    # compile_stderr = compile_stderr.replace(\"\\n\", \". \")\n",
      "pytensor.link.c.exceptions.CompileError: Compilation failed (return status=1):\n",
      "/usr/bin/g++ -shared -g -O3 -fno-math-errno -Wno-unused-label -Wno-unused-variable -Wno-write-strings -Wno-c++11-narrowing -fno-exceptions -fno-unwind-tables -fno-asynchronous-unwind-tables -march=skylake -mmmx -mpopcnt -msse -msse2 -msse3 -mssse3 -msse4.1 -msse4.2 -mno-avx -mno-avx2 -mno-sse4a -mno-fma4 -mno-xop -mno-fma -mno-avx512f -mno-bmi -mno-bmi2 -maes -mpclmul -mno-avx512vl -mno-avx512bw -mno-avx512dq -mno-avx512cd -mno-avx512er -mno-avx512pf -mno-avx512vbmi -mno-avx512ifma -mno-avx5124vnniw -mno-avx5124fmaps -mno-avx512vpopcntdq -mno-avx512vbmi2 -mno-gfni -mno-vpclmulqdq -mno-avx512vnni -mno-avx512bitalg -mno-avx512bf16 -mno-avx512vp2intersect -mno-3dnow -mno-adx -mabm -mno-cldemote -mclflushopt -mno-clwb -mno-clzero -mcx16 -mno-enqcmd -mno-f16c -mfsgsbase -mfxsr -mno-hle -msahf -mno-lwp -mlzcnt -mmovbe -mno-movdir64b -mno-movdiri -mno-mwaitx -mno-pconfig -mno-pku -mno-prefetchwt1 -mprfchw -mno-ptwrite -mno-rdpid -mrdrnd -mrdseed -mno-rtm -mno-serialize -msgx -mno-sha -mno-shstk -mno-tbm -mno-tsxldtrk -mno-vaes -mno-waitpkg -mno-wbnoinvd -mxsave -mxsavec -mxsaveopt -mxsaves -mno-amx-tile -mno-amx-int8 -mno-amx-bf16 -mno-uintr -mno-hreset -mno-kl -mno-widekl -mno-avxvnni --param l1-cache-size=32 --param l1-cache-line-size=64 --param l2-cache-size=2048 -mtune=skylake -DNPY_NO_DEPRECATED_API=NPY_1_7_API_VERSION -m64 -fPIC -I/home/shrey/.pyenv/versions/3.10.5/envs/dev/lib/python3.10/site-packages/numpy/core/include -I/home/shrey/.pyenv/versions/3.10.5/include/python3.10 -I/home/shrey/.pyenv/versions/3.10.5/envs/dev/lib/python3.10/site-packages/pytensor/link/c/c_code -L/home/shrey/.pyenv/versions/3.10.5/lib -fvisibility=hidden -o /home/shrey/.pytensor/compiledir_Linux-6.2--generic-x86_64-with-glibc2.35-x86_64-3.10.5-64/tmp90t2kezh/m74a9fc39ad58b63c5f4f47b945eb24aad7e47aad54888d219df994d298350620.so /home/shrey/.pytensor/compiledir_Linux-6.2--generic-x86_64-with-glibc2.35-x86_64-3.10.5-64/tmp90t2kezh/mod.cpp -lpython3.10\n",
      "/usr/bin/ld: /home/shrey/.pyenv/versions/3.10.5/lib/libpython3.10.a(pythonrun.o): warning: relocation against `_Py_UnhandledKeyboardInterrupt' in read-only section `.text'\n",
      "/usr/bin/ld: /home/shrey/.pyenv/versions/3.10.5/lib/libpython3.10.a(longobject.o): relocation R_X86_64_PC32 against symbol `PyExc_OverflowError' can not be used when making a shared object; recompile with -fPIC\n",
      "/usr/bin/ld: final link failed: bad value\n",
      "collect2: error: ld returned 1 exit status\n",
      "\n",
      "\n"
     ]
    },
    {
     "name": "stdout",
     "output_type": "stream",
     "text": [
      "\n",
      "You can find the C code in this temporary file: /tmp/pytensor_compilation_error_7svjulnu\n"
     ]
    },
    {
     "name": "stderr",
     "output_type": "stream",
     "text": [
      "ERROR (pytensor.graph.rewriting.basic): Rewrite failure due to: constant_folding\n",
      "ERROR (pytensor.graph.rewriting.basic): node: Floor(69)\n",
      "ERROR (pytensor.graph.rewriting.basic): TRACEBACK:\n",
      "ERROR (pytensor.graph.rewriting.basic): Traceback (most recent call last):\n",
      "  File \"/home/shrey/.pyenv/versions/3.10.5/envs/dev/lib/python3.10/site-packages/pytensor/graph/rewriting/basic.py\", line 1922, in process_node\n",
      "    If `fgraph` accepts the replacement, then the rewrite is\n",
      "  File \"/home/shrey/.pyenv/versions/3.10.5/envs/dev/lib/python3.10/site-packages/pytensor/graph/rewriting/basic.py\", line 1082, in transform\n",
      "    )\n",
      "  File \"/home/shrey/.pyenv/versions/3.10.5/envs/dev/lib/python3.10/site-packages/pytensor/tensor/rewriting/basic.py\", line 1106, in constant_folding\n",
      "    @node_rewriter([Split])\n",
      "  File \"/home/shrey/.pyenv/versions/3.10.5/envs/dev/lib/python3.10/site-packages/pytensor/link/c/op.py\", line 119, in make_thunk\n",
      "    Parameters\n",
      "  File \"/home/shrey/.pyenv/versions/3.10.5/envs/dev/lib/python3.10/site-packages/pytensor/link/c/op.py\", line 84, in make_c_thunk\n",
      "  File \"/home/shrey/.pyenv/versions/3.10.5/envs/dev/lib/python3.10/site-packages/pytensor/link/c/basic.py\", line 1209, in make_thunk\n",
      "  File \"/home/shrey/.pyenv/versions/3.10.5/envs/dev/lib/python3.10/site-packages/pytensor/link/c/basic.py\", line 1129, in __compile__\n",
      "    return (\n",
      "  File \"/home/shrey/.pyenv/versions/3.10.5/envs/dev/lib/python3.10/site-packages/pytensor/link/c/basic.py\", line 1653, in cthunk_factory\n",
      "    i for i, x in enumerate(vars) if vars.count(x) > 1 and vars.index(x) != i\n",
      "  File \"/home/shrey/.pyenv/versions/3.10.5/envs/dev/lib/python3.10/site-packages/pytensor/link/c/cmodule.py\", line 1231, in module_from_key\n",
      "    module = lnk.compile_cmodule(location)\n",
      "  File \"/home/shrey/.pyenv/versions/3.10.5/envs/dev/lib/python3.10/site-packages/pytensor/link/c/basic.py\", line 1552, in compile_cmodule\n",
      "    libs=libs,\n",
      "  File \"/home/shrey/.pyenv/versions/3.10.5/envs/dev/lib/python3.10/site-packages/pytensor/link/c/cmodule.py\", line 2640, in compile_str\n",
      "    # compile_stderr = compile_stderr.replace(\"\\n\", \". \")\n",
      "pytensor.link.c.exceptions.CompileError: Compilation failed (return status=1):\n",
      "/usr/bin/g++ -shared -g -O3 -fno-math-errno -Wno-unused-label -Wno-unused-variable -Wno-write-strings -Wno-c++11-narrowing -fno-exceptions -fno-unwind-tables -fno-asynchronous-unwind-tables -march=skylake -mmmx -mpopcnt -msse -msse2 -msse3 -mssse3 -msse4.1 -msse4.2 -mno-avx -mno-avx2 -mno-sse4a -mno-fma4 -mno-xop -mno-fma -mno-avx512f -mno-bmi -mno-bmi2 -maes -mpclmul -mno-avx512vl -mno-avx512bw -mno-avx512dq -mno-avx512cd -mno-avx512er -mno-avx512pf -mno-avx512vbmi -mno-avx512ifma -mno-avx5124vnniw -mno-avx5124fmaps -mno-avx512vpopcntdq -mno-avx512vbmi2 -mno-gfni -mno-vpclmulqdq -mno-avx512vnni -mno-avx512bitalg -mno-avx512bf16 -mno-avx512vp2intersect -mno-3dnow -mno-adx -mabm -mno-cldemote -mclflushopt -mno-clwb -mno-clzero -mcx16 -mno-enqcmd -mno-f16c -mfsgsbase -mfxsr -mno-hle -msahf -mno-lwp -mlzcnt -mmovbe -mno-movdir64b -mno-movdiri -mno-mwaitx -mno-pconfig -mno-pku -mno-prefetchwt1 -mprfchw -mno-ptwrite -mno-rdpid -mrdrnd -mrdseed -mno-rtm -mno-serialize -msgx -mno-sha -mno-shstk -mno-tbm -mno-tsxldtrk -mno-vaes -mno-waitpkg -mno-wbnoinvd -mxsave -mxsavec -mxsaveopt -mxsaves -mno-amx-tile -mno-amx-int8 -mno-amx-bf16 -mno-uintr -mno-hreset -mno-kl -mno-widekl -mno-avxvnni --param l1-cache-size=32 --param l1-cache-line-size=64 --param l2-cache-size=2048 -mtune=skylake -DNPY_NO_DEPRECATED_API=NPY_1_7_API_VERSION -m64 -fPIC -I/home/shrey/.pyenv/versions/3.10.5/envs/dev/lib/python3.10/site-packages/numpy/core/include -I/home/shrey/.pyenv/versions/3.10.5/include/python3.10 -I/home/shrey/.pyenv/versions/3.10.5/envs/dev/lib/python3.10/site-packages/pytensor/link/c/c_code -L/home/shrey/.pyenv/versions/3.10.5/lib -fvisibility=hidden -o /home/shrey/.pytensor/compiledir_Linux-6.2--generic-x86_64-with-glibc2.35-x86_64-3.10.5-64/tmp9scy6rap/m74a9fc39ad58b63c5f4f47b945eb24aad7e47aad54888d219df994d298350620.so /home/shrey/.pytensor/compiledir_Linux-6.2--generic-x86_64-with-glibc2.35-x86_64-3.10.5-64/tmp9scy6rap/mod.cpp -lpython3.10\n",
      "/usr/bin/ld: /home/shrey/.pyenv/versions/3.10.5/lib/libpython3.10.a(pythonrun.o): warning: relocation against `_Py_UnhandledKeyboardInterrupt' in read-only section `.text'\n",
      "/usr/bin/ld: /home/shrey/.pyenv/versions/3.10.5/lib/libpython3.10.a(longobject.o): relocation R_X86_64_PC32 against symbol `PyExc_OverflowError' can not be used when making a shared object; recompile with -fPIC\n",
      "/usr/bin/ld: final link failed: bad value\n",
      "collect2: error: ld returned 1 exit status\n",
      "\n",
      "\n"
     ]
    },
    {
     "name": "stdout",
     "output_type": "stream",
     "text": [
      "\n",
      "You can find the C code in this temporary file: /tmp/pytensor_compilation_error_8bl1eupq\n"
     ]
    },
    {
     "name": "stderr",
     "output_type": "stream",
     "text": [
      "ERROR (pytensor.graph.rewriting.basic): Rewrite failure due to: constant_folding\n",
      "ERROR (pytensor.graph.rewriting.basic): node: Floor(0)\n",
      "ERROR (pytensor.graph.rewriting.basic): TRACEBACK:\n",
      "ERROR (pytensor.graph.rewriting.basic): Traceback (most recent call last):\n",
      "  File \"/home/shrey/.pyenv/versions/3.10.5/envs/dev/lib/python3.10/site-packages/pytensor/graph/rewriting/basic.py\", line 1922, in process_node\n",
      "    If `fgraph` accepts the replacement, then the rewrite is\n",
      "  File \"/home/shrey/.pyenv/versions/3.10.5/envs/dev/lib/python3.10/site-packages/pytensor/graph/rewriting/basic.py\", line 1082, in transform\n",
      "    )\n",
      "  File \"/home/shrey/.pyenv/versions/3.10.5/envs/dev/lib/python3.10/site-packages/pytensor/tensor/rewriting/basic.py\", line 1106, in constant_folding\n",
      "    @node_rewriter([Split])\n",
      "  File \"/home/shrey/.pyenv/versions/3.10.5/envs/dev/lib/python3.10/site-packages/pytensor/link/c/op.py\", line 119, in make_thunk\n",
      "    Parameters\n",
      "  File \"/home/shrey/.pyenv/versions/3.10.5/envs/dev/lib/python3.10/site-packages/pytensor/link/c/op.py\", line 84, in make_c_thunk\n",
      "  File \"/home/shrey/.pyenv/versions/3.10.5/envs/dev/lib/python3.10/site-packages/pytensor/link/c/basic.py\", line 1209, in make_thunk\n",
      "  File \"/home/shrey/.pyenv/versions/3.10.5/envs/dev/lib/python3.10/site-packages/pytensor/link/c/basic.py\", line 1129, in __compile__\n",
      "    return (\n",
      "  File \"/home/shrey/.pyenv/versions/3.10.5/envs/dev/lib/python3.10/site-packages/pytensor/link/c/basic.py\", line 1653, in cthunk_factory\n",
      "    i for i, x in enumerate(vars) if vars.count(x) > 1 and vars.index(x) != i\n",
      "  File \"/home/shrey/.pyenv/versions/3.10.5/envs/dev/lib/python3.10/site-packages/pytensor/link/c/cmodule.py\", line 1231, in module_from_key\n",
      "    module = lnk.compile_cmodule(location)\n",
      "  File \"/home/shrey/.pyenv/versions/3.10.5/envs/dev/lib/python3.10/site-packages/pytensor/link/c/basic.py\", line 1552, in compile_cmodule\n",
      "    libs=libs,\n",
      "  File \"/home/shrey/.pyenv/versions/3.10.5/envs/dev/lib/python3.10/site-packages/pytensor/link/c/cmodule.py\", line 2640, in compile_str\n",
      "    # compile_stderr = compile_stderr.replace(\"\\n\", \". \")\n",
      "pytensor.link.c.exceptions.CompileError: Compilation failed (return status=1):\n",
      "/usr/bin/g++ -shared -g -O3 -fno-math-errno -Wno-unused-label -Wno-unused-variable -Wno-write-strings -Wno-c++11-narrowing -fno-exceptions -fno-unwind-tables -fno-asynchronous-unwind-tables -march=skylake -mmmx -mpopcnt -msse -msse2 -msse3 -mssse3 -msse4.1 -msse4.2 -mno-avx -mno-avx2 -mno-sse4a -mno-fma4 -mno-xop -mno-fma -mno-avx512f -mno-bmi -mno-bmi2 -maes -mpclmul -mno-avx512vl -mno-avx512bw -mno-avx512dq -mno-avx512cd -mno-avx512er -mno-avx512pf -mno-avx512vbmi -mno-avx512ifma -mno-avx5124vnniw -mno-avx5124fmaps -mno-avx512vpopcntdq -mno-avx512vbmi2 -mno-gfni -mno-vpclmulqdq -mno-avx512vnni -mno-avx512bitalg -mno-avx512bf16 -mno-avx512vp2intersect -mno-3dnow -mno-adx -mabm -mno-cldemote -mclflushopt -mno-clwb -mno-clzero -mcx16 -mno-enqcmd -mno-f16c -mfsgsbase -mfxsr -mno-hle -msahf -mno-lwp -mlzcnt -mmovbe -mno-movdir64b -mno-movdiri -mno-mwaitx -mno-pconfig -mno-pku -mno-prefetchwt1 -mprfchw -mno-ptwrite -mno-rdpid -mrdrnd -mrdseed -mno-rtm -mno-serialize -msgx -mno-sha -mno-shstk -mno-tbm -mno-tsxldtrk -mno-vaes -mno-waitpkg -mno-wbnoinvd -mxsave -mxsavec -mxsaveopt -mxsaves -mno-amx-tile -mno-amx-int8 -mno-amx-bf16 -mno-uintr -mno-hreset -mno-kl -mno-widekl -mno-avxvnni --param l1-cache-size=32 --param l1-cache-line-size=64 --param l2-cache-size=2048 -mtune=skylake -DNPY_NO_DEPRECATED_API=NPY_1_7_API_VERSION -m64 -fPIC -I/home/shrey/.pyenv/versions/3.10.5/envs/dev/lib/python3.10/site-packages/numpy/core/include -I/home/shrey/.pyenv/versions/3.10.5/include/python3.10 -I/home/shrey/.pyenv/versions/3.10.5/envs/dev/lib/python3.10/site-packages/pytensor/link/c/c_code -L/home/shrey/.pyenv/versions/3.10.5/lib -fvisibility=hidden -o /home/shrey/.pytensor/compiledir_Linux-6.2--generic-x86_64-with-glibc2.35-x86_64-3.10.5-64/tmpxmgb4c6b/m74a9fc39ad58b63c5f4f47b945eb24aad7e47aad54888d219df994d298350620.so /home/shrey/.pytensor/compiledir_Linux-6.2--generic-x86_64-with-glibc2.35-x86_64-3.10.5-64/tmpxmgb4c6b/mod.cpp -lpython3.10\n",
      "/usr/bin/ld: /home/shrey/.pyenv/versions/3.10.5/lib/libpython3.10.a(pythonrun.o): warning: relocation against `_Py_UnhandledKeyboardInterrupt' in read-only section `.text'\n",
      "/usr/bin/ld: /home/shrey/.pyenv/versions/3.10.5/lib/libpython3.10.a(longobject.o): relocation R_X86_64_PC32 against symbol `PyExc_OverflowError' can not be used when making a shared object; recompile with -fPIC\n",
      "/usr/bin/ld: final link failed: bad value\n",
      "collect2: error: ld returned 1 exit status\n",
      "\n",
      "\n"
     ]
    },
    {
     "name": "stdout",
     "output_type": "stream",
     "text": [
      "\n",
      "You can find the C code in this temporary file: /tmp/pytensor_compilation_error_4qrpdtz0\n"
     ]
    },
    {
     "name": "stderr",
     "output_type": "stream",
     "text": [
      "ERROR (pytensor.graph.rewriting.basic): Rewrite failure due to: constant_folding\n",
      "ERROR (pytensor.graph.rewriting.basic): node: Floor(69)\n",
      "ERROR (pytensor.graph.rewriting.basic): TRACEBACK:\n",
      "ERROR (pytensor.graph.rewriting.basic): Traceback (most recent call last):\n",
      "  File \"/home/shrey/.pyenv/versions/3.10.5/envs/dev/lib/python3.10/site-packages/pytensor/graph/rewriting/basic.py\", line 1922, in process_node\n",
      "    If `fgraph` accepts the replacement, then the rewrite is\n",
      "  File \"/home/shrey/.pyenv/versions/3.10.5/envs/dev/lib/python3.10/site-packages/pytensor/graph/rewriting/basic.py\", line 1082, in transform\n",
      "    )\n",
      "  File \"/home/shrey/.pyenv/versions/3.10.5/envs/dev/lib/python3.10/site-packages/pytensor/tensor/rewriting/basic.py\", line 1106, in constant_folding\n",
      "    @node_rewriter([Split])\n",
      "  File \"/home/shrey/.pyenv/versions/3.10.5/envs/dev/lib/python3.10/site-packages/pytensor/link/c/op.py\", line 119, in make_thunk\n",
      "    Parameters\n",
      "  File \"/home/shrey/.pyenv/versions/3.10.5/envs/dev/lib/python3.10/site-packages/pytensor/link/c/op.py\", line 84, in make_c_thunk\n",
      "  File \"/home/shrey/.pyenv/versions/3.10.5/envs/dev/lib/python3.10/site-packages/pytensor/link/c/basic.py\", line 1209, in make_thunk\n",
      "  File \"/home/shrey/.pyenv/versions/3.10.5/envs/dev/lib/python3.10/site-packages/pytensor/link/c/basic.py\", line 1129, in __compile__\n",
      "    return (\n",
      "  File \"/home/shrey/.pyenv/versions/3.10.5/envs/dev/lib/python3.10/site-packages/pytensor/link/c/basic.py\", line 1653, in cthunk_factory\n",
      "    i for i, x in enumerate(vars) if vars.count(x) > 1 and vars.index(x) != i\n",
      "  File \"/home/shrey/.pyenv/versions/3.10.5/envs/dev/lib/python3.10/site-packages/pytensor/link/c/cmodule.py\", line 1231, in module_from_key\n",
      "    module = lnk.compile_cmodule(location)\n",
      "  File \"/home/shrey/.pyenv/versions/3.10.5/envs/dev/lib/python3.10/site-packages/pytensor/link/c/basic.py\", line 1552, in compile_cmodule\n",
      "    libs=libs,\n",
      "  File \"/home/shrey/.pyenv/versions/3.10.5/envs/dev/lib/python3.10/site-packages/pytensor/link/c/cmodule.py\", line 2640, in compile_str\n",
      "    # compile_stderr = compile_stderr.replace(\"\\n\", \". \")\n",
      "pytensor.link.c.exceptions.CompileError: Compilation failed (return status=1):\n",
      "/usr/bin/g++ -shared -g -O3 -fno-math-errno -Wno-unused-label -Wno-unused-variable -Wno-write-strings -Wno-c++11-narrowing -fno-exceptions -fno-unwind-tables -fno-asynchronous-unwind-tables -march=skylake -mmmx -mpopcnt -msse -msse2 -msse3 -mssse3 -msse4.1 -msse4.2 -mno-avx -mno-avx2 -mno-sse4a -mno-fma4 -mno-xop -mno-fma -mno-avx512f -mno-bmi -mno-bmi2 -maes -mpclmul -mno-avx512vl -mno-avx512bw -mno-avx512dq -mno-avx512cd -mno-avx512er -mno-avx512pf -mno-avx512vbmi -mno-avx512ifma -mno-avx5124vnniw -mno-avx5124fmaps -mno-avx512vpopcntdq -mno-avx512vbmi2 -mno-gfni -mno-vpclmulqdq -mno-avx512vnni -mno-avx512bitalg -mno-avx512bf16 -mno-avx512vp2intersect -mno-3dnow -mno-adx -mabm -mno-cldemote -mclflushopt -mno-clwb -mno-clzero -mcx16 -mno-enqcmd -mno-f16c -mfsgsbase -mfxsr -mno-hle -msahf -mno-lwp -mlzcnt -mmovbe -mno-movdir64b -mno-movdiri -mno-mwaitx -mno-pconfig -mno-pku -mno-prefetchwt1 -mprfchw -mno-ptwrite -mno-rdpid -mrdrnd -mrdseed -mno-rtm -mno-serialize -msgx -mno-sha -mno-shstk -mno-tbm -mno-tsxldtrk -mno-vaes -mno-waitpkg -mno-wbnoinvd -mxsave -mxsavec -mxsaveopt -mxsaves -mno-amx-tile -mno-amx-int8 -mno-amx-bf16 -mno-uintr -mno-hreset -mno-kl -mno-widekl -mno-avxvnni --param l1-cache-size=32 --param l1-cache-line-size=64 --param l2-cache-size=2048 -mtune=skylake -DNPY_NO_DEPRECATED_API=NPY_1_7_API_VERSION -m64 -fPIC -I/home/shrey/.pyenv/versions/3.10.5/envs/dev/lib/python3.10/site-packages/numpy/core/include -I/home/shrey/.pyenv/versions/3.10.5/include/python3.10 -I/home/shrey/.pyenv/versions/3.10.5/envs/dev/lib/python3.10/site-packages/pytensor/link/c/c_code -L/home/shrey/.pyenv/versions/3.10.5/lib -fvisibility=hidden -o /home/shrey/.pytensor/compiledir_Linux-6.2--generic-x86_64-with-glibc2.35-x86_64-3.10.5-64/tmpizi6qt0i/m74a9fc39ad58b63c5f4f47b945eb24aad7e47aad54888d219df994d298350620.so /home/shrey/.pytensor/compiledir_Linux-6.2--generic-x86_64-with-glibc2.35-x86_64-3.10.5-64/tmpizi6qt0i/mod.cpp -lpython3.10\n",
      "/usr/bin/ld: /home/shrey/.pyenv/versions/3.10.5/lib/libpython3.10.a(pythonrun.o): warning: relocation against `_Py_UnhandledKeyboardInterrupt' in read-only section `.text'\n",
      "/usr/bin/ld: /home/shrey/.pyenv/versions/3.10.5/lib/libpython3.10.a(longobject.o): relocation R_X86_64_PC32 against symbol `PyExc_OverflowError' can not be used when making a shared object; recompile with -fPIC\n",
      "/usr/bin/ld: final link failed: bad value\n",
      "collect2: error: ld returned 1 exit status\n",
      "\n",
      "\n"
     ]
    },
    {
     "name": "stdout",
     "output_type": "stream",
     "text": [
      "\n",
      "You can find the C code in this temporary file: /tmp/pytensor_compilation_error__ptnaaxi\n"
     ]
    },
    {
     "name": "stderr",
     "output_type": "stream",
     "text": [
      "ERROR (pytensor.graph.rewriting.basic): Rewrite failure due to: constant_folding\n",
      "ERROR (pytensor.graph.rewriting.basic): node: Floor(0)\n",
      "ERROR (pytensor.graph.rewriting.basic): TRACEBACK:\n",
      "ERROR (pytensor.graph.rewriting.basic): Traceback (most recent call last):\n",
      "  File \"/home/shrey/.pyenv/versions/3.10.5/envs/dev/lib/python3.10/site-packages/pytensor/graph/rewriting/basic.py\", line 1922, in process_node\n",
      "    If `fgraph` accepts the replacement, then the rewrite is\n",
      "  File \"/home/shrey/.pyenv/versions/3.10.5/envs/dev/lib/python3.10/site-packages/pytensor/graph/rewriting/basic.py\", line 1082, in transform\n",
      "    )\n",
      "  File \"/home/shrey/.pyenv/versions/3.10.5/envs/dev/lib/python3.10/site-packages/pytensor/tensor/rewriting/basic.py\", line 1106, in constant_folding\n",
      "    @node_rewriter([Split])\n",
      "  File \"/home/shrey/.pyenv/versions/3.10.5/envs/dev/lib/python3.10/site-packages/pytensor/link/c/op.py\", line 119, in make_thunk\n",
      "    Parameters\n",
      "  File \"/home/shrey/.pyenv/versions/3.10.5/envs/dev/lib/python3.10/site-packages/pytensor/link/c/op.py\", line 84, in make_c_thunk\n",
      "  File \"/home/shrey/.pyenv/versions/3.10.5/envs/dev/lib/python3.10/site-packages/pytensor/link/c/basic.py\", line 1209, in make_thunk\n",
      "  File \"/home/shrey/.pyenv/versions/3.10.5/envs/dev/lib/python3.10/site-packages/pytensor/link/c/basic.py\", line 1129, in __compile__\n",
      "    return (\n",
      "  File \"/home/shrey/.pyenv/versions/3.10.5/envs/dev/lib/python3.10/site-packages/pytensor/link/c/basic.py\", line 1653, in cthunk_factory\n",
      "    i for i, x in enumerate(vars) if vars.count(x) > 1 and vars.index(x) != i\n",
      "  File \"/home/shrey/.pyenv/versions/3.10.5/envs/dev/lib/python3.10/site-packages/pytensor/link/c/cmodule.py\", line 1231, in module_from_key\n",
      "    module = lnk.compile_cmodule(location)\n",
      "  File \"/home/shrey/.pyenv/versions/3.10.5/envs/dev/lib/python3.10/site-packages/pytensor/link/c/basic.py\", line 1552, in compile_cmodule\n",
      "    libs=libs,\n",
      "  File \"/home/shrey/.pyenv/versions/3.10.5/envs/dev/lib/python3.10/site-packages/pytensor/link/c/cmodule.py\", line 2640, in compile_str\n",
      "    # compile_stderr = compile_stderr.replace(\"\\n\", \". \")\n",
      "pytensor.link.c.exceptions.CompileError: Compilation failed (return status=1):\n",
      "/usr/bin/g++ -shared -g -O3 -fno-math-errno -Wno-unused-label -Wno-unused-variable -Wno-write-strings -Wno-c++11-narrowing -fno-exceptions -fno-unwind-tables -fno-asynchronous-unwind-tables -march=skylake -mmmx -mpopcnt -msse -msse2 -msse3 -mssse3 -msse4.1 -msse4.2 -mno-avx -mno-avx2 -mno-sse4a -mno-fma4 -mno-xop -mno-fma -mno-avx512f -mno-bmi -mno-bmi2 -maes -mpclmul -mno-avx512vl -mno-avx512bw -mno-avx512dq -mno-avx512cd -mno-avx512er -mno-avx512pf -mno-avx512vbmi -mno-avx512ifma -mno-avx5124vnniw -mno-avx5124fmaps -mno-avx512vpopcntdq -mno-avx512vbmi2 -mno-gfni -mno-vpclmulqdq -mno-avx512vnni -mno-avx512bitalg -mno-avx512bf16 -mno-avx512vp2intersect -mno-3dnow -mno-adx -mabm -mno-cldemote -mclflushopt -mno-clwb -mno-clzero -mcx16 -mno-enqcmd -mno-f16c -mfsgsbase -mfxsr -mno-hle -msahf -mno-lwp -mlzcnt -mmovbe -mno-movdir64b -mno-movdiri -mno-mwaitx -mno-pconfig -mno-pku -mno-prefetchwt1 -mprfchw -mno-ptwrite -mno-rdpid -mrdrnd -mrdseed -mno-rtm -mno-serialize -msgx -mno-sha -mno-shstk -mno-tbm -mno-tsxldtrk -mno-vaes -mno-waitpkg -mno-wbnoinvd -mxsave -mxsavec -mxsaveopt -mxsaves -mno-amx-tile -mno-amx-int8 -mno-amx-bf16 -mno-uintr -mno-hreset -mno-kl -mno-widekl -mno-avxvnni --param l1-cache-size=32 --param l1-cache-line-size=64 --param l2-cache-size=2048 -mtune=skylake -DNPY_NO_DEPRECATED_API=NPY_1_7_API_VERSION -m64 -fPIC -I/home/shrey/.pyenv/versions/3.10.5/envs/dev/lib/python3.10/site-packages/numpy/core/include -I/home/shrey/.pyenv/versions/3.10.5/include/python3.10 -I/home/shrey/.pyenv/versions/3.10.5/envs/dev/lib/python3.10/site-packages/pytensor/link/c/c_code -L/home/shrey/.pyenv/versions/3.10.5/lib -fvisibility=hidden -o /home/shrey/.pytensor/compiledir_Linux-6.2--generic-x86_64-with-glibc2.35-x86_64-3.10.5-64/tmplb13kxra/m74a9fc39ad58b63c5f4f47b945eb24aad7e47aad54888d219df994d298350620.so /home/shrey/.pytensor/compiledir_Linux-6.2--generic-x86_64-with-glibc2.35-x86_64-3.10.5-64/tmplb13kxra/mod.cpp -lpython3.10\n",
      "/usr/bin/ld: /home/shrey/.pyenv/versions/3.10.5/lib/libpython3.10.a(pythonrun.o): warning: relocation against `_Py_UnhandledKeyboardInterrupt' in read-only section `.text'\n",
      "/usr/bin/ld: /home/shrey/.pyenv/versions/3.10.5/lib/libpython3.10.a(longobject.o): relocation R_X86_64_PC32 against symbol `PyExc_OverflowError' can not be used when making a shared object; recompile with -fPIC\n",
      "/usr/bin/ld: final link failed: bad value\n",
      "collect2: error: ld returned 1 exit status\n",
      "\n",
      "\n"
     ]
    },
    {
     "name": "stdout",
     "output_type": "stream",
     "text": [
      "\n",
      "You can find the C code in this temporary file: /tmp/pytensor_compilation_error_36in6rjk\n",
      "Unexpected exception formatting exception. Falling back to standard exception\n"
     ]
    },
    {
     "name": "stderr",
     "output_type": "stream",
     "text": [
      "Traceback (most recent call last):\n",
      "  File \"/home/shrey/.pyenv/versions/3.10.5/envs/dev/lib/python3.10/site-packages/IPython/core/interactiveshell.py\", line 3548, in run_code\n",
      "    exec(code_obj, self.user_global_ns, self.user_ns)\n",
      "  File \"/tmp/ipykernel_116161/3875125889.py\", line 1, in <module>\n",
      "    pm.draw(tau)\n",
      "  File \"/home/shrey/.pyenv/versions/3.10.5/envs/dev/lib/python3.10/site-packages/pymc/sampling/forward.py\", line 319, in draw\n",
      "  File \"/home/shrey/.pyenv/versions/3.10.5/envs/dev/lib/python3.10/site-packages/pymc/pytensorf.py\", line 990, in compile_pymc\n",
      "    else:\n",
      "  File \"/home/shrey/.pyenv/versions/3.10.5/envs/dev/lib/python3.10/site-packages/pytensor/compile/function/__init__.py\", line 315, in function\n",
      "    fn = pfunc(\n",
      "  File \"/home/shrey/.pyenv/versions/3.10.5/envs/dev/lib/python3.10/site-packages/pytensor/compile/function/pfunc.py\", line 469, in pfunc\n",
      "    \"`pytensor.function([x], \"\n",
      "  File \"/home/shrey/.pyenv/versions/3.10.5/envs/dev/lib/python3.10/site-packages/pytensor/compile/function/types.py\", line 1756, in orig_function\n",
      "    outputs,\n",
      "  File \"/home/shrey/.pyenv/versions/3.10.5/envs/dev/lib/python3.10/site-packages/pytensor/compile/function/types.py\", line 1649, in create\n",
      "    if storage is not None:\n",
      "  File \"/home/shrey/.pyenv/versions/3.10.5/envs/dev/lib/python3.10/site-packages/pytensor/link/basic.py\", line 245, in make_thunk\n",
      "    \"\"\"\n",
      "  File \"/home/shrey/.pyenv/versions/3.10.5/envs/dev/lib/python3.10/site-packages/pytensor/link/vm.py\", line 1235, in make_all\n",
      "    linker_make_thunk_time = {}\n",
      "  File \"/home/shrey/.pyenv/versions/3.10.5/envs/dev/lib/python3.10/site-packages/pytensor/link/c/op.py\", line 119, in make_thunk\n",
      "    Parameters\n",
      "  File \"/home/shrey/.pyenv/versions/3.10.5/envs/dev/lib/python3.10/site-packages/pytensor/link/c/op.py\", line 84, in make_c_thunk\n",
      "  File \"/home/shrey/.pyenv/versions/3.10.5/envs/dev/lib/python3.10/site-packages/pytensor/link/c/basic.py\", line 1209, in make_thunk\n",
      "  File \"/home/shrey/.pyenv/versions/3.10.5/envs/dev/lib/python3.10/site-packages/pytensor/link/c/basic.py\", line 1129, in __compile__\n",
      "    return (\n",
      "  File \"/home/shrey/.pyenv/versions/3.10.5/envs/dev/lib/python3.10/site-packages/pytensor/link/c/basic.py\", line 1653, in cthunk_factory\n",
      "    i for i, x in enumerate(vars) if vars.count(x) > 1 and vars.index(x) != i\n",
      "  File \"/home/shrey/.pyenv/versions/3.10.5/envs/dev/lib/python3.10/site-packages/pytensor/link/c/cmodule.py\", line 1231, in module_from_key\n",
      "    module = lnk.compile_cmodule(location)\n",
      "  File \"/home/shrey/.pyenv/versions/3.10.5/envs/dev/lib/python3.10/site-packages/pytensor/link/c/basic.py\", line 1552, in compile_cmodule\n",
      "    libs=libs,\n",
      "  File \"/home/shrey/.pyenv/versions/3.10.5/envs/dev/lib/python3.10/site-packages/pytensor/link/c/cmodule.py\", line 2590, in compile_str\n",
      "    try:\n",
      "  File \"/home/shrey/.pyenv/versions/3.10.5/envs/dev/lib/python3.10/site-packages/pytensor/utils.py\", line 212, in output_subprocess_Popen\n",
      "    if isinstance(command, list):\n",
      "  File \"/home/shrey/.pyenv/versions/3.10.5/lib/python3.10/subprocess.py\", line 1152, in communicate\n",
      "    stdout, stderr = self._communicate(input, endtime, timeout)\n",
      "  File \"/home/shrey/.pyenv/versions/3.10.5/lib/python3.10/subprocess.py\", line 2003, in _communicate\n",
      "    ready = selector.select(timeout)\n",
      "  File \"/home/shrey/.pyenv/versions/3.10.5/lib/python3.10/selectors.py\", line 416, in select\n",
      "    fd_event_list = self._selector.poll(timeout)\n",
      "KeyboardInterrupt\n",
      "\n",
      "During handling of the above exception, another exception occurred:\n",
      "\n",
      "Traceback (most recent call last):\n",
      "  File \"/home/shrey/.pyenv/versions/3.10.5/envs/dev/lib/python3.10/site-packages/IPython/core/interactiveshell.py\", line 2142, in showtraceback\n",
      "    stb = self.InteractiveTB.structured_traceback(\n",
      "  File \"/home/shrey/.pyenv/versions/3.10.5/envs/dev/lib/python3.10/site-packages/IPython/core/ultratb.py\", line 1435, in structured_traceback\n",
      "    return FormattedTB.structured_traceback(\n",
      "  File \"/home/shrey/.pyenv/versions/3.10.5/envs/dev/lib/python3.10/site-packages/IPython/core/ultratb.py\", line 1326, in structured_traceback\n",
      "    return VerboseTB.structured_traceback(\n",
      "  File \"/home/shrey/.pyenv/versions/3.10.5/envs/dev/lib/python3.10/site-packages/IPython/core/ultratb.py\", line 1173, in structured_traceback\n",
      "    formatted_exception = self.format_exception_as_a_whole(etype, evalue, etb, number_of_lines_of_context,\n",
      "  File \"/home/shrey/.pyenv/versions/3.10.5/envs/dev/lib/python3.10/site-packages/IPython/core/ultratb.py\", line 1088, in format_exception_as_a_whole\n",
      "    frames.append(self.format_record(record))\n",
      "  File \"/home/shrey/.pyenv/versions/3.10.5/envs/dev/lib/python3.10/site-packages/IPython/core/ultratb.py\", line 970, in format_record\n",
      "    frame_info.lines, Colors, self.has_colors, lvals\n",
      "  File \"/home/shrey/.pyenv/versions/3.10.5/envs/dev/lib/python3.10/site-packages/IPython/core/ultratb.py\", line 792, in lines\n",
      "    return self._sd.lines\n",
      "  File \"/home/shrey/.pyenv/versions/3.10.5/envs/dev/lib/python3.10/site-packages/stack_data/utils.py\", line 145, in cached_property_wrapper\n",
      "    value = obj.__dict__[self.func.__name__] = self.func(obj)\n",
      "  File \"/home/shrey/.pyenv/versions/3.10.5/envs/dev/lib/python3.10/site-packages/stack_data/core.py\", line 734, in lines\n",
      "    pieces = self.included_pieces\n",
      "  File \"/home/shrey/.pyenv/versions/3.10.5/envs/dev/lib/python3.10/site-packages/stack_data/utils.py\", line 145, in cached_property_wrapper\n",
      "    value = obj.__dict__[self.func.__name__] = self.func(obj)\n",
      "  File \"/home/shrey/.pyenv/versions/3.10.5/envs/dev/lib/python3.10/site-packages/stack_data/core.py\", line 681, in included_pieces\n",
      "    pos = scope_pieces.index(self.executing_piece)\n",
      "  File \"/home/shrey/.pyenv/versions/3.10.5/envs/dev/lib/python3.10/site-packages/stack_data/utils.py\", line 145, in cached_property_wrapper\n",
      "    value = obj.__dict__[self.func.__name__] = self.func(obj)\n",
      "  File \"/home/shrey/.pyenv/versions/3.10.5/envs/dev/lib/python3.10/site-packages/stack_data/core.py\", line 660, in executing_piece\n",
      "    return only(\n",
      "  File \"/home/shrey/.pyenv/versions/3.10.5/envs/dev/lib/python3.10/site-packages/executing/executing.py\", line 116, in only\n",
      "    raise NotOneValueFound('Expected one value, found 0')\n",
      "executing.executing.NotOneValueFound: Expected one value, found 0\n"
     ]
    }
   ],
   "source": [
    "pm.draw(tau)"
   ]
  },
  {
   "cell_type": "code",
   "execution_count": 21,
   "id": "9785276a-aad4-4d33-b8cb-c2622aed3329",
   "metadata": {},
   "outputs": [
    {
     "ename": "AttributeError",
     "evalue": "The `rv.random()` method was removed. Instead use `pm.draw(rv)`.`",
     "output_type": "error",
     "traceback": [
      "\u001b[0;31m---------------------------------------------------------------------------\u001b[0m",
      "\u001b[0;31mAttributeError\u001b[0m                            Traceback (most recent call last)",
      "Cell \u001b[0;32mIn[21], line 1\u001b[0m\n\u001b[0;32m----> 1\u001b[0m \u001b[43mmodel\u001b[49m\u001b[38;5;241;43m.\u001b[39;49m\u001b[43mtau\u001b[49m\u001b[38;5;241;43m.\u001b[39;49m\u001b[43mrandom\u001b[49m\u001b[43m(\u001b[49m\u001b[43m)\u001b[49m\n",
      "File \u001b[0;32m~/.pyenv/versions/3.10.5/envs/dev/lib/python3.10/site-packages/pymc/distributions/distribution.py:227\u001b[0m, in \u001b[0;36mfn\u001b[0;34m(*args, **kwargs)\u001b[0m\n\u001b[1;32m    219\u001b[0m rv_op: [RandomVariable, SymbolicRandomVariable] \u001b[38;5;241m=\u001b[39m \u001b[38;5;28;01mNone\u001b[39;00m\n\u001b[1;32m    220\u001b[0m rv_type: MetaType \u001b[38;5;241m=\u001b[39m \u001b[38;5;28;01mNone\u001b[39;00m\n\u001b[1;32m    222\u001b[0m \u001b[38;5;28;01mdef\u001b[39;00m \u001b[38;5;21m__new__\u001b[39m(\n\u001b[1;32m    223\u001b[0m     \u001b[38;5;28mcls\u001b[39m,\n\u001b[1;32m    224\u001b[0m     name: \u001b[38;5;28mstr\u001b[39m,\n\u001b[1;32m    225\u001b[0m     \u001b[38;5;241m*\u001b[39margs,\n\u001b[1;32m    226\u001b[0m     rng\u001b[38;5;241m=\u001b[39m\u001b[38;5;28;01mNone\u001b[39;00m,\n\u001b[0;32m--> 227\u001b[0m     dims: Optional[Dims] \u001b[38;5;241m=\u001b[39m \u001b[38;5;28;01mNone\u001b[39;00m,\n\u001b[1;32m    228\u001b[0m     initval\u001b[38;5;241m=\u001b[39m\u001b[38;5;28;01mNone\u001b[39;00m,\n\u001b[1;32m    229\u001b[0m     observed\u001b[38;5;241m=\u001b[39m\u001b[38;5;28;01mNone\u001b[39;00m,\n\u001b[1;32m    230\u001b[0m     total_size\u001b[38;5;241m=\u001b[39m\u001b[38;5;28;01mNone\u001b[39;00m,\n\u001b[1;32m    231\u001b[0m     transform\u001b[38;5;241m=\u001b[39mUNSET,\n\u001b[1;32m    232\u001b[0m     \u001b[38;5;241m*\u001b[39m\u001b[38;5;241m*\u001b[39mkwargs,\n\u001b[1;32m    233\u001b[0m ) \u001b[38;5;241m-\u001b[39m\u001b[38;5;241m>\u001b[39m TensorVariable:\n\u001b[1;32m    234\u001b[0m \u001b[38;5;250m    \u001b[39m\u001b[38;5;124;03m\"\"\"Adds a tensor variable corresponding to a PyMC distribution to the current model.\u001b[39;00m\n\u001b[1;32m    235\u001b[0m \n\u001b[1;32m    236\u001b[0m \u001b[38;5;124;03m    Note that all remaining kwargs must be compatible with ``.dist()``\u001b[39;00m\n\u001b[0;32m   (...)\u001b[0m\n\u001b[1;32m    270\u001b[0m \u001b[38;5;124;03m        The created random variable tensor, registered in the Model.\u001b[39;00m\n\u001b[1;32m    271\u001b[0m \u001b[38;5;124;03m    \"\"\"\u001b[39;00m\n\u001b[1;32m    273\u001b[0m     \u001b[38;5;28;01mtry\u001b[39;00m:\n",
      "\u001b[0;31mAttributeError\u001b[0m: The `rv.random()` method was removed. Instead use `pm.draw(rv)`.`"
     ]
    }
   ],
   "source": [
    "model.tau.random()"
   ]
  },
  {
   "cell_type": "code",
   "execution_count": null,
   "id": "53db37f5-af06-4d90-8654-afa0fd0e337c",
   "metadata": {},
   "outputs": [],
   "source": []
  }
 ],
 "metadata": {
  "kernelspec": {
   "display_name": "Python 3 (ipykernel)",
   "language": "python",
   "name": "python3"
  },
  "language_info": {
   "codemirror_mode": {
    "name": "ipython",
    "version": 3
   },
   "file_extension": ".py",
   "mimetype": "text/x-python",
   "name": "python",
   "nbconvert_exporter": "python",
   "pygments_lexer": "ipython3",
   "version": "3.10.5"
  }
 },
 "nbformat": 4,
 "nbformat_minor": 5
}
