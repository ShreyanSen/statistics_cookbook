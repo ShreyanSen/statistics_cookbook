{
 "cells": [
  {
   "cell_type": "markdown",
   "id": "7515f178-4848-413f-bc1b-1c8aba340a42",
   "metadata": {},
   "source": [
    "## Ranking Reviews\n",
    "\n",
    "To some degree we follow the logic here: https://nbviewer.org/github/CamDavidsonPilon/Probabilistic-Programming-and-Bayesian-Methods-for-Hackers/blob/master/Chapter4_TheGreatestTheoremNeverTold/Ch4_LawOfLargeNumbers_PyMC2.ipynb\n",
    "\n",
    "However this is a problem I've encountered often before. People try to sort or rank or order things based on some score, when that score is created from different samples sizes for different entities, leading to \"pathological ordering\" as described in the notebook. I'll add my own extension on how to consider sorting these cases rationally."
   ]
  },
  {
   "cell_type": "code",
   "execution_count": 2,
   "id": "c970b7d0-e40d-4fe6-9060-b4f0b1e58891",
   "metadata": {},
   "outputs": [],
   "source": [
    "import numpy as np"
   ]
  },
  {
   "cell_type": "markdown",
   "id": "8441eeac-7cd0-4334-8948-8d5424a1bbb2",
   "metadata": {},
   "source": [
    "### generate scores\n",
    "\n",
    "\n",
    "suppose we have k products, each with n_i reviews ranging from 1 to 5 stars. source the reviews from different multinomial distributions with randomly set params. we can use a dirichlet distribution (stick-breaking) to generate valid values for these 5-outcome probabilities. \n",
    "\n",
    "Dirichlet distributions are very cool! More on understanding how their params work: https://builtin.com/data-science/dirichlet-distribution"
   ]
  },
  {
   "cell_type": "code",
   "execution_count": 27,
   "id": "99a72175-4ba3-4736-8b47-7e90f1e294c1",
   "metadata": {},
   "outputs": [
    {
     "data": {
      "text/plain": [
       "array([[0.11106197, 0.1860041 , 0.29004338, 0.16202759, 0.25086297],\n",
       "       [0.10797905, 0.07232049, 0.45295255, 0.16084241, 0.2059055 ],\n",
       "       [0.07259105, 0.07268462, 0.22065449, 0.48427044, 0.14979939]])"
      ]
     },
     "execution_count": 27,
     "metadata": {},
     "output_type": "execute_result"
    }
   ],
   "source": [
    "test_dirichlets = np.random.dirichlet(alpha=[3,3,6,6,4], size=3)\n",
    "test_dirichlets"
   ]
  },
  {
   "cell_type": "code",
   "execution_count": 43,
   "id": "1baf89b0-0878-4f82-9414-cb01b9f4c103",
   "metadata": {},
   "outputs": [
    {
     "data": {
      "text/plain": [
       "array([ 6,  5, 28, 22,  4])"
      ]
     },
     "execution_count": 43,
     "metadata": {},
     "output_type": "execute_result"
    }
   ],
   "source": [
    "np.random.multinomial(n_reviews[0], true_product_distributions[0])"
   ]
  },
  {
   "cell_type": "code",
   "execution_count": 44,
   "id": "4c537760-6354-4c3e-a4d1-f4aa2a45b8b8",
   "metadata": {},
   "outputs": [
    {
     "data": {
      "text/plain": [
       "array([0.06694398, 0.08143229, 0.43420093, 0.30442076, 0.11300205])"
      ]
     },
     "execution_count": 44,
     "metadata": {},
     "output_type": "execute_result"
    }
   ],
   "source": [
    "true_product_distributions[0]"
   ]
  },
  {
   "cell_type": "code",
   "execution_count": 54,
   "id": "f6f0add9-4ec2-4dc6-abf1-90bc2f3f1e36",
   "metadata": {},
   "outputs": [],
   "source": [
    "k = 42\n",
    "n_reviews = np.random.randint(low = 1, high=100, size=k)\n",
    "true_product_distributions = np.random.dirichlet(alpha=[3,3,6,6,4], size=k)\n",
    "\n",
    "reviews_arraylist = []\n",
    "for i in range(0, k):\n",
    "    reviews_by_stars = np.random.multinomial(n_reviews[i], true_product_distributions[i])\n",
    "    reviews_arraylist.append(reviews_by_stars)\n",
    "\n",
    "\n",
    "reviews_array = np.array(reviews_arraylist)"
   ]
  },
  {
   "cell_type": "code",
   "execution_count": 56,
   "id": "63d9d0f1-e317-4ff3-ae99-d5c52be36c4f",
   "metadata": {},
   "outputs": [
    {
     "data": {
      "text/plain": [
       "array([[ 6, 11, 27, 25, 24],\n",
       "       [17,  4, 26, 14,  7],\n",
       "       [ 3,  5, 13, 11,  9],\n",
       "       [ 5,  3,  7, 17,  6],\n",
       "       [ 2, 15, 17, 14,  5],\n",
       "       [ 6,  3, 13, 13,  9],\n",
       "       [12, 17, 25, 11, 20],\n",
       "       [11, 11,  9, 26,  7],\n",
       "       [26,  7, 25, 29,  1],\n",
       "       [ 3,  8, 12, 13, 14],\n",
       "       [ 6,  1,  6, 19, 15],\n",
       "       [ 9,  2,  5,  5,  1],\n",
       "       [ 3,  4, 15,  8,  3],\n",
       "       [ 3, 15, 10, 17, 28],\n",
       "       [ 1,  5,  3,  8,  1],\n",
       "       [13,  2,  5,  3,  3],\n",
       "       [ 8,  1,  7,  7,  6],\n",
       "       [13, 18, 27, 25,  8],\n",
       "       [ 5,  3,  8, 15,  4],\n",
       "       [ 8,  9, 13, 25,  9],\n",
       "       [ 2,  3,  7,  9,  2],\n",
       "       [ 1,  4,  0,  3,  2],\n",
       "       [11,  3, 17, 22, 10],\n",
       "       [17,  7,  5, 39, 25],\n",
       "       [ 2,  0, 10,  5,  4],\n",
       "       [13,  2, 29, 11, 11],\n",
       "       [11,  0, 24, 22,  3],\n",
       "       [16,  7,  5, 17,  3],\n",
       "       [ 6,  7, 20, 28, 12],\n",
       "       [ 5,  6, 13,  4,  5],\n",
       "       [ 3,  4,  5, 12,  2],\n",
       "       [13,  4,  8, 13, 12],\n",
       "       [ 1,  7, 14, 17, 20],\n",
       "       [17,  5, 16, 30, 11],\n",
       "       [10,  9, 17,  9, 15],\n",
       "       [ 0,  0,  1,  1,  1],\n",
       "       [ 1,  4,  1, 10,  3],\n",
       "       [ 9, 22, 36, 11, 10],\n",
       "       [20, 11, 18, 33,  8],\n",
       "       [12,  4, 25, 19, 13],\n",
       "       [ 3, 17,  6, 35, 19],\n",
       "       [16, 17, 23, 23,  5]])"
      ]
     },
     "execution_count": 56,
     "metadata": {},
     "output_type": "execute_result"
    }
   ],
   "source": [
    "reviews_array # number of 1, 2, 3, 4, and 5 star reviews for each product; sum of these reviews correspond to n_reviews[i]"
   ]
  },
  {
   "cell_type": "code",
   "execution_count": null,
   "id": "8edd3e2b-a5ec-4140-a9a2-a3740b889bad",
   "metadata": {},
   "outputs": [],
   "source": []
  }
 ],
 "metadata": {
  "kernelspec": {
   "display_name": "Python 3 (ipykernel)",
   "language": "python",
   "name": "python3"
  },
  "language_info": {
   "codemirror_mode": {
    "name": "ipython",
    "version": 3
   },
   "file_extension": ".py",
   "mimetype": "text/x-python",
   "name": "python",
   "nbconvert_exporter": "python",
   "pygments_lexer": "ipython3",
   "version": "3.9.5"
  }
 },
 "nbformat": 4,
 "nbformat_minor": 5
}
