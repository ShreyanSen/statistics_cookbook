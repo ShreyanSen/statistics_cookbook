{
 "cells": [
  {
   "cell_type": "markdown",
   "id": "7515f178-4848-413f-bc1b-1c8aba340a42",
   "metadata": {},
   "source": [
    "## Ranking Reviews\n",
    "\n",
    "To some degree we follow the logic here: https://nbviewer.org/github/CamDavidsonPilon/Probabilistic-Programming-and-Bayesian-Methods-for-Hackers/blob/master/Chapter4_TheGreatestTheoremNeverTold/Ch4_LawOfLargeNumbers_PyMC2.ipynb\n",
    "\n",
    "However this is a problem I've encountered often before. People try to sort or rank or order things based on some score, when that score is created from different samples sizes for different entities, leading to \"pathological ordering\" as described in the notebook. I'll add my own extension on how to consider sorting these cases rationally."
   ]
  },
  {
   "cell_type": "code",
   "execution_count": 65,
   "id": "c970b7d0-e40d-4fe6-9060-b4f0b1e58891",
   "metadata": {},
   "outputs": [],
   "source": [
    "import numpy as np\n",
    "np.random.seed(42)"
   ]
  },
  {
   "cell_type": "markdown",
   "id": "8441eeac-7cd0-4334-8948-8d5424a1bbb2",
   "metadata": {},
   "source": [
    "### generate scores\n",
    "\n",
    "\n",
    "suppose we have k products, each with n_i reviews ranging from 1 to 5 stars. source the reviews from different multinomial distributions with randomly set params. we can use a dirichlet distribution (stick-breaking) to generate valid values for these 5-outcome probabilities. \n",
    "\n",
    "Dirichlet distributions are very cool! More on understanding how their params work: https://builtin.com/data-science/dirichlet-distribution"
   ]
  },
  {
   "cell_type": "code",
   "execution_count": 66,
   "id": "99a72175-4ba3-4736-8b47-7e90f1e294c1",
   "metadata": {},
   "outputs": [
    {
     "data": {
      "text/plain": [
       "array([[0.14930397, 0.10255247, 0.21486729, 0.21486882, 0.31840746],\n",
       "       [0.2012259 , 0.09612238, 0.34422275, 0.30538451, 0.05304446],\n",
       "       [0.05960729, 0.14390011, 0.44425147, 0.23044177, 0.12179936]])"
      ]
     },
     "execution_count": 66,
     "metadata": {},
     "output_type": "execute_result"
    }
   ],
   "source": [
    "test_dirichlets = np.random.dirichlet(alpha=[3,3,6,6,4], size=3)\n",
    "test_dirichlets"
   ]
  },
  {
   "cell_type": "code",
   "execution_count": 67,
   "id": "1baf89b0-0878-4f82-9414-cb01b9f4c103",
   "metadata": {},
   "outputs": [
    {
     "data": {
      "text/plain": [
       "array([ 9,  7, 21, 10,  4])"
      ]
     },
     "execution_count": 67,
     "metadata": {},
     "output_type": "execute_result"
    }
   ],
   "source": [
    "np.random.multinomial(n_reviews[0], true_product_distributions[0])"
   ]
  },
  {
   "cell_type": "code",
   "execution_count": 68,
   "id": "4c537760-6354-4c3e-a4d1-f4aa2a45b8b8",
   "metadata": {},
   "outputs": [
    {
     "data": {
      "text/plain": [
       "array([0.22946703, 0.20287075, 0.25821619, 0.15238942, 0.15705661])"
      ]
     },
     "execution_count": 68,
     "metadata": {},
     "output_type": "execute_result"
    }
   ],
   "source": [
    "true_product_distributions[0]"
   ]
  },
  {
   "cell_type": "code",
   "execution_count": 69,
   "id": "f6f0add9-4ec2-4dc6-abf1-90bc2f3f1e36",
   "metadata": {},
   "outputs": [],
   "source": [
    "k = 10\n",
    "n_reviews = np.random.randint(low = 1, high=100, size=k)\n",
    "true_product_distributions = np.random.dirichlet(alpha=[3,3,6,6,4], size=k)\n",
    "\n",
    "reviews_arraylist = []\n",
    "for i in range(0, k):\n",
    "    reviews_by_stars = np.random.multinomial(n_reviews[i], true_product_distributions[i])\n",
    "    reviews_arraylist.append(reviews_by_stars)\n",
    "\n",
    "\n",
    "reviews_array = np.array(reviews_arraylist)"
   ]
  },
  {
   "cell_type": "code",
   "execution_count": 70,
   "id": "63d9d0f1-e317-4ff3-ae99-d5c52be36c4f",
   "metadata": {
    "scrolled": true
   },
   "outputs": [
    {
     "data": {
      "text/plain": [
       "array([[ 1,  1,  1,  4,  2],\n",
       "       [16, 28, 22, 15,  9],\n",
       "       [ 1, 13, 21, 14,  4],\n",
       "       [ 0,  1,  0,  1,  0],\n",
       "       [ 9, 18, 26, 20, 11],\n",
       "       [ 6, 25, 32, 10, 19],\n",
       "       [ 3,  5, 26, 16, 10],\n",
       "       [ 8, 10,  8, 26, 19],\n",
       "       [ 5,  2, 26,  7,  4],\n",
       "       [ 2,  1,  2,  2,  1]])"
      ]
     },
     "execution_count": 70,
     "metadata": {},
     "output_type": "execute_result"
    }
   ],
   "source": [
    "reviews_array # number of 1, 2, 3, 4, and 5 star reviews for each product; sum of these reviews correspond to n_reviews[i]"
   ]
  },
  {
   "cell_type": "code",
   "execution_count": 73,
   "id": "8edd3e2b-a5ec-4140-a9a2-a3740b889bad",
   "metadata": {},
   "outputs": [
    {
     "data": {
      "text/plain": [
       "array([ 9, 90, 53,  2, 84, 92, 60, 71, 44,  8])"
      ]
     },
     "execution_count": 73,
     "metadata": {},
     "output_type": "execute_result"
    }
   ],
   "source": [
    "reviews_array.sum(axis=1) # needs to match n_reviews"
   ]
  },
  {
   "cell_type": "code",
   "execution_count": 74,
   "id": "049d9ccf-af99-4745-b239-18028d09f95b",
   "metadata": {},
   "outputs": [
    {
     "data": {
      "text/plain": [
       "array([ 9, 90, 53,  2, 84, 92, 60, 71, 44,  8])"
      ]
     },
     "execution_count": 74,
     "metadata": {},
     "output_type": "execute_result"
    }
   ],
   "source": [
    "n_reviews # matches!"
   ]
  },
  {
   "cell_type": "markdown",
   "id": "b0dd3700-2d9f-418b-9a88-ace71e6f112d",
   "metadata": {},
   "source": [
    "### modeling approach\n",
    "\n",
    "If we were modeling binomial outcomes, we could use the beta-binomial model and skip pymc altogether, because the posterior beta distribution is super easy to generate from the prior and the binomial outcomes. take the number of heads, and it to the first param, take the number of tails, add it to the second param, done.\n",
    "\n",
    "Is as simple a closed form possible for multinomials, with say dirichlet priors, as a generalization of the beta-binomial model? I'm actually not sure. But we can definitely solve this in pymc. And since we've already reasoned out a good data generating process for simulating this data, we can use it as the model going the other way too. \n",
    "\n",
    "More docs: https://www.pymc.io/projects/docs/en/v3/pymc-examples/examples/mixture_models/dirichlet_mixture_of_multinomials.html"
   ]
  },
  {
   "cell_type": "code",
   "execution_count": 76,
   "id": "e2341132-db14-4cc6-b8dc-d7b6d91d9551",
   "metadata": {},
   "outputs": [
    {
     "name": "stderr",
     "output_type": "stream",
     "text": [
      "WARNING (pytensor.tensor.blas): Using NumPy C-API based implementation for BLAS functions.\n"
     ]
    }
   ],
   "source": [
    "import pymc as pm\n"
   ]
  },
  {
   "cell_type": "code",
   "execution_count": 91,
   "id": "97171855-ddd6-4df9-bb20-0b3ef290c829",
   "metadata": {},
   "outputs": [],
   "source": [
    "with pm.Model() as model:\n",
    "    \n",
    "    pm.Dirichlet(\"d_prior\",(5,5,5,5,5), shape=reviews_array.shape)\n",
    "    obs = pm.Multinomial()"
   ]
  },
  {
   "cell_type": "code",
   "execution_count": 93,
   "id": "df1a29f6-96c5-4e8a-8af3-234cd2ba7403",
   "metadata": {},
   "outputs": [
    {
     "data": {
      "text/plain": [
       "[d_prior]"
      ]
     },
     "execution_count": 93,
     "metadata": {},
     "output_type": "execute_result"
    }
   ],
   "source": [
    "model.basic_RVs"
   ]
  },
  {
   "cell_type": "code",
   "execution_count": 94,
   "id": "60276955-b9f2-4491-8ab0-7b5cdeb90c5c",
   "metadata": {},
   "outputs": [
    {
     "data": {
      "text/plain": [
       "array([[0.19461367, 0.17856145, 0.1617343 , 0.31512483, 0.14996576],\n",
       "       [0.10759511, 0.25917069, 0.14669635, 0.25022167, 0.23631618],\n",
       "       [0.11413721, 0.19817167, 0.17496452, 0.18849554, 0.32423107],\n",
       "       [0.12928869, 0.2174786 , 0.19863772, 0.2304824 , 0.22411259],\n",
       "       [0.1636006 , 0.25306585, 0.21901389, 0.21944815, 0.14487151],\n",
       "       [0.25199895, 0.37617752, 0.12100707, 0.08738399, 0.16343246],\n",
       "       [0.13277469, 0.25092196, 0.11986336, 0.16142649, 0.3350135 ],\n",
       "       [0.10214171, 0.27287848, 0.12576772, 0.30982944, 0.18938265],\n",
       "       [0.27565949, 0.23342822, 0.16225733, 0.18385917, 0.1447958 ],\n",
       "       [0.14774076, 0.20141228, 0.25057921, 0.15529878, 0.24496897]])"
      ]
     },
     "execution_count": 94,
     "metadata": {},
     "output_type": "execute_result"
    }
   ],
   "source": [
    "pm.draw(model.d_prior)"
   ]
  },
  {
   "cell_type": "code",
   "execution_count": null,
   "id": "89e980ec-18d3-4b9e-b4e1-57a3dbf5d8dd",
   "metadata": {},
   "outputs": [],
   "source": []
  }
 ],
 "metadata": {
  "kernelspec": {
   "display_name": "Python 3 (ipykernel)",
   "language": "python",
   "name": "python3"
  },
  "language_info": {
   "codemirror_mode": {
    "name": "ipython",
    "version": 3
   },
   "file_extension": ".py",
   "mimetype": "text/x-python",
   "name": "python",
   "nbconvert_exporter": "python",
   "pygments_lexer": "ipython3",
   "version": "3.9.5"
  }
 },
 "nbformat": 4,
 "nbformat_minor": 5
}
