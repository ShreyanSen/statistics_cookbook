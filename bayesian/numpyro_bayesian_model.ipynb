{
 "cells": [
  {
   "cell_type": "code",
   "execution_count": 5,
   "id": "8df9be1f",
   "metadata": {},
   "outputs": [],
   "source": [
    "import numpy as np\n",
    "import pandas as pd\n",
    "import arviz as az\n",
    "import jax\n",
    "import jax.numpy as jnp\n",
    "import numpyro\n",
    "import numpyro.distributions as dist\n",
    "from numpyro.infer import MCMC, NUTS, Predictive\n",
    "from numpyro.contrib.funsor import config_enumerate\n",
    "from jax.random import PRNGKey\n",
    "from jax.scipy.special import logsumexp\n",
    "\n",
    "import numpy.typing as npt\n",
    "from jax import Array\n",
    "from typing import Any, Optional, Union"
   ]
  },
  {
   "cell_type": "markdown",
   "id": "2f6fb01f",
   "metadata": {},
   "source": [
    "# 8 schools example\n",
    "\n",
    "https://num.pyro.ai/en/stable/getting_started.html#a-simple-example-8-schools"
   ]
  },
  {
   "cell_type": "code",
   "execution_count": 8,
   "id": "8c8b6187",
   "metadata": {},
   "outputs": [],
   "source": [
    "J = 8\n",
    "\n",
    "y = np.array([28.0, 8.0, -3.0, 7.0, -1.0, 1.0, 18.0, 12.0]) # treatment effects of SAT coaching\n",
    "\n",
    "sigma = np.array([15.0, 10.0, 16.0, 11.0, 9.0, 11.0, 10.0, 18.0]) # standard error"
   ]
  },
  {
   "cell_type": "code",
   "execution_count": 7,
   "id": "4567c18c",
   "metadata": {},
   "outputs": [
    {
     "data": {
      "text/plain": [
       "8"
      ]
     },
     "execution_count": 7,
     "metadata": {},
     "output_type": "execute_result"
    }
   ],
   "source": [
    "J"
   ]
  },
  {
   "cell_type": "code",
   "execution_count": 9,
   "id": "cffeb01b",
   "metadata": {},
   "outputs": [],
   "source": [
    "def eight_schools(J, sigma, y=None):\n",
    "    mu = numpyro.sample('mu', dist.Normal(0,5))\n",
    "    tau = numpyro.sample('tau', dist.HalfCauchy(5))\n",
    "    \n",
    "    with numpyro.plate('J',J):\n",
    "        \n",
    "        theta = numpyro.sample('theta',dist.Normal(mu, tau))\n",
    "        numpyro.sample('obs',dist.Normal(theta, sigma), obs=y)\n",
    "        \n",
    "\n"
   ]
  },
  {
   "cell_type": "code",
   "execution_count": 11,
   "id": "cfc6f531",
   "metadata": {},
   "outputs": [
    {
     "name": "stderr",
     "output_type": "stream",
     "text": [
      "sample: 100%|██████████████████████████████████████████████████████████████████████████████████████████████████████████████| 1500/1500 [00:01<00:00, 1354.67it/s, 31 steps of size 6.07e-02. acc. prob=0.75]\n"
     ]
    }
   ],
   "source": [
    "nuts_kernel = NUTS(eight_schools)\n",
    "mcmc = MCMC(nuts_kernel, num_warmup=500, num_samples=1000)\n",
    "rng_key = jax.random.PRNGKey(0)\n",
    "mcmc.run(rng_key, J, sigma, y=y, extra_fields=('potential_energy',))"
   ]
  },
  {
   "cell_type": "code",
   "execution_count": 12,
   "id": "83d5c746",
   "metadata": {},
   "outputs": [
    {
     "name": "stdout",
     "output_type": "stream",
     "text": [
      "\n",
      "                mean       std    median      5.0%     95.0%     n_eff     r_hat\n",
      "        mu      4.48      2.88      5.14     -0.66      8.88    116.32      1.05\n",
      "       tau      2.59      2.60      1.83      0.22      6.07     12.80      1.17\n",
      "  theta[0]      5.65      4.24      5.74     -1.52     12.17    182.43      1.00\n",
      "  theta[1]      4.82      3.96      5.37     -1.61     11.47    246.74      1.02\n",
      "  theta[2]      4.26      4.16      5.30     -2.94      9.97    199.61      1.05\n",
      "  theta[3]      4.68      4.02      5.36     -1.36     11.70    212.51      1.02\n",
      "  theta[4]      3.89      3.95      4.85     -3.23      9.25    115.18      1.06\n",
      "  theta[5]      4.28      4.14      5.30     -2.46     10.35    179.70      1.03\n",
      "  theta[6]      5.87      4.12      5.70     -0.27     12.99    157.47      1.00\n",
      "  theta[7]      4.77      4.14      5.31     -3.17     10.03    195.87      1.01\n",
      "\n",
      "Number of divergences: 105\n"
     ]
    }
   ],
   "source": [
    "mcmc.print_summary()"
   ]
  },
  {
   "cell_type": "code",
   "execution_count": null,
   "id": "9f8a5997",
   "metadata": {},
   "outputs": [],
   "source": []
  }
 ],
 "metadata": {
  "kernelspec": {
   "display_name": "Python 3 (ipykernel)",
   "language": "python",
   "name": "python3"
  },
  "language_info": {
   "codemirror_mode": {
    "name": "ipython",
    "version": 3
   },
   "file_extension": ".py",
   "mimetype": "text/x-python",
   "name": "python",
   "nbconvert_exporter": "python",
   "pygments_lexer": "ipython3",
   "version": "3.9.5"
  }
 },
 "nbformat": 4,
 "nbformat_minor": 5
}
