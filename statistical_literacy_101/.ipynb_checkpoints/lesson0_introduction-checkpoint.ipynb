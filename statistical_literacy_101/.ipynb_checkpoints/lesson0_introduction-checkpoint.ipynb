{
 "cells": [
  {
   "cell_type": "markdown",
   "id": "ac6d3f8a-e2b7-46ec-b999-72d313ca5da0",
   "metadata": {},
   "source": [
    "# Why Statistics Feels Hard\n",
    "\n",
    "People use statistics to make educated guesses about what they don't know, based on what they do know. You get some data or observations, and based on this data you try to say something about the world. This requires a kind of backwards thinking, which is unintuitive. Forward thinking says: because X happened, Y happened after. Backwards thinking says, I can only see Y: what do I think X is?\n",
    "\n",
    "Let's take an example to make things clearer. Let's say I want to know the average height in the USA. How am I supposed to ever know what that is? I can't measure every single person. The best I can do is to measure some people, and then try to work backwards from the heights I've measured to say something about all the heights I didn't measure.\n",
    "\n",
    "And how will I ever know if I'm right, since I never measure every height? Learning happens when people can see when they've made mistakes and where those mistakes are. But since we never have the real \"truth\" that we're trying to estimate statistically, it's hard to get a feel for whether our techniques work. All we really end up with are magic formulas that are hard to understand, that someone told us works. \n",
    "\n",
    "# Statistics in the Computer Age\n",
    "\n",
    "When most the statistics you see in stats 101 was developed, people didn't have computers. Computations were done by hand. It was important to generate formulas that would produce the information we needed. Statistics was taught with all this in mind. Students were trained in such a way to get to these kinds of analytic solutions (technical math term) to problems, or to be able to derive new analytic solutions. \n",
    "\n",
    "In the computer age, the situation is completely different. Now, we can use computer simulations to generate a \"ground truth\" situation easily, and then take samples from it to create our dataset. Since we have both the data and the ground truth, we can easily see how our technique creates a picture about the truth from the data we have. We can directly see what works and what doesn't work. \n",
    "\n",
    "Today it is easier than ever to understand statistics, as long as we teach from a simulation and sampling centered point of view. \n",
    "\n",
    "# Example: Central Limit Theorem\n",
    "\n",
    "Do an example \n",
    "\n"
   ]
  }
 ],
 "metadata": {
  "kernelspec": {
   "display_name": "Python 3 (ipykernel)",
   "language": "python",
   "name": "python3"
  },
  "language_info": {
   "codemirror_mode": {
    "name": "ipython",
    "version": 3
   },
   "file_extension": ".py",
   "mimetype": "text/x-python",
   "name": "python",
   "nbconvert_exporter": "python",
   "pygments_lexer": "ipython3",
   "version": "3.10.5"
  }
 },
 "nbformat": 4,
 "nbformat_minor": 5
}
