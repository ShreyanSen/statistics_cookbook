{
 "cells": [
  {
   "cell_type": "code",
   "execution_count": 1,
   "id": "24e5f569-3815-4f58-8337-0dedf1b50136",
   "metadata": {},
   "outputs": [],
   "source": [
    "import os"
   ]
  },
  {
   "cell_type": "markdown",
   "id": "6c83a6ca-1a1a-4d56-aefa-32d5de2b577f",
   "metadata": {},
   "source": [
    "data from: https://cds.climate.copernicus.eu/cdsapp#!/dataset/insitu-gridded-observations-global-and-regional?tab=doc\n",
    "\n",
    "https://crudata.uea.ac.uk/cru/data/hrg/index.htm#current\n",
    "\n",
    "https://crudata.uea.ac.uk/cru/data/hrg/cru_ts_4.07/\n",
    "\n",
    "https://www.nature.com/articles/s41597-020-0453-3\n",
    "\n",
    "CRU has a days wet per month variable! that's perfect, even better than precipitation\n",
    "\n",
    "WET\n",
    "also has\n",
    "DTR\n",
    "which is diurnal temperature range! I need to get that one too\n",
    "\n",
    "Note 5 in the nature paper confirms it! The min and max temps are means of the daily min max!"
   ]
  },
  {
   "cell_type": "code",
   "execution_count": 2,
   "id": "fb9ebd05-7970-40e0-a858-ff8ce587d1df",
   "metadata": {},
   "outputs": [],
   "source": [
    "from scipy.io import netcdf\n",
    "import xarray as xr\n",
    "import numpy as np"
   ]
  },
  {
   "cell_type": "code",
   "execution_count": 3,
   "id": "c2694df5-c71f-4dc3-b9ac-f7559a902bd2",
   "metadata": {},
   "outputs": [],
   "source": []
  },
  {
   "cell_type": "code",
   "execution_count": 53,
   "id": "bffcc7b2-fd9c-46b6-a134-82e0f0d5ddc5",
   "metadata": {},
   "outputs": [],
   "source": [
    "class TravelMap:\n",
    "\n",
    "    def __init__(self, data_dir='/home/shrey/Dev/stats_curriculum/geospatial/data/'):\n",
    "\n",
    "        self.load_data(data_dir)\n",
    "        self.process_data()\n",
    "        self.queried_dfs = []\n",
    "\n",
    "    def load_data(self, data_dir):\n",
    "        datafiles = os.listdir(data_dir)\n",
    "        df_list = []\n",
    "        for file in datafiles:\n",
    "            ds = xr.open_dataset(data_dir+file)\n",
    "            df = ds.to_dataframe().reset_index().dropna()\n",
    "            df_list.append(df)\n",
    "        df_list = [df.drop(['stn'], axis=1) for df in df_list] # don't need the 'st' column\n",
    "        self.df_list = df_list\n",
    "\n",
    "    def process_data(self):\n",
    "        df_t= self.df_list[0]\n",
    "        for df in self.df_list[1:]:\n",
    "            df_t = df_t.merge(df, on=['lon','lat','time'])\n",
    "\n",
    "        def cels_to_fahr(x):\n",
    "            \"\"\"Americuhhh fuck yeahhh\"\"\"\n",
    "            y = 32 + (x*1.8 )\n",
    "            return y\n",
    "        \n",
    "        df_t['tmx_f'] = df_t['tmx'].apply(lambda x: cels_to_fahr(x))\n",
    "        df_t['tmn_f'] = df_t['tmn'].apply(lambda x: cels_to_fahr(x))\n",
    "        df_t['tmp_f'] = df_t['tmp'].apply(lambda x: cels_to_fahr(x))\n",
    "\n",
    "        self.global_df = df_t    \n",
    "        #self.global_df.reset_index()\n",
    "        self.global_df['month'] = self.global_df['time'].dt.month\n",
    "        self.global_df_monthly = self.global_df.drop(['time'],axis=1).groupby(['lat','lon','month']).mean().reset_index()\n",
    "\n",
    "    def massage_data(self, data_dir):\n",
    "        \n",
    "        datafiles = os.listdir(data_dir)\n",
    "        df_list = []\n",
    "        for file in datafiles:\n",
    "            ds = xr.open_dataset(data_dir+file)\n",
    "            df = ds.to_dataframe().reset_index().dropna()\n",
    "            df_list.append(df)\n",
    "        df_list = [df.drop(['stn'], axis=1) for df in df_list] # don't need the 'st' column\n",
    "        df_t= df_list[0]\n",
    "        for df in df_list[1:]:\n",
    "            df_t = df_t.merge(df, on=['lon','lat','time'])\n",
    "\n",
    "        def cels_to_fahr(x):\n",
    "            \"\"\"Americuhhh fuck yeahhh\"\"\"\n",
    "            y = 32 + (x*1.8 )\n",
    "            return y\n",
    "        \n",
    "        df_t['tmx_f'] = df_t['tmx'].apply(lambda x: cels_to_fahr(x))\n",
    "        df_t['tmn_f'] = df_t['tmn'].apply(lambda x: cels_to_fahr(x))\n",
    "        df_t['tmp_f'] = df_t['tmp'].apply(lambda x: cels_to_fahr(x))\n",
    "\n",
    "        self.global_df = df_t\n",
    "\n",
    "    def query_by_lat_lon(self, my_lat = 37.77, my_lon = -122.44):\n",
    "        \"\"\"\n",
    "        Queries the global dataframe by lat and lon and then stories the query as well as the results\n",
    "        \"\"\"\n",
    "        #self.queried_df = self.global_df.loc[(np.abs(self.global_df.lon-my_lon)<=0.25) & (np.abs(self.global_df_monthly.lat - my_lat)<=0.25)].groupby('time').agg('mean')\n",
    "\n",
    "        self.queried_df = self.global_df_monthly.loc[(np.abs(self.global_df_monthly.lon-my_lon)<=0.25) & (np.abs(self.global_df_monthly.lat - my_lat)<=0.25)]\n",
    "        results_dict = {'lat':my_lat, 'lon':my_lon, 'df':self.queried_df}\n",
    "        self.queried_dfs.append(results_dict)"
   ]
  },
  {
   "cell_type": "code",
   "execution_count": null,
   "id": "93393cfb-0f3c-432d-ad1c-565873a8c879",
   "metadata": {},
   "outputs": [],
   "source": [
    "my_map = TravelMap()\n",
    "my_map.query_by_lat_lon()"
   ]
  },
  {
   "cell_type": "code",
   "execution_count": null,
   "id": "ff3451c3-cdfa-4c43-96b5-f14af0664478",
   "metadata": {},
   "outputs": [],
   "source": [
    "my_map.global_df_monthly"
   ]
  },
  {
   "cell_type": "code",
   "execution_count": null,
   "id": "de3cc41a-e2ad-4044-9e4f-d5c61ad90b56",
   "metadata": {
    "scrolled": true
   },
   "outputs": [],
   "source": [
    "my_map.queried_dfs[0]['df']"
   ]
  },
  {
   "cell_type": "code",
   "execution_count": 44,
   "id": "896035e2-fd44-4276-97aa-196b146fcfb2",
   "metadata": {},
   "outputs": [],
   "source": [
    "my_map.query_by_lat_lon(my_lat = 40.7, my_lon = -73.9)"
   ]
  },
  {
   "cell_type": "code",
   "execution_count": 41,
   "id": "8cb405af-f5b3-46e2-a64e-f2dd9018e62a",
   "metadata": {
    "scrolled": true
   },
   "outputs": [
    {
     "data": {
      "text/plain": [
       "0      1\n",
       "1      2\n",
       "2      3\n",
       "3      4\n",
       "4      5\n",
       "5      6\n",
       "6      7\n",
       "7      8\n",
       "8      9\n",
       "9     10\n",
       "10    11\n",
       "11    12\n",
       "12     1\n",
       "13     2\n",
       "14     3\n",
       "15     4\n",
       "16     5\n",
       "17     6\n",
       "18     7\n",
       "19     8\n",
       "20     9\n",
       "21    10\n",
       "22    11\n",
       "23    12\n",
       "Name: time, dtype: int32"
      ]
     },
     "execution_count": 41,
     "metadata": {},
     "output_type": "execute_result"
    }
   ],
   "source": [
    "my_map.queried_dfs[1]['df'].reset_index()['time'].dt.month"
   ]
  },
  {
   "cell_type": "markdown",
   "id": "7380a63c-8496-4a4f-8ad2-d436af90d674",
   "metadata": {},
   "source": [
    "# next steps\n",
    "\n",
    "ok I think I want to incorporate the global_df as a dataframe and then write a function that first displays the info--as a function of month though, so first groupby agg by month"
   ]
  }
 ],
 "metadata": {
  "kernelspec": {
   "display_name": "Python 3 (ipykernel)",
   "language": "python",
   "name": "python3"
  },
  "language_info": {
   "codemirror_mode": {
    "name": "ipython",
    "version": 3
   },
   "file_extension": ".py",
   "mimetype": "text/x-python",
   "name": "python",
   "nbconvert_exporter": "python",
   "pygments_lexer": "ipython3",
   "version": "3.10.5"
  }
 },
 "nbformat": 4,
 "nbformat_minor": 5
}
