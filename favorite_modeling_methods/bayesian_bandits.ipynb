{
 "cells": [
  {
   "cell_type": "code",
   "execution_count": 2,
   "id": "7397fa18-9c6a-49f9-8a97-f08902e2a980",
   "metadata": {},
   "outputs": [],
   "source": [
    "import numpy as np\n",
    "import matplotlib.pyplot as plt"
   ]
  },
  {
   "cell_type": "markdown",
   "id": "72d4f160-12a0-4396-82a4-122189f5b15e",
   "metadata": {},
   "source": [
    "# Bayesian Bandits\n",
    "\n",
    "Bayesian Bandits with beta-binomial models are a fun flavor of multi-armed bandit problems that use thompson sampling to do a pretty simple implementation of reinforcement learning.\n",
    "\n",
    "In this notebook we'll start off with a grid of locations. At each location we have a certain fixed unknown probability of having a good time! Each turn we'll visit some subset of these locations, see if we had a good time or a bad time, and based on that we'll update our beliefs about if that spot is a fun location or a not fun location. \n",
    "\n",
    "We'll see how our process begins with exploration--determining which spots are good--but eventually converts to exploitation--where we consistently visit the better spots.\n",
    "\n",
    "### True Probability of Having a Good Time\n",
    "\n",
    "We'll set it so most of the locations you either like quite a bit or don't like very much at all. If you *always* enjoy a spot, it gets a value of 1.0. If you *never* like a spot, it gets a value of 0.0. We'll use a beta distribution to generate the true values over our grid, and bias us towards not liking a place over liking it. Note that in this case, each spot does have a single fixed true probability of having a good time there!"
   ]
  },
  {
   "cell_type": "code",
   "execution_count": 119,
   "id": "8724e891-8650-4dbc-8d47-92466584a731",
   "metadata": {},
   "outputs": [],
   "source": [
    "np.random.seed(42)\n",
    "array_size = [10,10]\n",
    "true_p = np.round(np.random.beta(0.2,0.4,array_size), 2)"
   ]
  },
  {
   "cell_type": "code",
   "execution_count": 120,
   "id": "eab97f13-aa23-47d8-842b-651262a1c2cf",
   "metadata": {},
   "outputs": [
    {
     "data": {
      "text/plain": [
       "(array([44.,  6.,  6.,  5.,  3.,  6.,  5.,  3.,  6., 16.]),\n",
       " array([0. , 0.1, 0.2, 0.3, 0.4, 0.5, 0.6, 0.7, 0.8, 0.9, 1. ]),\n",
       " <BarContainer object of 10 artists>)"
      ]
     },
     "execution_count": 120,
     "metadata": {},
     "output_type": "execute_result"
    },
    {
     "data": {
      "image/png": "[encoded data removed]",
      "text/plain": [
       "<Figure size 640x480 with 1 Axes>"
      ]
     },
     "metadata": {},
     "output_type": "display_data"
    }
   ],
   "source": [
    "plt.hist(true_p.flatten())"
   ]
  },
  {
   "cell_type": "code",
   "execution_count": 122,
   "id": "58150214-f700-42a9-a707-649ed44c6485",
   "metadata": {},
   "outputs": [
    {
     "data": {
      "text/plain": [
       "array([[0.01, 0.43, 0.01, 0.  , 0.16, 0.  , 0.95, 0.01, 0.01, 0.25],\n",
       "       [0.92, 0.03, 0.03, 0.  , 0.99, 0.87, 0.  , 0.47, 0.54, 0.  ],\n",
       "       [0.  , 0.  , 0.01, 0.77, 0.09, 0.  , 0.  , 0.19, 0.84, 0.01],\n",
       "       [0.  , 0.  , 0.94, 0.  , 0.28, 0.99, 0.56, 0.61, 0.8 , 0.05],\n",
       "       [0.39, 0.78, 0.  , 0.52, 0.61, 0.25, 0.  , 0.  , 0.02, 0.95],\n",
       "       [0.02, 0.28, 0.16, 0.13, 0.96, 0.73, 0.45, 0.01, 0.  , 0.35],\n",
       "       [0.  , 0.93, 0.08, 0.01, 0.96, 0.38, 0.88, 0.32, 0.  , 0.96],\n",
       "       [0.  , 0.97, 0.21, 0.  , 0.02, 0.33, 0.  , 0.18, 0.  , 1.  ],\n",
       "       [0.59, 0.9 , 0.63, 0.99, 0.52, 0.  , 0.61, 0.59, 0.  , 0.65],\n",
       "       [0.06, 0.21, 0.98, 0.  , 1.  , 0.  , 0.  , 0.11, 0.83, 0.87]])"
      ]
     },
     "execution_count": 122,
     "metadata": {},
     "output_type": "execute_result"
    }
   ],
   "source": [
    "true_p"
   ]
  },
  {
   "cell_type": "code",
   "execution_count": 121,
   "id": "74ebe471-7173-4fea-ab96-095fe6513824",
   "metadata": {},
   "outputs": [
    {
     "data": {
      "text/plain": [
       "<matplotlib.image.AxesImage at 0x1232b8820>"
      ]
     },
     "execution_count": 121,
     "metadata": {},
     "output_type": "execute_result"
    },
    {
     "data": {
      "image/png": "[encoded data removed]",
      "text/plain": [
       "<Figure size 640x480 with 1 Axes>"
      ]
     },
     "metadata": {},
     "output_type": "display_data"
    }
   ],
   "source": [
    "plt.imshow(true_p, cmap='viridis')"
   ]
  },
  {
   "cell_type": "markdown",
   "id": "200a4bad-989f-4d49-81b6-791ba60c67ab",
   "metadata": {},
   "source": [
    "### Running The Machine\n",
    "\n"
   ]
  },
  {
   "cell_type": "code",
   "execution_count": 141,
   "id": "8738ac30-7b52-4a0d-9c86-2ca746e3898a",
   "metadata": {},
   "outputs": [],
   "source": [
    "class Banditry:\n",
    "\n",
    "    def __init__(self, reality):\n",
    "        np.random.seed(42)\n",
    "        self.true_p = reality\n",
    "        self.grid_shape = self.true_p.shape\n",
    "        self.initialize_beliefs()\n",
    "        self.track_visits = []\n",
    "    def initialize_beliefs(self):\n",
    "        \"\"\"\n",
    "        our belief about a certain location is held in a beta distribution with two parameters\n",
    "        we'll store those two parameters in a numpy array where alpha is indexed at 0 and beta is indexed at 1\n",
    "        \"\"\"\n",
    "        self.happiness_beliefs = np.zeros((self.grid_shape[0], self.grid_shape[1], 2))\n",
    "        # we'll set a weak prior of alpha=1, beta=1 everywhere\n",
    "        self.happiness_beliefs += 1\n",
    "\n",
    "    def play_one_round(self):\n",
    "        # to get our beliefs about where we should go we sample from beta distributions using the current params for alpha and beta at each idx\n",
    "        anticipated_outcomes = np.random.beta(self.happiness_beliefs[:,:,0], self.happiness_beliefs[:,:,1])\n",
    "        visit_raveled_idx = np.argmax(anticipated_outcomes)\n",
    "        visit_unraveled_idx = np.unravel_index(visit_raveled_idx, self.grid_shape)\n",
    "        self.track_visits.append(visit_unraveled_idx)\n",
    "        # visit the location, get the real probability, and generate an outcome from it\n",
    "        p = self.true_p[visit_unraveled_idx]\n",
    "        outcome = np.random.binomial(1, p)\n",
    "\n",
    "        # bayesian updating our beliefs is very simple for beta binomial! heads, add 1 to alpha. tails, add 1 to beta. nice!\n",
    "        # if \"heads\" then update alpha -> alpha + 1\n",
    "        if outcome == 1:\n",
    "            self.happiness_beliefs[visit_unraveled_idx[0], visit_unraveled_idx[1], 0] += 1\n",
    "        # otherwise, beta gets bumped up\n",
    "        elif outcome==0:\n",
    "            self.happiness_beliefs[visit_unraveled_idx[0], visit_unraveled_idx[1], 1] += 1\n",
    "\n",
    "    def play_k_rounds(self, k):\n",
    "        for i in range(k):\n",
    "            self.play_one_round()\n",
    "\n",
    "    def get_posterior_mean_beliefs(self):\n",
    "        self.posterior_beliefs = self.happiness_beliefs[:,:,0] / (self.happiness_beliefs[:,:,0] + self.happiness_beliefs[:,:,1])\n"
   ]
  },
  {
   "cell_type": "code",
   "execution_count": 159,
   "id": "841f223f-722a-40e7-8267-3d469fd81483",
   "metadata": {},
   "outputs": [],
   "source": [
    "bd = Banditry(true_p)"
   ]
  },
  {
   "cell_type": "code",
   "execution_count": 160,
   "id": "949537aa-73f2-496a-9094-9d2bfef2b9b2",
   "metadata": {},
   "outputs": [
    {
     "data": {
      "text/plain": [
       "array([[0.5, 0.5, 0.5, 0.5, 0.5, 0.5, 0.5, 0.5, 0.5, 0.5],\n",
       "       [0.5, 0.5, 0.5, 0.5, 0.5, 0.5, 0.5, 0.5, 0.5, 0.5],\n",
       "       [0.5, 0.5, 0.5, 0.5, 0.5, 0.5, 0.5, 0.5, 0.5, 0.5],\n",
       "       [0.5, 0.5, 0.5, 0.5, 0.5, 0.5, 0.5, 0.5, 0.5, 0.5],\n",
       "       [0.5, 0.5, 0.5, 0.5, 0.5, 0.5, 0.5, 0.5, 0.5, 0.5],\n",
       "       [0.5, 0.5, 0.5, 0.5, 0.5, 0.5, 0.5, 0.5, 0.5, 0.5],\n",
       "       [0.5, 0.5, 0.5, 0.5, 0.5, 0.5, 0.5, 0.5, 0.5, 0.5],\n",
       "       [0.5, 0.5, 0.5, 0.5, 0.5, 0.5, 0.5, 0.5, 0.5, 0.5],\n",
       "       [0.5, 0.5, 0.5, 0.5, 0.5, 0.5, 0.5, 0.5, 0.5, 0.5],\n",
       "       [0.5, 0.5, 0.5, 0.5, 0.5, 0.5, 0.5, 0.5, 0.5, 0.5]])"
      ]
     },
     "execution_count": 160,
     "metadata": {},
     "output_type": "execute_result"
    }
   ],
   "source": [
    "bd.get_posterior_mean_beliefs()\n",
    "bd.posterior_beliefs"
   ]
  },
  {
   "cell_type": "code",
   "execution_count": 161,
   "id": "f364a518-2687-4dd8-850f-502dec12ff28",
   "metadata": {},
   "outputs": [
    {
     "data": {
      "text/plain": [
       "array([[0.5 , 0.5 , 0.5 , 0.5 , 0.5 , 0.5 , 0.5 , 0.5 , 0.5 , 0.5 ],\n",
       "       [0.67, 0.33, 0.5 , 0.5 , 0.5 , 0.5 , 0.5 , 0.5 , 0.5 , 0.5 ],\n",
       "       [0.5 , 0.5 , 0.33, 0.5 , 0.5 , 0.33, 0.5 , 0.5 , 0.5 , 0.5 ],\n",
       "       [0.5 , 0.5 , 0.5 , 0.5 , 0.5 , 0.5 , 0.5 , 0.5 , 0.5 , 0.5 ],\n",
       "       [0.5 , 0.5 , 0.5 , 0.5 , 0.5 , 0.5 , 0.33, 0.5 , 0.5 , 0.5 ],\n",
       "       [0.5 , 0.5 , 0.5 , 0.5 , 0.5 , 0.5 , 0.5 , 0.33, 0.33, 0.5 ],\n",
       "       [0.5 , 0.5 , 0.5 , 0.5 , 0.5 , 0.5 , 0.5 , 0.5 , 0.5 , 0.67],\n",
       "       [0.5 , 0.5 , 0.5 , 0.5 , 0.5 , 0.5 , 0.33, 0.5 , 0.5 , 0.5 ],\n",
       "       [0.5 , 0.5 , 0.5 , 0.5 , 0.5 , 0.5 , 0.5 , 0.5 , 0.5 , 0.5 ],\n",
       "       [0.33, 0.5 , 0.5 , 0.5 , 0.5 , 0.5 , 0.5 , 0.5 , 0.5 , 0.5 ]])"
      ]
     },
     "execution_count": 161,
     "metadata": {},
     "output_type": "execute_result"
    }
   ],
   "source": [
    "bd.play_k_rounds(10)\n",
    "bd.get_posterior_mean_beliefs()\n",
    "np.round(bd.posterior_beliefs, 2)"
   ]
  },
  {
   "cell_type": "code",
   "execution_count": 162,
   "id": "13fba36d-6d26-4fca-8942-8c7cc3d47192",
   "metadata": {},
   "outputs": [
    {
     "data": {
      "text/plain": [
       "array([[0.01, 0.43, 0.01, 0.  , 0.16, 0.  , 0.95, 0.01, 0.01, 0.25],\n",
       "       [0.92, 0.03, 0.03, 0.  , 0.99, 0.87, 0.  , 0.47, 0.54, 0.  ],\n",
       "       [0.  , 0.  , 0.01, 0.77, 0.09, 0.  , 0.  , 0.19, 0.84, 0.01],\n",
       "       [0.  , 0.  , 0.94, 0.  , 0.28, 0.99, 0.56, 0.61, 0.8 , 0.05],\n",
       "       [0.39, 0.78, 0.  , 0.52, 0.61, 0.25, 0.  , 0.  , 0.02, 0.95],\n",
       "       [0.02, 0.28, 0.16, 0.13, 0.96, 0.73, 0.45, 0.01, 0.  , 0.35],\n",
       "       [0.  , 0.93, 0.08, 0.01, 0.96, 0.38, 0.88, 0.32, 0.  , 0.96],\n",
       "       [0.  , 0.97, 0.21, 0.  , 0.02, 0.33, 0.  , 0.18, 0.  , 1.  ],\n",
       "       [0.59, 0.9 , 0.63, 0.99, 0.52, 0.  , 0.61, 0.59, 0.  , 0.65],\n",
       "       [0.06, 0.21, 0.98, 0.  , 1.  , 0.  , 0.  , 0.11, 0.83, 0.87]])"
      ]
     },
     "execution_count": 162,
     "metadata": {},
     "output_type": "execute_result"
    }
   ],
   "source": [
    "bd.true_p"
   ]
  },
  {
   "cell_type": "code",
   "execution_count": 163,
   "id": "013aa451-0b93-426e-b693-e890cf91d5ca",
   "metadata": {},
   "outputs": [
    {
     "data": {
      "text/plain": [
       "array([[0.33, 0.6 , 0.33, 0.33, 0.67, 0.33, 0.5 , 0.5 , 0.33, 0.33],\n",
       "       [0.9 , 0.33, 0.5 , 0.33, 0.83, 0.5 , 0.33, 0.5 , 0.5 , 0.33],\n",
       "       [0.5 , 0.33, 0.33, 0.33, 0.33, 0.33, 0.5 , 0.5 , 0.5 , 0.33],\n",
       "       [0.33, 0.5 , 0.67, 0.33, 0.33, 0.86, 0.33, 0.71, 0.5 , 0.33],\n",
       "       [0.5 , 0.5 , 0.33, 0.5 , 0.5 , 0.33, 0.33, 0.33, 0.33, 0.6 ],\n",
       "       [0.33, 0.33, 0.33, 0.5 , 0.67, 0.5 , 0.75, 0.33, 0.33, 0.5 ],\n",
       "       [0.33, 0.67, 0.5 , 0.5 , 0.5 , 0.33, 0.83, 0.33, 0.5 , 0.88],\n",
       "       [0.5 , 0.67, 0.5 , 0.5 , 0.5 , 0.5 , 0.33, 0.33, 0.5 , 0.5 ],\n",
       "       [0.75, 0.5 , 0.5 , 0.9 , 0.5 , 0.33, 0.5 , 0.5 , 0.33, 0.5 ],\n",
       "       [0.33, 0.33, 0.75, 0.33, 0.5 , 0.33, 0.5 , 0.5 , 0.67, 0.5 ]])"
      ]
     },
     "execution_count": 163,
     "metadata": {},
     "output_type": "execute_result"
    }
   ],
   "source": [
    "bd.play_k_rounds(100)\n",
    "bd.get_posterior_mean_beliefs()\n",
    "np.round(bd.posterior_beliefs, 2)"
   ]
  },
  {
   "cell_type": "code",
   "execution_count": 164,
   "id": "7091b87c-6d4b-495f-8332-79dd679c38df",
   "metadata": {},
   "outputs": [
    {
     "data": {
      "text/plain": [
       "array([[0.01, 0.43, 0.01, 0.  , 0.16, 0.  , 0.95, 0.01, 0.01, 0.25],\n",
       "       [0.92, 0.03, 0.03, 0.  , 0.99, 0.87, 0.  , 0.47, 0.54, 0.  ],\n",
       "       [0.  , 0.  , 0.01, 0.77, 0.09, 0.  , 0.  , 0.19, 0.84, 0.01],\n",
       "       [0.  , 0.  , 0.94, 0.  , 0.28, 0.99, 0.56, 0.61, 0.8 , 0.05],\n",
       "       [0.39, 0.78, 0.  , 0.52, 0.61, 0.25, 0.  , 0.  , 0.02, 0.95],\n",
       "       [0.02, 0.28, 0.16, 0.13, 0.96, 0.73, 0.45, 0.01, 0.  , 0.35],\n",
       "       [0.  , 0.93, 0.08, 0.01, 0.96, 0.38, 0.88, 0.32, 0.  , 0.96],\n",
       "       [0.  , 0.97, 0.21, 0.  , 0.02, 0.33, 0.  , 0.18, 0.  , 1.  ],\n",
       "       [0.59, 0.9 , 0.63, 0.99, 0.52, 0.  , 0.61, 0.59, 0.  , 0.65],\n",
       "       [0.06, 0.21, 0.98, 0.  , 1.  , 0.  , 0.  , 0.11, 0.83, 0.87]])"
      ]
     },
     "execution_count": 164,
     "metadata": {},
     "output_type": "execute_result"
    }
   ],
   "source": [
    "bd.true_p"
   ]
  },
  {
   "cell_type": "code",
   "execution_count": 165,
   "id": "470d4bed-d0d8-42c0-a7b5-58175600993a",
   "metadata": {},
   "outputs": [
    {
     "data": {
      "text/plain": [
       "array([[0.33, 0.6 , 0.33, 0.33, 0.5 , 0.33, 0.6 , 0.33, 0.33, 0.33],\n",
       "       [0.88, 0.33, 0.25, 0.25, 0.97, 0.89, 0.33, 0.33, 0.5 , 0.33],\n",
       "       [0.33, 0.33, 0.33, 0.33, 0.33, 0.33, 0.33, 0.33, 0.5 , 0.33],\n",
       "       [0.33, 0.33, 0.8 , 0.33, 0.33, 0.94, 0.33, 0.67, 0.71, 0.33],\n",
       "       [0.5 , 0.33, 0.33, 0.33, 0.5 , 0.33, 0.33, 0.33, 0.33, 0.6 ],\n",
       "       [0.33, 0.33, 0.33, 0.5 , 0.91, 0.5 , 0.6 , 0.33, 0.25, 0.33],\n",
       "       [0.33, 0.94, 0.33, 0.33, 0.93, 0.33, 0.79, 0.33, 0.5 , 0.86],\n",
       "       [0.33, 0.83, 0.33, 0.33, 0.33, 0.5 , 0.33, 0.33, 0.33, 1.  ],\n",
       "       [0.6 , 0.82, 0.6 , 0.99, 0.5 , 0.33, 0.5 , 0.5 , 0.33, 0.5 ],\n",
       "       [0.33, 0.33, 0.99, 0.33, 1.  , 0.33, 0.33, 0.33, 0.71, 0.5 ]])"
      ]
     },
     "execution_count": 165,
     "metadata": {},
     "output_type": "execute_result"
    }
   ],
   "source": [
    "bd.play_k_rounds(10000)\n",
    "bd.get_posterior_mean_beliefs()\n",
    "np.round(bd.posterior_beliefs, 2)"
   ]
  },
  {
   "cell_type": "code",
   "execution_count": 166,
   "id": "96b3c655-085b-42ac-b217-af5b527529d9",
   "metadata": {},
   "outputs": [
    {
     "data": {
      "text/plain": [
       "[(7, 9), (7, 9), (7, 9), (9, 4), (7, 9), (7, 9), (9, 4), (9, 4), (7, 9)]"
      ]
     },
     "execution_count": 166,
     "metadata": {},
     "output_type": "execute_result"
    }
   ],
   "source": [
    "bd.track_visits[-10:-1] "
   ]
  },
  {
   "cell_type": "markdown",
   "id": "86844c5e-e3fe-45c8-ab47-ce0e43446d0c",
   "metadata": {},
   "source": [
    "### Results\n",
    "\n",
    "We can see here that the algorithm has converged to a certain idea of the space that isn't quite accurate! For example, (7, 2) is set to a 97% satisfaction rate, but we estimate it at 83%. Instead we've gotten sucked into a few coordinates that we've determined with very high precision are great spots to be--(7,9) and (9,4) to be precise. In part this is happening because they do have absurdly high real happiness rates--why go anywhere else in that case and keep exploring? If their true happiness rates were lower, the algorithm would have them sometimes losing the draw and we'd continue exploring more. \n",
    "\n",
    "Overall, very cool to see how the beliefs evolve. They evolve only to the extent that our optimization requires learning more about the enviornment--versus just exploiting! :)"
   ]
  },
  {
   "cell_type": "markdown",
   "id": "613768c4-bd6f-4ed8-ad9e-12f36b1a80a1",
   "metadata": {},
   "source": [
    "### Dynamic True Probabilities\n",
    "\n",
    "A fun extension of this would be to have the true probabilities of having fun vary according to something like time or even my own state. If it's just time-varying, what's interesting about the bandit algorithm is you can just run it--if a spot that used to provide high reward stops doing so, the bandit does incorporate that and updates accordingly, eventually moving away from that spot. However, there's a memory issue, in the sense that happy times from long ago count just as much as a happy time from today--so if the variation in underlying params is slow our response time will also be slow. But in theory it would work!\n",
    "\n",
    "In practice, you'd want to move out of the beta-binomial model and towards a more complicated bandit. One way you could do this is to apply a deterministic function to the counts going into the model--for example, downweighting older counts as a function of age. Then you can still preserve the beta-binomial (and its incredible ease of computation). But for more complex stuff you might have to move off the beta-binomial and use stronger bayesian software to help you with the numerical heavy lifting."
   ]
  },
  {
   "cell_type": "code",
   "execution_count": null,
   "id": "050830c0-ad88-41eb-8df9-822b4d4711b8",
   "metadata": {},
   "outputs": [],
   "source": []
  }
 ],
 "metadata": {
  "kernelspec": {
   "display_name": "Python 3 (ipykernel)",
   "language": "python",
   "name": "python3"
  },
  "language_info": {
   "codemirror_mode": {
    "name": "ipython",
    "version": 3
   },
   "file_extension": ".py",
   "mimetype": "text/x-python",
   "name": "python",
   "nbconvert_exporter": "python",
   "pygments_lexer": "ipython3",
   "version": "3.9.5"
  }
 },
 "nbformat": 4,
 "nbformat_minor": 5
}
