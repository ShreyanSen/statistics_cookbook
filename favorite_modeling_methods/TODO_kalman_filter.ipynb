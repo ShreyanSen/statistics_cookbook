{
 "cells": [
  {
   "cell_type": "markdown",
   "id": "2bcc54b1-7411-4496-b048-9bf238ed3f1a",
   "metadata": {},
   "source": [
    "# Kalman Filter\n",
    "\n",
    "\n",
    "run through this tutorial:\n",
    "\n",
    "https://filippomb.github.io/python-time-series-handbook/notebooks/07/kalman-filter.html"
   ]
  },
  {
   "cell_type": "code",
   "execution_count": null,
   "id": "68854ce9-bb81-49e8-aa99-d93def522e23",
   "metadata": {},
   "outputs": [],
   "source": []
  }
 ],
 "metadata": {
  "kernelspec": {
   "display_name": "Python 3 (ipykernel)",
   "language": "python",
   "name": "python3"
  },
  "language_info": {
   "codemirror_mode": {
    "name": "ipython",
    "version": 3
   },
   "file_extension": ".py",
   "mimetype": "text/x-python",
   "name": "python",
   "nbconvert_exporter": "python",
   "pygments_lexer": "ipython3",
   "version": "3.9.5"
  }
 },
 "nbformat": 4,
 "nbformat_minor": 5
}
