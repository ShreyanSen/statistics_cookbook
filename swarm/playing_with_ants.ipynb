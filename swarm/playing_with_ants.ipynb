{
 "cells": [
  {
   "cell_type": "markdown",
   "id": "fa8449ae-2f32-48a1-9068-6b06320941a9",
   "metadata": {},
   "source": [
    "saw some cool ants, and I wanted to make something that looked like them :)\n",
    "\n",
    "here's what we'll do, each time an ant goes somewhere it leaves a scent. that scent has a time decay period. when an ant finds sugar, it'll pick it up. but we also want to drive variability right? also this is only useful based on the belief that the sugar clusters. which it should! to some degree. we want the ant to random walk over weighted probabilities. \n",
    "\n",
    "oh you know what? the ant needs an orientation. and it costs the ant a turn to rotate. \n",
    "\n",
    "can ants stack? yes but only two per square. \n",
    "what happens when it hits sugar? it follows it back? \n",
    "\n",
    "maybe the ant has a desire not to backtrack? so it \n",
    "\n",
    "so, we'll build a class that generates the sugar field, and passes it to ant hive that initializes. "
   ]
  },
  {
   "cell_type": "code",
   "execution_count": 2,
   "id": "24d10824-2677-4e6c-a9e0-e15b8afdef01",
   "metadata": {},
   "outputs": [],
   "source": [
    "import numpy as np\n"
   ]
  },
  {
   "cell_type": "code",
   "execution_count": null,
   "id": "54e38b08-a02d-4717-9505-5c48e7ef4e80",
   "metadata": {},
   "outputs": [],
   "source": [
    "class SugarField:\n",
    "\n",
    "    def __init__(self):\n",
    "        "
   ]
  }
 ],
 "metadata": {
  "kernelspec": {
   "display_name": "Python 3 (ipykernel)",
   "language": "python",
   "name": "python3"
  },
  "language_info": {
   "codemirror_mode": {
    "name": "ipython",
    "version": 3
   },
   "file_extension": ".py",
   "mimetype": "text/x-python",
   "name": "python",
   "nbconvert_exporter": "python",
   "pygments_lexer": "ipython3",
   "version": "3.9.5"
  }
 },
 "nbformat": 4,
 "nbformat_minor": 5
}
