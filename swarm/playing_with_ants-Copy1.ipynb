{
 "cells": [
  {
   "cell_type": "markdown",
   "id": "fa8449ae-2f32-48a1-9068-6b06320941a9",
   "metadata": {},
   "source": [
    "saw some cool ants, and I wanted to make something that looked like them :)\n",
    "\n",
    "here's what we'll do, each time an ant goes somewhere it leaves a scent. that scent has a time decay period. when an ant finds sugar, it'll pick it up. but we also want to drive variability right? also this is only useful based on the belief that the sugar clusters. which it should! to some degree. we want the ant to random walk over weighted probabilities. \n",
    "\n",
    "oh you know what? the ant needs an orientation. and it costs the ant a turn to rotate. i saw this observing the ants! how about have ants weight their direction to be forwards rather than backwards?\n",
    "\n",
    "i think the return behavior actually matters because it reinforces the algo. so, ant has an explore mode and a return mode?\n",
    "\n",
    "ok how about when an ant finds food it drops a second kind of pheromone, a \"local search\" pheromone that says hey i found food here, look around locally. it has the ant strongly pull away from the food square after it has just been on it. \n",
    "\n",
    "can ants stack? yes but only two per square. \n",
    "what happens when it hits sugar? it follows it back? \n",
    "\n",
    "maybe the ant has a desire not to backtrack? so it \n",
    "\n",
    "so, we'll build a class that generates the sugar field, and passes it to ant hive that initializes. We'll use gaussian random fields to populate the grid with a GRF and then draw binary sugar presence / absence from it. \n"
   ]
  },
  {
   "cell_type": "code",
   "execution_count": 97,
   "id": "24d10824-2677-4e6c-a9e0-e15b8afdef01",
   "metadata": {},
   "outputs": [],
   "source": [
    "import numpy as np\n",
    "from FyeldGenerator import generate_field\n",
    "import scipy.stats as st\n",
    "import matplotlib.pyplot as plt\n",
    "import json\n",
    "import copy"
   ]
  },
  {
   "cell_type": "code",
   "execution_count": 89,
   "id": "583ca880-aea8-4269-ab0f-3b363cdcdcdb",
   "metadata": {},
   "outputs": [],
   "source": [
    "class SugarField:\n",
    "\n",
    "    def __init__(self, grid_size=(100,100), grf_shape_param= 7, grf_damper=1, grid_type='grf'):\n",
    "        \"\"\"\n",
    "\n",
    "        grid_size: 2D tuple defining size of grid life is playing on\n",
    "        \"\"\"\n",
    "        self.grf_shape_param = grf_shape_param\n",
    "        self.grf_damper = grf_damper\n",
    "        self.grid_size = grid_size\n",
    "        self.grid_l = grid_size[0] # up / down\n",
    "        self.grid_w = grid_size[1] \n",
    "        self.gen_sugar_field(grid_type=grid_type)\n",
    "\n",
    "\n",
    "    def gen_sugar_field(self, grid_type):\n",
    "        np.random.seed(42069)\n",
    "        if grid_type == 'uniform_rand':\n",
    "            p_ones = 0.4\n",
    "            self.grid = np.random.choice([0,1], self.grid_size, p=((1-p_ones),p_ones)) # seed random start \n",
    "        if grid_type == 'grf':\n",
    "            self.gen_corr_probability_field() # creates self.grid_init_prob_field\n",
    "            self.grid = np.random.binomial(n=1, p=self.grid_init_prob_field, size=self.grid_size)\n",
    "        # something to add: a situation where a gaussian random field sets the seed probability as a function of space!\n",
    "\n",
    "\n",
    "    def gen_corr_probability_field(self):\n",
    "        \"\"\"\n",
    "        uses random fields to generate a spatially correlated field of bernoulli probabilities, one probability per grid cell, \n",
    "        which we'll use to draw an initial grid of 1s and 0s for conway's game\n",
    "        \"\"\"\n",
    "        def Pkgen(n):\n",
    "            def Pk(k):\n",
    "                return np.power(k, -n)\n",
    "        \n",
    "            return Pk\n",
    "        \n",
    "        \n",
    "        # Draw samples from a normal distribution\n",
    "        def distrib(shape):\n",
    "            a = np.random.normal(loc=0, scale=1, size=shape)\n",
    "            b = np.random.normal(loc=0, scale=1, size=shape)\n",
    "            return a + 1j * b\n",
    "        \n",
    "        \n",
    "        shape = (self.grid_l, self.grid_w)\n",
    "        \n",
    "        field = generate_field(distrib, Pkgen(self.grf_shape_param), shape) # 7 just because I like the grouping effect\n",
    "        z_field = (field-np.mean(field))/np.std(field)\n",
    "        prob_field= st.norm.cdf(z_field) / self.grf_damper #grf dampener is because my probability field was too high; too much sugar! \n",
    "        self.grid_init_prob_field = prob_field\n",
    "\n",
    "    def plot_field(self):\n",
    "        plt.imshow(self.grid, cmap='binary', interpolation='nearest')\n",
    "        \n"
   ]
  },
  {
   "cell_type": "code",
   "execution_count": 92,
   "id": "54e38b08-a02d-4717-9505-5c48e7ef4e80",
   "metadata": {},
   "outputs": [
    {
     "data": {
      "image/png": "[encoded data removed]",
      "text/plain": [
       "<Figure size 640x480 with 1 Axes>"
      ]
     },
     "metadata": {},
     "output_type": "display_data"
    }
   ],
   "source": [
    "sf= SugarField(grf_shape_param=30, grf_damper=50)\n",
    "sf.plot_field()"
   ]
  },
  {
   "cell_type": "code",
   "execution_count": 103,
   "id": "4676763b-e7eb-420e-8f42-5816d4016c4a",
   "metadata": {},
   "outputs": [
    {
     "data": {
      "text/plain": [
       "array([0, 0, 0, 0, 1, 1, 0, 0, 0])"
      ]
     },
     "execution_count": 103,
     "metadata": {},
     "output_type": "execute_result"
    }
   ],
   "source": [
    "sf.grid[0,90:99] # observe: going \"west to east\" means increasing the second index"
   ]
  },
  {
   "cell_type": "code",
   "execution_count": 104,
   "id": "97fe8419-449a-44e6-a192-653cddd0dda2",
   "metadata": {},
   "outputs": [
    {
     "data": {
      "text/plain": [
       "array([0, 0, 0, 0, 0, 0, 0, 0, 0])"
      ]
     },
     "execution_count": 104,
     "metadata": {},
     "output_type": "execute_result"
    }
   ],
   "source": [
    "sf.grid[90:99,0] # likewise going \"north to south\" means increasing the first index"
   ]
  },
  {
   "cell_type": "code",
   "execution_count": 265,
   "id": "91f0cd7f-c8d6-4c40-ba14-36cb1fcd2dfd",
   "metadata": {},
   "outputs": [],
   "source": [
    "# going to build separate ant and hive objects\n",
    "# heh could even have the hive try to coordinate among multiple sugar fields in parallel and have it cost something to generate an ant at one field\n",
    "# let ants stack for now\n",
    "\n",
    "class AntMind:\n",
    "    \n",
    "    def __init__(self, ant_orientation):\n",
    "        \"\"\"\n",
    "\n",
    "        ant_orientation: where the ant is pointed. equivalent to the ant's previous move (ant only points where it moves). probabilities\n",
    "        are \n",
    "        \"\"\"\n",
    "        self.has_sugar = 0 # do we have it currently?\n",
    "        self.picked_up_sugar_this_turn = 0 # did we pick it up this turn?\n",
    "        #self.local_grid = local_grid\n",
    "        self.orientation = ant_orientation\n",
    "\n",
    "        self.moveset = []\n",
    "        #self.moveset.append(self.orientation) # where it came from!\n",
    "        self.flip_orientation_dict ={'[0, 0]':[2,2],'[0, 1]':[2,1],'[0, 2]':[2,0],'[1, 0]':[1,2], '[1, 2]':[1,0], '[2, 0]':[0,2], '[2, 2]':[0,0]}\n",
    "\n",
    "        \n",
    "    def move_ant(self, local_grid):\n",
    "        \"\"\"\n",
    "        local_grid: pass the ant a local grid consisting of where it is and the grid squares around there, including any objects\n",
    "            in the local grid (objects such as pheromones or sugar). we'll also update the local grid and then pass it back out. \n",
    "            local grid is a dict of grids actually. one grid is the pheromone grid. since the grid is 3x3 numpy array, the ant\n",
    "            itself is located at indices [1,1]\n",
    "        \"\"\"\n",
    "        self.local_grid = local_grid\n",
    "        self.local_grid_in = copy.deepcopy(local_grid)\n",
    "        self.drop_pheromone()\n",
    "\n",
    "        if self.has_sugar:\n",
    "            # if the ant already has sugar, keep sending it home!\n",
    "            self.step_home()\n",
    "\n",
    "        else:\n",
    "            self.step_forward()\n",
    "\n",
    "        # have the HiveMind object then pull the following: self.next_move, self.local_grid\n",
    "        # then HiveMind has to update the relative grid with the current local grid, and move the ant!\n",
    "\n",
    "        self.pher_update = self.local_grid['pher'] - self.local_grid_in['pher']\n",
    "        self.sugar_update = self.local_grid['sugar'] - self.local_grid_in['sugar']\n",
    "        self.delta_grid = {'sugar':self.sugar_update, 'pher':self.pher_update}\n",
    "\n",
    "    def step_forward(self):\n",
    "        self.picked_up_sugar = 0\n",
    "        \n",
    "        if self.local_grid['sugar'][1,1] == 1: # on sugar!\n",
    "            self.has_sugar = 1 # pick it up\n",
    "            self.picked_up_sugar_this_turn = 1 # note you picked up up this turn\n",
    "            self.local_grid['sugar'][1,1] = 0 # sugar no longer on the grid\n",
    "            self.step_home() # begin walking home, also this ensures we always have a self.next_move because we need it\n",
    "            #self.flip_orientation() # automagically handled in step_home function\n",
    "            \n",
    "        else:\n",
    "            self.gen_weights() # generate the weights for moving forward\n",
    "            self.explore()\n",
    "\n",
    "        self.moveset.append(self.orientation)\n",
    "        self.orientation = self.next_move # going to return the next move as well as updated grid to the grid coordinator; object updates orientation before moving\n",
    "        \n",
    "\n",
    "    def gen_weights(self):\n",
    "        \"\"\"\n",
    "        we generate a set of weights that add to 1, assigned to each element of the grid (zeroed out for the center element)\n",
    "        from these weights we'll draw a new direction to move in\n",
    "        we set a greater weight to the direction we're pointed in\n",
    "        \"\"\"\n",
    "        \n",
    "        \n",
    "        weights = np.zeros([3,3])\n",
    "        weights[self.orientation[0],self.orientation[1]] += 1 # add 1 to currently pointed direction\n",
    "\n",
    "        # cool little algo to get the indices of the two \"neighboring\" directions to our currently pointed direction\n",
    "        # e.g. if we were pointed south we'd want southwest and southeast\n",
    "        # basically we joystick up, down, left, and right, and throw it out if we hit the center or go off the 3x3\n",
    "        potential_neighbors = [[self.orientation[0]+1,self.orientation[1]],[self.orientation[0]-1,self.orientation[1]],[self.orientation[0],self.orientation[1]+1],[self.orientation[0],self.orientation[1]-1]]\n",
    "        neighbors = [el for el in potential_neighbors if (el!=[1,1] and el[0]>= 0 and el[0]<=2 and el[1]>=0 and el[1]<=2)] \n",
    "\n",
    "        weights[neighbors[0][0],neighbors[0][1]]+= 0.5 \n",
    "        weights[neighbors[1][0],neighbors[1][1]]+= 0.5 \n",
    "\n",
    "        weights = weights + self.local_grid['pher'] # add pheromone values directly to weights; note they're in same units!\n",
    "\n",
    "        weights[1,1] = 0 # no need to regard weight on current location\n",
    "\n",
    "        # don't go back the way we came\n",
    "        last_position = self.flip_orientation_dict[str(self.orientation)]\n",
    "        weights[last_position[0], last_position[1]] = 0 # don't go back the way we came!\n",
    "\n",
    "        self.weights = weights / np.sum(weights) # normalize weights\n",
    "\n",
    "    def explore(self):\n",
    "\n",
    "        flat_weights = self.weights.flatten() # flatten the weights\n",
    "        selected_flat_idx = np.random.choice(len(flat_weights), p=flat_weights) # select, based on weights which are probabilities, a direction\n",
    "        selected_idx = np.unravel_index(selected_flat_idx, np.shape(self.weights)) # put that direction back into our 3x3 coords\n",
    "        self.next_move = list(selected_idx)\n",
    "        \n",
    "\n",
    "    def step_home(self):\n",
    "        \"\"\"for now we'll just have the ant retrace its steps exactly to get home!\"\"\"\n",
    "        last_move = self.moveset.pop()\n",
    "        self.next_move = self.flip_orientation(last_move) # reverse\n",
    "        self.orientation = self.next_move\n",
    "        \n",
    "        \n",
    "    \n",
    "    \n",
    "    def flip_orientation(self):\n",
    "        \n",
    "        # self.flip_orientation_dict ={'[0,0]':[2,2],'[0,1]':[2,1],'[0,2]':[2,0],'[1,0]':[1,2], '[1,2]':[1,0], '[2,0]':[0,2], '[2,2]':[0,0]}\n",
    "        # update dict turns whatever cardinal direction we're pointing in and returns the flip\n",
    "        # imagine a 3x3 grid standing for the compass, so north is at [0,1] and south is at [2,1]; so if we input N we return S\n",
    "        # just needed to define it once so moved it to init, left it here for clarity\n",
    "        \n",
    "        self.orientation = self.flip_orientation_dict[str(self.orientation)] # nice neat update!\n",
    "        \n",
    "\n",
    "    def drop_pheromone(self):\n",
    "        self.local_grid['pher'][1,1] += 1 #local_grid is a dict\n",
    "\n",
    "\n",
    "    \n",
    "        \n",
    "        "
   ]
  },
  {
   "cell_type": "code",
   "execution_count": 246,
   "id": "e8485127-87c5-4db7-859b-a89c835a4123",
   "metadata": {},
   "outputs": [
    {
     "ename": "SyntaxError",
     "evalue": "invalid syntax (2621773525.py, line 9)",
     "output_type": "error",
     "traceback": [
      "\u001b[0;36m  Cell \u001b[0;32mIn[246], line 9\u001b[0;36m\u001b[0m\n\u001b[0;31m    self.spawn_ants = # what do the ants need? each ant needs an initial coordinate and an initialized mind\u001b[0m\n\u001b[0m                      ^\u001b[0m\n\u001b[0;31mSyntaxError\u001b[0m\u001b[0;31m:\u001b[0m invalid syntax\n"
     ]
    }
   ],
   "source": [
    "class HiveMind:\n",
    "\n",
    "    def __init__(self, sugar_field):\n",
    "        self.sf = sugar_field # 1s and 0s\n",
    "        self.global_grid = {} # convert sugar field to absolute grid, which is a dict with two arrays and keys sugar and pher\n",
    "        self.global_grid['sugar'] = self.sf # set sugar field\n",
    "        self.global_grid['pher'] = np.zeros(np.shape(self.sf)) # initialize empty pheromone field\n",
    "        \n",
    "        self.spawn_ants = # what do the ants need? each ant needs an initial coordinate and an initialized mind\n",
    "\n",
    "    def next_turn(self):\n",
    "        \n",
    "        self.decay_pheromones()\n",
    "        self.move_ants()\n",
    "\n",
    "    def move_ants(self):\n",
    "\n",
    "        self.new_global_grid = copy.deepcopy(self.global_grid)\n",
    "    \n",
    "\n",
    "    def update_ant_and_grid(self, ant):\n",
    "        \"\"\"\n",
    "        each ant's state includes the ant object as well as its coordinates\n",
    "        to run the loop on the ant we need to use its coordinates to query the global grid (sugar_field)\n",
    "        \"\"\"\n",
    "        ant_mind = ant['mind']\n",
    "        ant_coord = ant['global_coord']\n",
    "\n",
    "        ant_local_grid = self.get_local_grid_from_coord(ant_coord)\n",
    "        ant_mind.move_ant(ant_local_grid) # tells you where the ant is moving and whether it got sugar\n",
    "\n",
    "        self.update_global_grid_due_to_ant(self, ant) # drop pheromone and possibly pick up sugar irl using old coords\n",
    "\n",
    "        ant['coord'] = self.update_ant_location(ant_mind.next_move) # update ant's coordinates irl\n",
    "        \n",
    "        # TODO: what order do we update the global grid in? OR how do we make updates additive? \n",
    "        \n",
    "        \n",
    "        # idea is to set self.new_grid = self.global_grid return the \"delta grid\" for each ant, add them all to self.new_grid, THEN set self.global_grid = self.new_grid\n",
    "        # ok this almost will work, but what if multiple ants pick up the sugar? that doesn't work. so we want the sugar to update directly\n",
    "        # to the global grid, so if one ant picks it up another cannot. but the pheromones we want to update once per turn, so that \n",
    "        # one ant's pheromone update earlier in the loop doesn't affect the next ant's update later in the loop\n",
    "\n",
    "        #TODO: I'm doing this wrong. pheromone decay should happen in the world, not for each ant. and the world should simply\n",
    "        # note an added pheromone point for the ant and possibly a sugar pickup\n",
    "\n",
    "        \n",
    "        return ant\n",
    "        \n",
    "    def get_local_grid_from_coord(self, coord):\n",
    "        \"\"\"takes in a coordinate for the global grid and returns the 3x3 local grid that the ant needs\"\"\"\n",
    "        return\n",
    "\n",
    "    def update_global_grid_due_to_ant(self, ant):\n",
    "        self.global_grid['pher'][ant['coord']] += 0 # add pheromones\n",
    "        if ant['mind'].picked_up_sugar:\n",
    "            self.global_grid['sugar'][ant['coord']] = 0 # set sugar to 0\n",
    "            \n",
    "        \n",
    "    def update_ant_location(self, next_move):\n",
    "        \"\"\"\n",
    "        using the next_move value which is like a cardinal direction e.g. [0,0] for northwest, update the ant's location. handle edge cases\n",
    "        \"\"\"\n",
    "        \n",
    "    \n",
    "        \n",
    "        "
   ]
  },
  {
   "cell_type": "code",
   "execution_count": 266,
   "id": "2a9823ad-1624-4531-aaef-0ae70d89aeed",
   "metadata": {},
   "outputs": [],
   "source": [
    "test_pher = np.zeros([3,3])\n",
    "test_pher[0,1] = 1\n",
    "test_pher[2,2]=0.5\n",
    "test_sugar = np.zeros([3,3])\n",
    "test_grid = {'pher':test_pher, 'sugar':test_sugar}\n",
    "test_ant = AntMind([0,1])"
   ]
  },
  {
   "cell_type": "markdown",
   "id": "8dc95f2c-4ecf-4db8-877e-bef108a74e96",
   "metadata": {},
   "source": [
    "#### TODO: \n",
    "\n",
    "ok we actually need to provide the ant with a new context each move! so after initializing we don't need to make a first move and on initializing we don't even need to feed it a grid. but each time we move we should feed it the current grid. then, we should return the grid as well as the ant's next move. this will allow the HiveMind to then update the ant's location on the real grid (not the relative grid). The ant itself never knows where it is on the real grid (though it has its trace!)\n",
    "\n"
   ]
  },
  {
   "cell_type": "code",
   "execution_count": 268,
   "id": "85acd261-53cc-4ac4-8b0f-f019b844713a",
   "metadata": {},
   "outputs": [],
   "source": [
    "test_ant.move_ant(test_grid)"
   ]
  },
  {
   "cell_type": "code",
   "execution_count": 269,
   "id": "93028e99-d2ed-4c7e-845c-5a3aba2da19d",
   "metadata": {},
   "outputs": [
    {
     "data": {
      "text/plain": [
       "{'sugar': array([[0., 0., 0.],\n",
       "        [0., 0., 0.],\n",
       "        [0., 0., 0.]]),\n",
       " 'pher': array([[0., 0., 0.],\n",
       "        [0., 1., 0.],\n",
       "        [0., 0., 0.]])}"
      ]
     },
     "execution_count": 269,
     "metadata": {},
     "output_type": "execute_result"
    }
   ],
   "source": [
    "test_ant.delta_grid"
   ]
  },
  {
   "cell_type": "code",
   "execution_count": 234,
   "id": "bbdb0dcb-1161-458f-a42b-b5ae3fdaa498",
   "metadata": {},
   "outputs": [
    {
     "data": {
      "text/plain": [
       "[2, 2]"
      ]
     },
     "execution_count": 234,
     "metadata": {},
     "output_type": "execute_result"
    }
   ],
   "source": [
    "test_ant.orientation"
   ]
  },
  {
   "cell_type": "code",
   "execution_count": 235,
   "id": "d92d4593-531b-423a-8424-3ecdb5e321ac",
   "metadata": {},
   "outputs": [
    {
     "data": {
      "text/plain": [
       "'[2, 2]'"
      ]
     },
     "execution_count": 235,
     "metadata": {},
     "output_type": "execute_result"
    }
   ],
   "source": [
    "str(test_ant.orientation)"
   ]
  },
  {
   "cell_type": "code",
   "execution_count": 236,
   "id": "a50385b3-7a11-4529-a13a-1e1a0954d690",
   "metadata": {},
   "outputs": [
    {
     "data": {
      "text/plain": [
       "array([[0.        , 0.28571429, 0.        ],\n",
       "       [0.        , 0.        , 0.14285714],\n",
       "       [0.        , 0.14285714, 0.42857143]])"
      ]
     },
     "execution_count": 236,
     "metadata": {},
     "output_type": "execute_result"
    }
   ],
   "source": [
    "test_ant.weights"
   ]
  },
  {
   "cell_type": "code",
   "execution_count": 237,
   "id": "075eeea5-a896-4b44-8542-9165d9c3d3e6",
   "metadata": {},
   "outputs": [
    {
     "data": {
      "text/plain": [
       "array([[0. , 1. , 0. ],\n",
       "       [0. , 5. , 0. ],\n",
       "       [0. , 0. , 0.5]])"
      ]
     },
     "execution_count": 237,
     "metadata": {},
     "output_type": "execute_result"
    }
   ],
   "source": [
    "test_ant.local_grid['pher']"
   ]
  },
  {
   "cell_type": "code",
   "execution_count": 149,
   "id": "a6610755-d019-4817-97ed-42e10a761bd1",
   "metadata": {},
   "outputs": [
    {
     "data": {
      "text/plain": [
       "2"
      ]
     },
     "execution_count": 149,
     "metadata": {},
     "output_type": "execute_result"
    }
   ],
   "source": [
    "np.random.choice(9, p=test_ant.weights.flatten())"
   ]
  },
  {
   "cell_type": "code",
   "execution_count": 150,
   "id": "ccff806a-f052-47fa-a0a8-fc39dd4daa85",
   "metadata": {},
   "outputs": [
    {
     "data": {
      "text/plain": [
       "(0, 2)"
      ]
     },
     "execution_count": 150,
     "metadata": {},
     "output_type": "execute_result"
    }
   ],
   "source": [
    "np.unravel_index(2, np.shape(test_ant.local_grid['pher']))"
   ]
  },
  {
   "cell_type": "code",
   "execution_count": 123,
   "id": "5c2a879c-cd19-4349-bae1-2c6d605abd06",
   "metadata": {},
   "outputs": [
    {
     "data": {
      "text/plain": [
       "[[0, 1], [1, 0]]"
      ]
     },
     "execution_count": 123,
     "metadata": {},
     "output_type": "execute_result"
    }
   ],
   "source": [
    "dummy_l = [[0,1],[0,-1],[-1,0],[1,0]]\n",
    "[el for el in dummy_l if (el!=[1,1] and el[0]>= 0 and el[0]<=2 and el[1]>=0 and el[1]<=2)] "
   ]
  },
  {
   "cell_type": "code",
   "execution_count": 94,
   "id": "33a0fda1-a2d0-489f-b50e-7b0fde640268",
   "metadata": {},
   "outputs": [],
   "source": [
    "a = [0,0]\n",
    "if a == [0,0]:\n",
    "    b = [2,2]"
   ]
  },
  {
   "cell_type": "code",
   "execution_count": 98,
   "id": "07028ae9-8868-4d4d-9d6c-f6d96694ba97",
   "metadata": {},
   "outputs": [
    {
     "data": {
      "text/plain": [
       "[1, 2]"
      ]
     },
     "execution_count": 98,
     "metadata": {},
     "output_type": "execute_result"
    }
   ],
   "source": [
    "json.loads('[1,2]')"
   ]
  },
  {
   "cell_type": "code",
   "execution_count": 99,
   "id": "718d67ac-6f24-4692-b1da-a263d563a562",
   "metadata": {},
   "outputs": [
    {
     "data": {
      "text/plain": [
       "[0, 1]"
      ]
     },
     "execution_count": 99,
     "metadata": {},
     "output_type": "execute_result"
    }
   ],
   "source": [
    "a = {'[1,2]':[0,1]}\n",
    "a['[1,2]']"
   ]
  },
  {
   "cell_type": "code",
   "execution_count": 105,
   "id": "947c7624-e89b-4f4b-9d20-6e20bccc08d9",
   "metadata": {},
   "outputs": [],
   "source": [
    "moves = [[0,0],[0,3],[2,3]]"
   ]
  },
  {
   "cell_type": "code",
   "execution_count": 107,
   "id": "dca45ed2-8cfb-4555-8011-791b63e27574",
   "metadata": {},
   "outputs": [
    {
     "ename": "TypeError",
     "evalue": "'list' object cannot be interpreted as an integer",
     "output_type": "error",
     "traceback": [
      "\u001b[0;31m---------------------------------------------------------------------------\u001b[0m",
      "\u001b[0;31mTypeError\u001b[0m                                 Traceback (most recent call last)",
      "Cell \u001b[0;32mIn[107], line 1\u001b[0m\n\u001b[0;32m----> 1\u001b[0m \u001b[43mmoves\u001b[49m\u001b[38;5;241;43m.\u001b[39;49m\u001b[43mpop\u001b[49m\u001b[43m(\u001b[49m\u001b[43mmoves\u001b[49m\u001b[43m[\u001b[49m\u001b[38;5;241;43m-\u001b[39;49m\u001b[38;5;241;43m1\u001b[39;49m\u001b[43m]\u001b[49m\u001b[43m)\u001b[49m\n",
      "\u001b[0;31mTypeError\u001b[0m: 'list' object cannot be interpreted as an integer"
     ]
    }
   ],
   "source": [
    "moves.pop(moves[-1])"
   ]
  },
  {
   "cell_type": "code",
   "execution_count": 110,
   "id": "4714a681-2a13-433c-950f-c5031919ed56",
   "metadata": {},
   "outputs": [
    {
     "data": {
      "text/plain": [
       "[2, 3]"
      ]
     },
     "execution_count": 110,
     "metadata": {},
     "output_type": "execute_result"
    }
   ],
   "source": [
    "moves.pop()"
   ]
  },
  {
   "cell_type": "code",
   "execution_count": 111,
   "id": "1c68ee22-d071-4562-88e7-59eec0f05eb1",
   "metadata": {},
   "outputs": [
    {
     "data": {
      "text/plain": [
       "[[0, 0], [0, 3]]"
      ]
     },
     "execution_count": 111,
     "metadata": {},
     "output_type": "execute_result"
    }
   ],
   "source": [
    "moves"
   ]
  },
  {
   "cell_type": "code",
   "execution_count": 112,
   "id": "b216cfc8-5472-479c-aeef-33513b8ecc97",
   "metadata": {},
   "outputs": [
    {
     "data": {
      "text/plain": [
       "array([[0., 0., 0.],\n",
       "       [0., 0., 0.],\n",
       "       [0., 0., 0.]])"
      ]
     },
     "execution_count": 112,
     "metadata": {},
     "output_type": "execute_result"
    }
   ],
   "source": [
    "np.zeros([3,3])"
   ]
  },
  {
   "cell_type": "markdown",
   "id": "ffa0db23-3485-463f-8b86-7d19ac324cbb",
   "metadata": {},
   "source": [
    "### experimenting with updating / copying in numpy\n",
    "\n",
    "from lots of pandas use I know copying vs deep copying can be a big issue. I want to make sure I'm getting it right when it comes to modifying dictionaries of objects of my making"
   ]
  },
  {
   "cell_type": "code",
   "execution_count": 256,
   "id": "95dd99fe-8dba-4729-b63f-358e0a4508fa",
   "metadata": {},
   "outputs": [
    {
     "data": {
      "text/plain": [
       "{'a': 1, 'b': 2}"
      ]
     },
     "execution_count": 256,
     "metadata": {},
     "output_type": "execute_result"
    }
   ],
   "source": [
    "a = {'a':1}\n",
    "b = a\n",
    "b['b'] = 2\n",
    "a\n",
    "\n",
    "# so yeah the dict is just one object it's not a deep copy"
   ]
  },
  {
   "cell_type": "code",
   "execution_count": 254,
   "id": "8f2727ea-1b0c-43b4-b2ae-509cae11ffaf",
   "metadata": {},
   "outputs": [],
   "source": [
    "class dummy_counter:\n",
    "\n",
    "    def __init__(self):\n",
    "        self.val = 1\n",
    "        \n",
    "    def update(self):\n",
    "        self.val += self.val"
   ]
  },
  {
   "cell_type": "code",
   "execution_count": 258,
   "id": "c5754a89-cb02-4cee-af3b-61538b0dc0a7",
   "metadata": {},
   "outputs": [
    {
     "data": {
      "text/plain": [
       "2"
      ]
     },
     "execution_count": 258,
     "metadata": {},
     "output_type": "execute_result"
    }
   ],
   "source": [
    "dc = dummy_counter()\n",
    "\n",
    "a = {'a':dc}\n",
    "x = a['a']\n",
    "x.update()\n",
    "a['a'].val\n",
    "\n",
    "#from the looks of this, the object in the dictionary also got updated in place, no need to manually assign an update"
   ]
  },
  {
   "cell_type": "code",
   "execution_count": 259,
   "id": "aba6ca51-bcba-4489-b0bf-730c1412e09c",
   "metadata": {},
   "outputs": [],
   "source": [
    "import copy"
   ]
  },
  {
   "cell_type": "code",
   "execution_count": 260,
   "id": "39ea72c6-f1ca-471c-bc58-b409786c60aa",
   "metadata": {},
   "outputs": [
    {
     "data": {
      "text/plain": [
       "{'a': 1}"
      ]
     },
     "execution_count": 260,
     "metadata": {},
     "output_type": "execute_result"
    }
   ],
   "source": [
    "#copy.deepcopy\n",
    "\n",
    "a = {'a':1}\n",
    "b = copy.deepcopy(a)\n",
    "b['b'] = 2\n",
    "a\n",
    "# deepcopy works"
   ]
  },
  {
   "cell_type": "code",
   "execution_count": 264,
   "id": "920d8237-941b-4e93-962d-53b472359c27",
   "metadata": {},
   "outputs": [
    {
     "name": "stdout",
     "output_type": "stream",
     "text": [
      "1\n",
      "2\n"
     ]
    }
   ],
   "source": [
    "# what about with objects?\n",
    "\n",
    "dc = dummy_counter()\n",
    "\n",
    "a = {'a':dc}\n",
    "b = copy.deepcopy(a)\n",
    "b['a'].update()\n",
    "print(a['a'].val)\n",
    "print(b['a'].val)\n",
    "\n",
    "# yup also works! the object itself gets deep copied, very nice"
   ]
  },
  {
   "cell_type": "code",
   "execution_count": 262,
   "id": "1c32823e-3494-47c1-8944-196eb14b9386",
   "metadata": {},
   "outputs": [
    {
     "data": {
      "text/plain": [
       "2"
      ]
     },
     "execution_count": 262,
     "metadata": {},
     "output_type": "execute_result"
    }
   ],
   "source": []
  },
  {
   "cell_type": "code",
   "execution_count": null,
   "id": "6acce776-0f05-4e8f-a5d4-8cff884e62a5",
   "metadata": {},
   "outputs": [],
   "source": []
  },
  {
   "cell_type": "code",
   "execution_count": null,
   "id": "a10d062a-0b84-41ef-b3ec-c1500d9912c3",
   "metadata": {},
   "outputs": [],
   "source": []
  }
 ],
 "metadata": {
  "kernelspec": {
   "display_name": "Python 3 (ipykernel)",
   "language": "python",
   "name": "python3"
  },
  "language_info": {
   "codemirror_mode": {
    "name": "ipython",
    "version": 3
   },
   "file_extension": ".py",
   "mimetype": "text/x-python",
   "name": "python",
   "nbconvert_exporter": "python",
   "pygments_lexer": "ipython3",
   "version": "3.9.5"
  }
 },
 "nbformat": 4,
 "nbformat_minor": 5
}
