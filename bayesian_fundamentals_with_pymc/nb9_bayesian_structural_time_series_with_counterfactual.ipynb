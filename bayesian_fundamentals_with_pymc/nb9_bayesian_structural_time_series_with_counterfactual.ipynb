{
 "cells": [
  {
   "cell_type": "markdown",
   "id": "7565e180-9de3-4cf5-9aea-6390e21469f3",
   "metadata": {},
   "source": [
    "# BSTS: Bayesian Structural Time Series\n",
    "\n",
    "In general we'll explore what we see here:\n",
    "https://www.takayabe.net/post/pystan-bsts\n",
    "\n",
    "Let's see if we can implement something similar in pymc3 and do the counterfactual analysis they did here"
   ]
  },
  {
   "cell_type": "code",
   "execution_count": null,
   "id": "d5dc27e4-5757-4687-bbc8-8d56e929026c",
   "metadata": {},
   "outputs": [],
   "source": []
  }
 ],
 "metadata": {
  "kernelspec": {
   "display_name": "Python 3 (ipykernel)",
   "language": "python",
   "name": "python3"
  },
  "language_info": {
   "codemirror_mode": {
    "name": "ipython",
    "version": 3
   },
   "file_extension": ".py",
   "mimetype": "text/x-python",
   "name": "python",
   "nbconvert_exporter": "python",
   "pygments_lexer": "ipython3",
   "version": "3.9.5"
  }
 },
 "nbformat": 4,
 "nbformat_minor": 5
}
