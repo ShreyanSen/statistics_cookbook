{
 "cells": [
  {
   "cell_type": "code",
   "execution_count": null,
   "id": "42a3d66e-4972-4d15-9e99-1c5248101bd6",
   "metadata": {},
   "outputs": [],
   "source": [
    "import llm"
   ]
  },
  {
   "cell_type": "code",
   "execution_count": null,
   "id": "78d87e74-c457-47ec-ab9d-527645b8dab8",
   "metadata": {},
   "outputs": [],
   "source": [
    "model = llm.get_model(\"orca-mini-3b-gguf2-q4_0\")\n",
    "response = model.prompt(\"Five surprising names for a pet pelican\")"
   ]
  },
  {
   "cell_type": "code",
   "execution_count": null,
   "id": "63530cbd-0cbe-420c-8e37-ed0ba11833a7",
   "metadata": {
    "scrolled": true
   },
   "outputs": [],
   "source": [
    "print(response)"
   ]
  },
  {
   "cell_type": "code",
   "execution_count": null,
   "id": "40df0d6c-fb31-44fa-ba34-5c0acbef028d",
   "metadata": {},
   "outputs": [],
   "source": []
  }
 ],
 "metadata": {
  "kernelspec": {
   "display_name": "Python 3 (ipykernel)",
   "language": "python",
   "name": "python3"
  },
  "language_info": {
   "codemirror_mode": {
    "name": "ipython",
    "version": 3
   },
   "file_extension": ".py",
   "mimetype": "text/x-python",
   "name": "python",
   "nbconvert_exporter": "python",
   "pygments_lexer": "ipython3",
   "version": "3.10.5"
  }
 },
 "nbformat": 4,
 "nbformat_minor": 5
}
