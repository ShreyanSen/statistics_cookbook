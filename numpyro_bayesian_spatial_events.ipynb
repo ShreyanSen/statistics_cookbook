{
 "cells": [
  {
   "cell_type": "code",
   "execution_count": 4,
   "id": "f114a9eb-bef0-48ca-baf6-b4a03b972a63",
   "metadata": {},
   "outputs": [],
   "source": [
    "import numpy as np\n",
    "import gc\n",
    "\n",
    "import jax\n",
    "import jax.numpy as jnp\n",
    "import numpyro\n",
    "import numpyro.distributions as dist\n",
    "from numpyro.infer import MCMC, NUTS, Predictive\n",
    "from numpyro.contrib.funsor import config_enumerate\n",
    "from jax.random import PRNGKey\n",
    "\n",
    "import arviz as az\n",
    "\n",
    "from typing import Optional\n",
    "import numpy.typing as npt"
   ]
  },
  {
   "cell_type": "markdown",
   "id": "4e9ee8fd-2828-4b64-84dc-ef31b6538238",
   "metadata": {},
   "source": [
    "Input data is fairly straightforward. We have two numpy rows: one, a series of event detections, and one, a series of looks. Each time we look at a location we can either have a detection or non-detection.\n",
    "\n",
    "We model each location where there is a leak as having a probability $P$ of being detected. We draw these probabilities from a beta distribution $P_i$ ~ Beta(1, $\\beta$ )\n",
    "\n",
    "However we have a second population where there is no leak. Locations with 0 detections can either be drawn from this population or the other one. \n",
    "\n",
    "This is a mixture model. \n",
    "\n",
    "\n",
    "\n",
    "\n",
    "\n",
    "\n"
   ]
  },
  {
   "cell_type": "code",
   "execution_count": 22,
   "id": "e78a23f4-93bf-494a-a527-d8dad5063844",
   "metadata": {},
   "outputs": [
    {
     "data": {
      "text/plain": [
       "array([0., 0., 0., 0.])"
      ]
     },
     "execution_count": 22,
     "metadata": {},
     "output_type": "execute_result"
    }
   ],
   "source": [
    "np.zeros(4)"
   ]
  },
  {
   "cell_type": "code",
   "execution_count": 27,
   "id": "500b1333-0c1f-4178-bfc9-21cb2f6436ff",
   "metadata": {},
   "outputs": [],
   "source": [
    "n_detections = np.concatenate((np.random.randint(0,5, 30), np.zeros(20)))\n",
    "n_looks = n_detections + np.random.randint(1,50, 50)"
   ]
  },
  {
   "cell_type": "code",
   "execution_count": 28,
   "id": "c2928499-792c-42cc-bc50-36cfcd5388e0",
   "metadata": {},
   "outputs": [
    {
     "data": {
      "text/plain": [
       "array([0.02439024, 0.11764706, 0.        , 0.14285714, 0.28571429,\n",
       "       0.04545455, 0.06060606, 0.04761905, 0.04878049, 0.25      ,\n",
       "       0.22222222, 0.04761905, 0.36363636, 0.13333333, 0.04255319,\n",
       "       0.        , 0.17647059, 0.        , 0.21052632, 0.        ,\n",
       "       0.11764706, 0.02222222, 0.14285714, 0.3       , 0.44444444,\n",
       "       0.        , 0.11111111, 0.02380952, 0.04651163, 0.        ,\n",
       "       0.        , 0.        , 0.        , 0.        , 0.        ,\n",
       "       0.        , 0.        , 0.        , 0.        , 0.        ,\n",
       "       0.        , 0.        , 0.        , 0.        , 0.        ,\n",
       "       0.        , 0.        , 0.        , 0.        , 0.        ])"
      ]
     },
     "execution_count": 28,
     "metadata": {},
     "output_type": "execute_result"
    }
   ],
   "source": [
    "n_detections/n_looks"
   ]
  },
  {
   "cell_type": "code",
   "execution_count": null,
   "id": "194600cf-bbb8-4184-9f7f-ec334b6eb45b",
   "metadata": {},
   "outputs": [],
   "source": []
  }
 ],
 "metadata": {
  "kernelspec": {
   "display_name": "Python 3 (ipykernel)",
   "language": "python",
   "name": "python3"
  },
  "language_info": {
   "codemirror_mode": {
    "name": "ipython",
    "version": 3
   },
   "file_extension": ".py",
   "mimetype": "text/x-python",
   "name": "python",
   "nbconvert_exporter": "python",
   "pygments_lexer": "ipython3",
   "version": "3.9.5"
  }
 },
 "nbformat": 4,
 "nbformat_minor": 5
}
